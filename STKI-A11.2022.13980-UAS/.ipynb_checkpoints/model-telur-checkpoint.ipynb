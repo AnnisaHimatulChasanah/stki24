{
 "cells": [
  {
   "cell_type": "code",
   "execution_count": 1,
   "id": "db08d6fb-6166-4b56-b885-179444c940bb",
   "metadata": {},
   "outputs": [],
   "source": [
    "import pandas as pd\n",
    "import numpy as np\n",
    "import collections\n",
    "import gensim \n",
    "from gensim.models import word2vec, phrases\n",
    "from gensim.parsing.preprocessing import remove_stopwords, strip_punctuation, strip_numeric,\\\n",
    "                    strip_non_alphanum, strip_multiple_whitespaces, strip_short\n",
    "from textblob import TextBlob, Word\n",
    "\n",
    "import re\n",
    "import matplotlib.pyplot as plt\n",
    "import matplotlib.patches as mpatches\n",
    "import seaborn as sns\n",
    "%matplotlib inline"
   ]
  },
  {
   "cell_type": "code",
   "execution_count": 2,
   "id": "fb3b8a69-3c39-4e58-9831-98d6cd7231b7",
   "metadata": {},
   "outputs": [
    {
     "name": "stdout",
     "output_type": "stream",
     "text": [
      " -  .ipynb_checkpoints\n",
      " -  data_indo\n",
      " -  env\n",
      " -  model-ayam.ipynb\n",
      " -  model-ikan.ipynb\n",
      " -  model-kambing.ipynb\n",
      " -  model-sapi.ipynb\n",
      " -  model-tahu.ipynb\n",
      " -  model-telur.ipynb\n",
      " -  model.ipynb\n",
      " -  models\n",
      " -  processed\n",
      " -  requirements.txt\n",
      "found 13 files!\n"
     ]
    }
   ],
   "source": [
    "import os\n",
    "fc=0\n",
    "for el in os.listdir(\".\"):\n",
    "    fc+=1\n",
    "    print(\" - \",el)\n",
    "print(\"found\",fc,\"files!\")"
   ]
  },
  {
   "cell_type": "code",
   "execution_count": 3,
   "id": "53584002-dbb8-4339-aacd-b086912befee",
   "metadata": {},
   "outputs": [],
   "source": [
    "files = [\n",
    "    'data_indo/dataset-ayam.csv',\n",
    "    'data_indo/dataset-ikan.csv',\n",
    "    'data_indo/dataset-kambing.csv',\n",
    "    'data_indo/dataset-sapi.csv',\n",
    "    'data_indo/dataset-tahu.csv',\n",
    "    'data_indo/dataset-tempe.csv',\n",
    "    'data_indo/dataset-telur.csv',\n",
    "    'data_indo/dataset-udang.csv'\n",
    "]"
   ]
  },
  {
   "cell_type": "code",
   "execution_count": 4,
   "id": "fdc03c86-6655-4d6b-8f5f-ca2c242fea91",
   "metadata": {},
   "outputs": [
    {
     "data": {
      "text/html": [
       "<div>\n",
       "<style scoped>\n",
       "    .dataframe tbody tr th:only-of-type {\n",
       "        vertical-align: middle;\n",
       "    }\n",
       "\n",
       "    .dataframe tbody tr th {\n",
       "        vertical-align: top;\n",
       "    }\n",
       "\n",
       "    .dataframe thead th {\n",
       "        text-align: right;\n",
       "    }\n",
       "</style>\n",
       "<table border=\"1\" class=\"dataframe\">\n",
       "  <thead>\n",
       "    <tr style=\"text-align: right;\">\n",
       "      <th></th>\n",
       "      <th>Title</th>\n",
       "      <th>Ingredients</th>\n",
       "      <th>Steps</th>\n",
       "      <th>Loves</th>\n",
       "      <th>URL</th>\n",
       "    </tr>\n",
       "  </thead>\n",
       "  <tbody>\n",
       "    <tr>\n",
       "      <th>0</th>\n",
       "      <td>Orak arik telur buncis</td>\n",
       "      <td>1 buah telur--10 buncis--3 bawang merah--2 baw...</td>\n",
       "      <td>Haluskan bawang merah, bawang putih dan cabai-...</td>\n",
       "      <td>1</td>\n",
       "      <td>/id/resep/4474114-orak-arik-telur-buncis</td>\n",
       "    </tr>\n",
       "    <tr>\n",
       "      <th>1</th>\n",
       "      <td>Terik ayam tempe telor</td>\n",
       "      <td>4 sayap ayam--4 buah telor--1/2 papan tempe--B...</td>\n",
       "      <td>Cuci sayap ayam kemudian sisihkan. Rebus telur...</td>\n",
       "      <td>6</td>\n",
       "      <td>/id/resep/4474066-terik-ayam-tempe-telor</td>\n",
       "    </tr>\n",
       "    <tr>\n",
       "      <th>2</th>\n",
       "      <td>Telur Kornet</td>\n",
       "      <td>1/2 kaleng kornet--2-3 buah bawang prei--2 bua...</td>\n",
       "      <td>Campur kornet, telur, bawang prei dan cabe yg ...</td>\n",
       "      <td>7</td>\n",
       "      <td>/id/resep/4473838-telur-kornet</td>\n",
       "    </tr>\n",
       "    <tr>\n",
       "      <th>3</th>\n",
       "      <td>Tahu telur surabaya</td>\n",
       "      <td>1 butir telur--1 potong tahu putih goreng sete...</td>\n",
       "      <td>Uleg kacang, cabai, bawang putih, gula merah, ...</td>\n",
       "      <td>10</td>\n",
       "      <td>/id/resep/4473784-tahu-telur-surabaya</td>\n",
       "    </tr>\n",
       "    <tr>\n",
       "      <th>4</th>\n",
       "      <td>Telur ceplok masak kecap</td>\n",
       "      <td>4 butir telur--4 siung bwng merah--2 siung bwn...</td>\n",
       "      <td>Ceplok telur lalu sisihkan--Iris tipis dua bwn...</td>\n",
       "      <td>0</td>\n",
       "      <td>/id/resep/4473512-telur-ceplok-masak-kecap</td>\n",
       "    </tr>\n",
       "  </tbody>\n",
       "</table>\n",
       "</div>"
      ],
      "text/plain": [
       "                      Title  \\\n",
       "0    Orak arik telur buncis   \n",
       "1    Terik ayam tempe telor   \n",
       "2              Telur Kornet   \n",
       "3       Tahu telur surabaya   \n",
       "4  Telur ceplok masak kecap   \n",
       "\n",
       "                                         Ingredients  \\\n",
       "0  1 buah telur--10 buncis--3 bawang merah--2 baw...   \n",
       "1  4 sayap ayam--4 buah telor--1/2 papan tempe--B...   \n",
       "2  1/2 kaleng kornet--2-3 buah bawang prei--2 bua...   \n",
       "3  1 butir telur--1 potong tahu putih goreng sete...   \n",
       "4  4 butir telur--4 siung bwng merah--2 siung bwn...   \n",
       "\n",
       "                                               Steps  Loves  \\\n",
       "0  Haluskan bawang merah, bawang putih dan cabai-...      1   \n",
       "1  Cuci sayap ayam kemudian sisihkan. Rebus telur...      6   \n",
       "2  Campur kornet, telur, bawang prei dan cabe yg ...      7   \n",
       "3  Uleg kacang, cabai, bawang putih, gula merah, ...     10   \n",
       "4  Ceplok telur lalu sisihkan--Iris tipis dua bwn...      0   \n",
       "\n",
       "                                          URL  \n",
       "0    /id/resep/4474114-orak-arik-telur-buncis  \n",
       "1    /id/resep/4474066-terik-ayam-tempe-telor  \n",
       "2              /id/resep/4473838-telur-kornet  \n",
       "3       /id/resep/4473784-tahu-telur-surabaya  \n",
       "4  /id/resep/4473512-telur-ceplok-masak-kecap  "
      ]
     },
     "execution_count": 4,
     "metadata": {},
     "output_type": "execute_result"
    }
   ],
   "source": [
    "raw = pd.read_csv(r\"data_indo/dataset-telur.csv\")\n",
    "df = raw.copy()\n",
    "df.head()"
   ]
  },
  {
   "cell_type": "code",
   "execution_count": 5,
   "id": "ec41f83e-e2d4-4b6f-88b8-0de78ff92860",
   "metadata": {},
   "outputs": [
    {
     "data": {
      "text/html": [
       "<div>\n",
       "<style scoped>\n",
       "    .dataframe tbody tr th:only-of-type {\n",
       "        vertical-align: middle;\n",
       "    }\n",
       "\n",
       "    .dataframe tbody tr th {\n",
       "        vertical-align: top;\n",
       "    }\n",
       "\n",
       "    .dataframe thead th {\n",
       "        text-align: right;\n",
       "    }\n",
       "</style>\n",
       "<table border=\"1\" class=\"dataframe\">\n",
       "  <thead>\n",
       "    <tr style=\"text-align: right;\">\n",
       "      <th></th>\n",
       "      <th>Title</th>\n",
       "      <th>Ingredients</th>\n",
       "      <th>Steps</th>\n",
       "      <th>Loves</th>\n",
       "    </tr>\n",
       "  </thead>\n",
       "  <tbody>\n",
       "    <tr>\n",
       "      <th>0</th>\n",
       "      <td>Orak arik telur buncis</td>\n",
       "      <td>1 buah telur--10 buncis--3 bawang merah--2 baw...</td>\n",
       "      <td>Haluskan bawang merah, bawang putih dan cabai-...</td>\n",
       "      <td>1</td>\n",
       "    </tr>\n",
       "    <tr>\n",
       "      <th>1</th>\n",
       "      <td>Terik ayam tempe telor</td>\n",
       "      <td>4 sayap ayam--4 buah telor--1/2 papan tempe--B...</td>\n",
       "      <td>Cuci sayap ayam kemudian sisihkan. Rebus telur...</td>\n",
       "      <td>6</td>\n",
       "    </tr>\n",
       "    <tr>\n",
       "      <th>2</th>\n",
       "      <td>Telur Kornet</td>\n",
       "      <td>1/2 kaleng kornet--2-3 buah bawang prei--2 bua...</td>\n",
       "      <td>Campur kornet, telur, bawang prei dan cabe yg ...</td>\n",
       "      <td>7</td>\n",
       "    </tr>\n",
       "    <tr>\n",
       "      <th>3</th>\n",
       "      <td>Tahu telur surabaya</td>\n",
       "      <td>1 butir telur--1 potong tahu putih goreng sete...</td>\n",
       "      <td>Uleg kacang, cabai, bawang putih, gula merah, ...</td>\n",
       "      <td>10</td>\n",
       "    </tr>\n",
       "    <tr>\n",
       "      <th>4</th>\n",
       "      <td>Telur ceplok masak kecap</td>\n",
       "      <td>4 butir telur--4 siung bwng merah--2 siung bwn...</td>\n",
       "      <td>Ceplok telur lalu sisihkan--Iris tipis dua bwn...</td>\n",
       "      <td>0</td>\n",
       "    </tr>\n",
       "  </tbody>\n",
       "</table>\n",
       "</div>"
      ],
      "text/plain": [
       "                      Title  \\\n",
       "0    Orak arik telur buncis   \n",
       "1    Terik ayam tempe telor   \n",
       "2              Telur Kornet   \n",
       "3       Tahu telur surabaya   \n",
       "4  Telur ceplok masak kecap   \n",
       "\n",
       "                                         Ingredients  \\\n",
       "0  1 buah telur--10 buncis--3 bawang merah--2 baw...   \n",
       "1  4 sayap ayam--4 buah telor--1/2 papan tempe--B...   \n",
       "2  1/2 kaleng kornet--2-3 buah bawang prei--2 bua...   \n",
       "3  1 butir telur--1 potong tahu putih goreng sete...   \n",
       "4  4 butir telur--4 siung bwng merah--2 siung bwn...   \n",
       "\n",
       "                                               Steps  Loves  \n",
       "0  Haluskan bawang merah, bawang putih dan cabai-...      1  \n",
       "1  Cuci sayap ayam kemudian sisihkan. Rebus telur...      6  \n",
       "2  Campur kornet, telur, bawang prei dan cabe yg ...      7  \n",
       "3  Uleg kacang, cabai, bawang putih, gula merah, ...     10  \n",
       "4  Ceplok telur lalu sisihkan--Iris tipis dua bwn...      0  "
      ]
     },
     "execution_count": 5,
     "metadata": {},
     "output_type": "execute_result"
    }
   ],
   "source": [
    "#we keep the Translated versions of Ingredients and Instructions (already pre-processed data)\n",
    "columns_to_drop = ['URL']\n",
    "df_indoRecipes = df.drop(columns = columns_to_drop).dropna()\n",
    "\n",
    "df_indoRecipes.head()"
   ]
  },
  {
   "cell_type": "code",
   "execution_count": 6,
   "id": "7e3fb99d-ff5f-4bb4-ab87-4f3018b7fe8d",
   "metadata": {},
   "outputs": [
    {
     "data": {
      "image/png": "[encoded data removed]",
      "text/plain": [
       "<Figure size 800x400 with 1 Axes>"
      ]
     },
     "metadata": {},
     "output_type": "display_data"
    }
   ],
   "source": [
    "bins = [0, 10, 20, 30, 40, 50, 60, 70, 80, 90, 100]  # You can adjust these ranges based on your data\n",
    "labels = ['0-10', '11-20', '21-30', '31-40', '41-50', '51-60', '61-70', '71-80', '81-90', '91-100']\n",
    "\n",
    "df_indoRecipes['Loves_bin'] = pd.cut(df_indoRecipes['Loves'], bins=bins, labels=labels, right=True)\n",
    "\n",
    "# Count frequencies in each bin\n",
    "counts = df_indoRecipes['Loves_bin'].value_counts().sort_index()\n",
    "\n",
    "# Create a DataFrame for plotting\n",
    "mc = pd.DataFrame(counts).reset_index()\n",
    "mc.columns = ['Likes Range', 'Frequency']\n",
    "\n",
    "# Plot the data\n",
    "mc.plot(kind='barh', x='Likes Range', color='turquoise', figsize=(8,4))\n",
    "plt.xlabel('Frequency')\n",
    "plt.ylabel('Likes Range')\n",
    "plt.title('Frequency of Recipes by Likes Range')\n",
    "plt.grid(axis='x', linestyle='--', alpha=0.7)\n",
    "plt.show()"
   ]
  },
  {
   "cell_type": "code",
   "execution_count": 7,
   "id": "3248b44d-e833-444d-8856-32cc893d1aab",
   "metadata": {},
   "outputs": [
    {
     "name": "stdout",
     "output_type": "stream",
     "text": [
      "                            File  Row Count\n",
      "0     data_indo/dataset-ayam.csv       1916\n",
      "1     data_indo/dataset-ikan.csv       1932\n",
      "2  data_indo/dataset-kambing.csv       1896\n",
      "3     data_indo/dataset-sapi.csv       1958\n",
      "4     data_indo/dataset-tahu.csv       1985\n",
      "5    data_indo/dataset-tempe.csv       1986\n",
      "6    data_indo/dataset-telur.csv       1974\n",
      "7    data_indo/dataset-udang.csv       1994\n"
     ]
    },
    {
     "data": {
      "image/png": "[encoded data removed]",
      "text/plain": [
       "<Figure size 1000x600 with 1 Axes>"
      ]
     },
     "metadata": {},
     "output_type": "display_data"
    }
   ],
   "source": [
    "row_counts_dict = {}\n",
    "\n",
    "# Read each CSV and count the rows\n",
    "for file in files:\n",
    "    try:\n",
    "        # Read the CSV file\n",
    "        df = pd.read_csv(file)\n",
    "        \n",
    "        # Count the number of rows\n",
    "        row_count = len(df)\n",
    "        \n",
    "        # Store row count in the dictionary\n",
    "        row_counts_dict[file] = row_count\n",
    "    except Exception as e:\n",
    "        print(f\"Error processing {file}: {e}\")\n",
    "\n",
    "# Convert row_counts_dict to a DataFrame for plotting\n",
    "row_counts_df = pd.DataFrame(list(row_counts_dict.items()), columns=['File', 'Row Count'])\n",
    "\n",
    "# Print the row counts DataFrame\n",
    "print(row_counts_df)\n",
    "\n",
    "# Plot the row counts\n",
    "fig, ax = plt.subplots(figsize=(10, 6))\n",
    "\n",
    "# Plotting the row counts\n",
    "row_counts_df.plot(kind='bar', x='File', y='Row Count', ax=ax, color='skyblue', legend=False)\n",
    "plt.title('Row Count Comparison Across CSV Files')\n",
    "plt.xlabel('File')\n",
    "plt.ylabel('Row Count')\n",
    "plt.xticks(rotation=45, ha='right')\n",
    "plt.grid(axis='y', linestyle='--', alpha=0.7)\n",
    "\n",
    "# Adjust layout to fit labels\n",
    "plt.tight_layout()\n",
    "\n",
    "# Show the plot\n",
    "plt.show()"
   ]
  },
  {
   "cell_type": "code",
   "execution_count": 8,
   "id": "600582a0-e0d9-4e39-9f83-e208a81874b6",
   "metadata": {},
   "outputs": [
    {
     "name": "stdout",
     "output_type": "stream",
     "text": [
      "Shape of recipe data: (1815, 5)\n"
     ]
    }
   ],
   "source": [
    "#some more processing, dropping columns in hindi, copied from a notebook in kaggle\n",
    "#df_indoRecipes = df_indoRecipes['TranslatedIngredients']\n",
    "def isEnglish(s):\n",
    "    try:\n",
    "        s.encode(encoding='utf-8').decode('ascii')\n",
    "    except UnicodeDecodeError:\n",
    "        return False\n",
    "    else:\n",
    "        return True\n",
    "    \n",
    "#create boolean mask\n",
    "mask = df_indoRecipes['Ingredients'].apply(isEnglish)\n",
    "df_indoRecipes = df_indoRecipes[mask].dropna()\n",
    "\n",
    "print(\"Shape of recipe data:\",df_indoRecipes.shape)"
   ]
  },
  {
   "cell_type": "code",
   "execution_count": 9,
   "id": "2b2a1d55-2f97-4143-8de0-dd118c9a9b31",
   "metadata": {},
   "outputs": [],
   "source": [
    "#more preprocessing on the text fields\n",
    "df_indoRecipes['Ingredients'] = df_indoRecipes['Ingredients'].apply(lambda x: x.lower())\n",
    "\n",
    "total_ingredients = []\n",
    "all_receipes_ingredients =  []\n",
    "for i in range(len(df_indoRecipes)):\n",
    "    all_ingredients = list()\n",
    "    #split each recipe into different ingredients\n",
    "    try:\n",
    "        ingred = df_indoRecipes.loc[i, \"Ingredients\"][1:-1]\n",
    "    except:\n",
    "        continue;\n",
    "      \n",
    "    for ing in (ingred.split(',')):\n",
    "        ing = remove_stopwords(ing)\n",
    "        ing = strip_numeric(ing)\n",
    "        ing = re.sub(r'\\(.*oz.\\)|(®)|(.*ed)|(.*ly)|tast|sprig|inch|purpose|flmy|taste|boneless|skinless|chunks|fresh|large|cook drain|green|frozen|ground|tablespoon|teaspoon|cup','',ing).strip()\n",
    "        ing = strip_short(ing,2)\n",
    "        ing = strip_multiple_whitespaces(ing)\n",
    "        ing = strip_punctuation(ing)\n",
    "        ing = strip_non_alphanum(ing)\n",
    "        \n",
    "        #convert plurals to singular e.g. tomatoes --> tomato\n",
    "        # ing = (\" \".join(TextBlob(ing).words.singularize()))\n",
    "        if len(ing)>0:\n",
    "            all_ingredients.append(ing)\n",
    "            total_ingredients.append(ing)\n",
    "    all_receipes_ingredients.append(all_ingredients)\n",
    "counts_ingr = collections.Counter(total_ingredients)\n",
    "all_receipes_ingredients.append(all_ingredients)"
   ]
  },
  {
   "cell_type": "code",
   "execution_count": 10,
   "id": "66ba0653-6846-4688-ab62-5303858b0225",
   "metadata": {},
   "outputs": [
    {
     "name": "stdout",
     "output_type": "stream",
     "text": [
      "---- Most Common Ingredients ----\n",
      "[('gula', 60), ('ap rasa ', 39), ('garam', 34), ('butir telur', 32), ('ap ', 29), ('iris  siung bawang putih', 16), ('butir telur ayam', 15), ('rebus', 14), ('merica', 13), ('lada', 13), ('ikit air ', 11), ('iris tipis  siung bawang putih', 9), ('ang', 9), ('ri', 8), ('kaldu bubuk ', 8), ('kupas', 8), ('merica ', 7), ('as ', 7), ('ap', 7), ('garam ', 7), ('ap rasa', 6), ('gula ', 5), ('kaldu bubuk', 5), ('ikit garam ', 5), ('iris  buah tomat', 4)]\n",
      "\n",
      "\n",
      "---- Least Common Ingredients ----\n",
      "[('rajang  siung bawang merah', 1), ('rajang  sdm kecap manis  daun bawang', 1), ('rajang  boleh skip secukupnya air secukupnya garam secukupnya lada secukupnya minyak goreng ', 1), ('rebus  potong tahu sutera', 1), ('goreng  ml air bumbu halus  siung bawang merah  siung bawang putih  butir pala  sdt lada butir  sdt ketumbar butir', 1), ('sangrai  butir kemiri', 1), ('sangrai bumbu cemplung  btg sereh', 1), ('geprek  ruas lengkuas', 1), ('geprek  lembar daun salam secukupnya garam', 1), ('kecap manis royco ', 1)]\n",
      "type counts ingr <class 'collections.Counter'>\n"
     ]
    },
    {
     "data": {
      "text/plain": [
       "<Axes: ylabel='word'>"
      ]
     },
     "execution_count": 10,
     "metadata": {},
     "output_type": "execute_result"
    },
    {
     "data": {
      "image/png": "[encoded data removed]",
      "text/plain": [
       "<Figure size 640x480 with 1 Axes>"
      ]
     },
     "metadata": {},
     "output_type": "display_data"
    }
   ],
   "source": [
    "#find the most common ingredients used across all recipes\n",
    "print (\"---- Most Common Ingredients ----\")\n",
    "print (counts_ingr.most_common(25))\n",
    "\n",
    "print (\"\\n\")\n",
    "#find the most common ingredients used across all recipes\n",
    "print (\"---- Least Common Ingredients ----\")\n",
    "print (counts_ingr.most_common()[-10:])\n",
    "print(\"type counts ingr\",type(counts_ingr))\n",
    "\n",
    "most_common = counts_ingr.most_common(25)\n",
    "mc = pd.DataFrame(most_common, columns=['word', 'frequency'])\n",
    "\n",
    "#print(\"\\nMost common:\\n\", mc)\n",
    "mc.plot(kind='barh', x='word', align='center', color='turquoise')"
   ]
  },
  {
   "cell_type": "code",
   "execution_count": 11,
   "id": "0352ba10-d0bc-4411-862b-fb6ac5ff287a",
   "metadata": {},
   "outputs": [
    {
     "name": "stdout",
     "output_type": "stream",
     "text": [
      "len 1741\n"
     ]
    }
   ],
   "source": [
    "#convert to lower case\n",
    "df_indoRecipes['Steps'] = df_indoRecipes['Steps'].apply(lambda x: x.lower())\n",
    "\n",
    "#total_ingredients = []\n",
    "all_instructions =  []\n",
    "\n",
    "#len(df_indoRecipes)\n",
    "for i in range(len(df_indoRecipes)):\n",
    "    #split each recipe into different ingredients\n",
    "    try:\n",
    "        instrs = df_indoRecipes.loc[i, \"Ingredients\"][1:-1]\n",
    "        #print(\"instrs\\n\",instrs)\n",
    "    except:\n",
    "        continue;      \n",
    "    for instr in (instrs.split('.')):\n",
    "        instr = remove_stopwords(instr)\n",
    "        instr = strip_numeric(instr)\n",
    "        #instr = re.sub(r'\\(.*oz.\\)|(®)|(.*ed)|(.*ly)|tast|sprig|inch|purpose|flmy|taste|boneless|skinless|chunks|fresh|large|cook drain|green|frozen|ground|tablespoon|teaspoon|cup','',ing).strip()\n",
    "        instr = strip_short(instr,2)\n",
    "        instr = strip_multiple_whitespaces(instr)\n",
    "        instr = strip_punctuation(instr)\n",
    "        instr = strip_non_alphanum(instr)\n",
    "        #convert plurals to singular e.g. tomatoes --> tomato\n",
    "        # instr = (\" \".join(TextBlob(instr).words.singularize()))\n",
    "        if len(instr)>0:\n",
    "            all_instructions.append(instr)\n",
    "\n",
    "print(\"len\",len(all_instructions))\n",
    "\n",
    "#formatting the column in a way the gensim takes it\n",
    "all_instructions_splitted = [sentx.split() for sentx in all_instructions]\n",
    "df_indoRecipes.to_pickle(\"processed/df_indoRecipesTelur.pkl\")"
   ]
  },
  {
   "cell_type": "code",
   "execution_count": 12,
   "id": "8b190724-f029-45f9-82f5-ea3096008a16",
   "metadata": {},
   "outputs": [
    {
     "data": {
      "text/plain": [
       "0       haluskan bawang merah, bawang putih dan cabai-...\n",
       "1       cuci sayap ayam kemudian sisihkan. rebus telur...\n",
       "2       campur kornet, telur, bawang prei dan cabe yg ...\n",
       "3       uleg kacang, cabai, bawang putih, gula merah, ...\n",
       "5       rebus telur lalu kupas dan goreng--rebus cabe ...\n",
       "                              ...                        \n",
       "1658    ceplok telur satu persatu hingga habis, sisihk...\n",
       "1659    siapkan alat dan bahan, cuci bersih sayuran--p...\n",
       "1660    tumis bumbu halus dan bumbu pelengkap dengan s...\n",
       "1661    haluskan bumbu dan vampur tepung beras beserta...\n",
       "1662    kocok semua telor ayam hingga berbusa&masukan ...\n",
       "Name: clean_instructions, Length: 1524, dtype: object"
      ]
     },
     "execution_count": 12,
     "metadata": {},
     "output_type": "execute_result"
    }
   ],
   "source": [
    "#record the number of ingredients for each recipe, \n",
    "#add cleaned instructions for training recipe embeddings\n",
    "#add cleaned ingredients back to original dataframe\n",
    "df_indoRecipes['clean_ingredients'] = pd.Series(all_receipes_ingredients)\n",
    "df_indoRecipes = df_indoRecipes.dropna()\n",
    "df_indoRecipes['ingredient_count'] =  df_indoRecipes.apply(lambda row: len(row['clean_ingredients']), axis = 1)\n",
    "df_indoRecipes['clean_instructions'] = df_indoRecipes['Steps'].apply(lambda x: x.lower())\n",
    "df_indoRecipes['clean_instructions']"
   ]
  },
  {
   "cell_type": "code",
   "execution_count": 13,
   "id": "7e1029fb-27be-4560-be08-cb1d258cab84",
   "metadata": {},
   "outputs": [],
   "source": [
    "df_indoRecipes.to_pickle(\"processed/df_indoRecipesTelur.pkl\")"
   ]
  },
  {
   "cell_type": "code",
   "execution_count": 14,
   "id": "5614184d-9d2c-4bfe-bdd5-ab49a161633c",
   "metadata": {},
   "outputs": [
    {
     "data": {
      "text/plain": [
       "[['tumis',\n",
       "  'bumbu',\n",
       "  'halus',\n",
       "  'dan',\n",
       "  'rempah',\n",
       "  'cemplung',\n",
       "  'hingga',\n",
       "  'harum',\n",
       "  'dan',\n",
       "  'matang',\n",
       "  'masukan',\n",
       "  'kentang',\n",
       "  'aduk',\n",
       "  'rata',\n",
       "  'beri',\n",
       "  'air',\n",
       "  'setelah',\n",
       "  'agak',\n",
       "  'mendidih',\n",
       "  'masukan',\n",
       "  'telur'],\n",
       " ['tahu',\n",
       "  'dan',\n",
       "  'rawit',\n",
       "  'utuh',\n",
       "  'bumbui',\n",
       "  'garam',\n",
       "  'dan',\n",
       "  'gula',\n",
       "  'pasir',\n",
       "  'setelah',\n",
       "  'didih'],\n",
       " ['masukan', 'santan'],\n",
       " ['aduk', 'sesekali', 'angkat'],\n",
       " ['sajikan', 'dengan', 'pelengkap']]"
      ]
     },
     "execution_count": 14,
     "metadata": {},
     "output_type": "execute_result"
    }
   ],
   "source": [
    "#function to process the column 'recipe' to the format of list-of-lists\n",
    "import re\n",
    "from gensim.parsing.preprocessing import remove_stopwords, strip_punctuation, strip_numeric, strip_non_alphanum, strip_multiple_whitespaces, strip_short\n",
    "\n",
    "def process_recipe(recipe):\n",
    "    recipeProcessed = []\n",
    "    for ing in (recipe.split(',')):\n",
    "        ing = remove_stopwords(ing)\n",
    "        ing = strip_numeric(ing)\n",
    "        ing = re.sub(r'\\(.*oz.\\)|(®)|(.*ed)|(.*ly)|tast|sprig|inch|purpose|flmy|taste|boneless|skinless|chunks|fresh|large|cook drain|green|frozen|ground|tablespoon|teaspoon|recipe|cup','',ing).strip()\n",
    "        ing = strip_short(ing,2)\n",
    "        ing = strip_multiple_whitespaces(ing)\n",
    "        ing = strip_punctuation(ing)\n",
    "        ing = strip_non_alphanum(ing)\n",
    "        if ing:\n",
    "            #print(\"ing\",ing)\n",
    "            recipeProcessed.append(ing)\n",
    "    #print(\"recipeProcessed\",len(recipeProcessed),recipeProcessed)\n",
    "    return [oneInstr.split() for oneInstr in recipeProcessed]\n",
    "\n",
    "process_recipe(df_indoRecipes['clean_instructions'][11])"
   ]
  },
  {
   "cell_type": "code",
   "execution_count": 15,
   "id": "8b1efcbd-3869-46a4-a1df-96a016348bae",
   "metadata": {},
   "outputs": [
    {
     "name": "stdout",
     "output_type": "stream",
     "text": [
      "[['cuci', 'sayap', 'ayam', 'kemudian', 'sisihkan', 'rebus', 'telur', 'dan', 'kupas', 'sisihkan', 'potong', 'tempe', 'sesuai', 'selera', 'sisihkan', 'panaskan', 'minyak', 'langsung', 'di', 'dalam', 'panci', 'tumis', 'sereh'], ['daun', 'salam'], ['dan', 'lengkuas', 'setelah', 'beberapa', 'saat', 'masukkan', 'bumbu', 'halus', 'tumis', 'sampai', 'berbau', 'harum', 'kemudian', 'masukkan', 'air', 'dan', 'gula', 'jawa', 'dan', 'cabe', 'rawit', 'jika', 'air', 'sudah', 'mendidih'], ['masukkan', 'sayap', 'ayam', 'dan', 'telor', 'masukkan', 'tempe', 'belakangan', 'tunggu', 'beberapa', 'saat', 'sampai', 'ayam', 'empuk', 'karena', 'pakai', 'sayap', 'ayam'], ['jadi', 'tidak', 'begitu', 'lama', 'jika', 'ayam', 'sudah', 'empuk', 'masukkan', 'santan', 'kara', 'tunggu', 'beberapa', 'saat', 'sesuaikan', 'rasa', 'matikan', 'api'], ['dan', 'taburkan', 'bawang', 'goreng', 'terik', 'siap', 'dinikmati', 'dengan', 'nasi', 'hangat', 'dan', 'kerupun']]\n"
     ]
    }
   ],
   "source": [
    "#adding clean instructions\n",
    "df_indoRecipes['clean_instructions'] = df_indoRecipes['clean_instructions'].apply(lambda x:process_recipe(x))\n",
    "print(df_indoRecipes['clean_instructions'][1])"
   ]
  },
  {
   "cell_type": "code",
   "execution_count": 16,
   "id": "a172adb2-685c-45d2-b17d-458bdaf8ac75",
   "metadata": {},
   "outputs": [
    {
     "name": "stdout",
     "output_type": "stream",
     "text": [
      "[['haluskan', 'bawang', 'merah', 'ap', 'masukan', 'telur', 'ikit', 'biarkan', 'menyusut', 'dan', 'meresap', 'koreksi', 'rasa', 'jadi', 'deh', 'selamat', 'menikmati'], ['cuci', 'sayap', 'ayam', 'kemudian', 'sisihkan', 'rebus', 'telur', 'dan', 'kupas', 'sisihkan', 'potong', 'tempe', 'sesuai', 'selera', 'sisihkan', 'panaskan', 'minyak', 'langsung', 'di', 'dalam', 'panci', 'tumis', 'sereh', 'daun', 'salam', 'dan', 'lengkuas', 'setelah', 'beberapa', 'saat', 'masukkan', 'bumbu', 'halus', 'tumis', 'sampai', 'berbau', 'harum', 'kemudian', 'masukkan', 'air', 'dan', 'gula', 'jawa', 'dan', 'cabe', 'rawit', 'jika', 'air', 'sudah', 'mendidih', 'masukkan', 'sayap', 'ayam', 'dan', 'telor', 'masukkan', 'tempe', 'belakangan', 'tunggu', 'beberapa', 'saat', 'sampai', 'ayam', 'empuk', 'karena', 'pakai', 'sayap', 'ayam', 'jadi', 'tidak', 'begitu', 'lama', 'jika', 'ayam', 'sudah', 'empuk', 'masukkan', 'santan', 'kara', 'tunggu', 'beberapa', 'saat', 'sesuaikan', 'rasa', 'matikan', 'api', 'dan', 'taburkan', 'bawang', 'goreng', 'terik', 'siap', 'dinikmati', 'dengan', 'nasi', 'hangat', 'dan', 'kerupun'], ['campur', 'kornet', 'telur', 'bawang', 'prei', 'dan', 'cabe', 'yg', 'sudah', 'di', 'iris', 'tipis', 'tambahkan', 'garam', 'merica', 'saos', 'tiram', 'secukupnya', 'dan', 'tepung', 'terigu', 'goreng', 'sdm', 'dulu', 'setelah', 'matang', 'baru', 'cek', 'rasa', 'dirasa', 'sudah', 'pas', 'adonan', 'siap', 'di', 'goreng']]\n"
     ]
    }
   ],
   "source": [
    "# Menggabungkan instruksi yang terpecah menjadi satu list per resep\n",
    "all_Sentences = []\n",
    "for instructions in df_indoRecipes['clean_instructions']:\n",
    "    # Gabungkan semua bagian instruksi dari setiap resep\n",
    "    combined_instructions = [word for sentence in instructions for word in sentence]\n",
    "    all_Sentences.append(combined_instructions)\n",
    "\n",
    "# Periksa contoh hasilnya\n",
    "print(all_Sentences[:3])  # Menampilkan 3 resep pertama yang sudah digabungkan\n"
   ]
  },
  {
   "cell_type": "code",
   "execution_count": 17,
   "id": "f2c60ad2-d351-412f-98f9-9aae82cbae59",
   "metadata": {},
   "outputs": [
    {
     "name": "stdout",
     "output_type": "stream",
     "text": [
      "<class 'list'>\n",
      "<class 'list'>\n",
      "['campur', 'kornet', 'telur', 'bawang', 'prei', 'dan', 'cabe', 'yg', 'sudah', 'di', 'iris', 'tipis', 'tambahkan', 'garam', 'merica', 'saos', 'tiram', 'secukupnya', 'dan', 'tepung', 'terigu', 'goreng', 'sdm', 'dulu', 'setelah', 'matang', 'baru', 'cek', 'rasa', 'dirasa', 'sudah', 'pas', 'adonan', 'siap', 'di', 'goreng']\n"
     ]
    }
   ],
   "source": [
    "all_Sentences = []\n",
    "for instructions in df_indoRecipes['clean_instructions']:\n",
    "    # Gabungkan semua bagian instruksi dari setiap resep\n",
    "    combined_instructions = [word for sentence in instructions for word in sentence]\n",
    "    all_Sentences.append(combined_instructions)\n",
    "\n",
    "# Cek apakah all_Sentences adalah list of lists\n",
    "print(type(all_Sentences))  # Seharusnya <class 'list'>\n",
    "print(type(all_Sentences[1]))  # Seharusnya <class 'list'>\n",
    "print(all_Sentences[2])"
   ]
  },
  {
   "cell_type": "code",
   "execution_count": 18,
   "id": "c98972ce-d3d9-479e-86fb-6d9539b226b4",
   "metadata": {},
   "outputs": [
    {
     "name": "stdout",
     "output_type": "stream",
     "text": [
      "4.3.3\n"
     ]
    }
   ],
   "source": [
    "import gensim\n",
    "print(gensim.__version__)"
   ]
  },
  {
   "cell_type": "code",
   "execution_count": 19,
   "id": "f2957dbc-d16f-4f1c-bf11-df9475c6f2db",
   "metadata": {},
   "outputs": [
    {
     "name": "stdout",
     "output_type": "stream",
     "text": [
      "Jumlah kalimat dalam all_Sentences: 1524\n",
      "Mulai training...\n",
      "Menyimpan model...\n",
      "Model tersimpan.\n"
     ]
    }
   ],
   "source": [
    "from gensim.models import FastText\n",
    "\n",
    "# Inisialisasi model FastText\n",
    "model_indofood_fasttext = FastText(vector_size=100, window=5, min_count=5, workers=4, sg=1)\n",
    "\n",
    "# Bangun vocab dari data\n",
    "print(f\"Jumlah kalimat dalam all_Sentences: {len(all_Sentences)}\")\n",
    "model_indofood_fasttext.build_vocab(corpus_iterable=all_Sentences)\n",
    "\n",
    "# Latih model\n",
    "print(\"Mulai training...\")\n",
    "model_indofood_fasttext.train(corpus_iterable=all_Sentences, total_examples=len(all_Sentences), epochs=5)\n",
    "\n",
    "# Simpan model\n",
    "print(\"Menyimpan model...\")\n",
    "model_indofood_fasttext.save(\"models/model_indofood_fasttext.model\")\n",
    "print(\"Model tersimpan.\")\n"
   ]
  },
  {
   "cell_type": "code",
   "execution_count": 20,
   "id": "b8547175-f5b2-4a4f-839b-c3819bb9ef10",
   "metadata": {},
   "outputs": [
    {
     "name": "stdout",
     "output_type": "stream",
     "text": [
      "78825 words in Recipe based model Corpus!\n"
     ]
    },
    {
     "data": {
      "text/plain": [
       "[('diangkat', 0.9446789026260376),\n",
       " ('cilor', 0.9388571381568909),\n",
       " ('telor', 0.9286695718765259),\n",
       " ('balado', 0.9278143644332886),\n",
       " ('tingkat', 0.920282244682312),\n",
       " ('tahap', 0.9175508618354797),\n",
       " ('cilok', 0.9153504371643066),\n",
       " ('tempat', 0.914551317691803),\n",
       " ('dipiring', 0.9145236015319824),\n",
       " ('langkah', 0.9118233919143677)]"
      ]
     },
     "execution_count": 20,
     "metadata": {},
     "output_type": "execute_result"
    }
   ],
   "source": [
    "#model_indianfood_fasttext.save(\"models/model_indianfood_fasttext.model\")\n",
    "total_words1 = model_indofood_fasttext.corpus_total_words\n",
    "print(total_words1,\"words in Recipe based model Corpus!\")\n",
    "\n",
    "model_indofood_fasttext.wv.most_similar(\"telur balado\")"
   ]
  },
  {
   "cell_type": "code",
   "execution_count": 21,
   "id": "906cb72e-5af5-47db-b07e-0ea5e33dd8e7",
   "metadata": {},
   "outputs": [
    {
     "data": {
      "text/plain": [
       "[('telor', 0.9192239046096802),\n",
       " ('kmudian', 0.846947968006134),\n",
       " ('tempat', 0.8357004523277283),\n",
       " ('lalu', 0.8320435285568237),\n",
       " ('cilor', 0.829500675201416),\n",
       " ('sisir', 0.8293288946151733),\n",
       " ('kembali', 0.8259161114692688),\n",
       " ('berisi', 0.8242222666740417),\n",
       " ('tersebut', 0.8181315064430237),\n",
       " ('pentol', 0.8146490454673767)]"
      ]
     },
     "execution_count": 21,
     "metadata": {},
     "output_type": "execute_result"
    }
   ],
   "source": [
    "model_indofood_fasttext.wv.most_similar(\"telur\")"
   ]
  },
  {
   "cell_type": "code",
   "execution_count": 22,
   "id": "8127c1fa-c590-450c-ab9a-deeb3cc5fec8",
   "metadata": {},
   "outputs": [
    {
     "data": {
      "text/plain": [
       "[('telor', 0.9192239046096802),\n",
       " ('kmudian', 0.846947968006134),\n",
       " ('tempat', 0.8357004523277283),\n",
       " ('lalu', 0.8320435285568237),\n",
       " ('cilor', 0.829500675201416),\n",
       " ('sisir', 0.8293288946151733),\n",
       " ('kembali', 0.8259161114692688),\n",
       " ('berisi', 0.8242222666740417),\n",
       " ('tersebut', 0.8181315064430237),\n",
       " ('pentol', 0.8146490454673767)]"
      ]
     },
     "execution_count": 22,
     "metadata": {},
     "output_type": "execute_result"
    }
   ],
   "source": [
    "model_indofood_fasttext.wv.most_similar(\"telur\")"
   ]
  },
  {
   "cell_type": "code",
   "execution_count": 23,
   "id": "5881dd3b-4a7a-4657-b510-3eb518af900b",
   "metadata": {},
   "outputs": [],
   "source": [
    "#defined functions to get to embeddings for recipes\n",
    "def getSentenceEmbedding(sentence):\n",
    "    countFound = 0\n",
    "    embeddingList = []\n",
    "    for wordx in sentence:\n",
    "        try:\n",
    "            vector1 = model_indofood_fasttext.wv[wordx]\n",
    "            #print(\"word\",wordx, vector1[:3])\n",
    "            embeddingList.append(vector1)\n",
    "            countFound+=1\n",
    "        except:\n",
    "            continue;\n",
    "    sumEmbeddings = sum(embeddingList)\n",
    "    return np.true_divide(sumEmbeddings, countFound)  \n",
    "\n",
    "def getRecipeEmbedding(instruction):\n",
    "    embeddingList = []\n",
    "    for sentence in instruction:\n",
    "        embeddingList.append(getSentenceEmbedding(sentence))\n",
    "    sumEmbeddings = sum(embeddingList)\n",
    "    return np.true_divide(sumEmbeddings, len(instruction))  "
   ]
  },
  {
   "cell_type": "code",
   "execution_count": 24,
   "id": "a547bf35-a7b6-435a-ae18-731be557b628",
   "metadata": {},
   "outputs": [
    {
     "name": "stderr",
     "output_type": "stream",
     "text": [
      "C:\\Users\\annis\\AppData\\Local\\Temp\\ipykernel_6684\\939707801.py:14: RuntimeWarning: invalid value encountered in divide\n",
      "  return np.true_divide(sumEmbeddings, countFound)\n"
     ]
    }
   ],
   "source": [
    "df_indoRecipes['recipe_embedding_fasttext'] =  df_indoRecipes.apply(lambda row: getRecipeEmbedding(row['clean_instructions']), axis = 1)"
   ]
  },
  {
   "cell_type": "code",
   "execution_count": 25,
   "id": "e241b35a-16b9-4a81-8c1e-37dcaf7d07e1",
   "metadata": {},
   "outputs": [
    {
     "data": {
      "text/html": [
       "<div>\n",
       "<style scoped>\n",
       "    .dataframe tbody tr th:only-of-type {\n",
       "        vertical-align: middle;\n",
       "    }\n",
       "\n",
       "    .dataframe tbody tr th {\n",
       "        vertical-align: top;\n",
       "    }\n",
       "\n",
       "    .dataframe thead th {\n",
       "        text-align: right;\n",
       "    }\n",
       "</style>\n",
       "<table border=\"1\" class=\"dataframe\">\n",
       "  <thead>\n",
       "    <tr style=\"text-align: right;\">\n",
       "      <th></th>\n",
       "      <th>Title</th>\n",
       "      <th>Ingredients</th>\n",
       "      <th>Steps</th>\n",
       "      <th>Loves</th>\n",
       "      <th>Loves_bin</th>\n",
       "      <th>clean_ingredients</th>\n",
       "      <th>ingredient_count</th>\n",
       "      <th>clean_instructions</th>\n",
       "      <th>recipe_embedding_fasttext</th>\n",
       "    </tr>\n",
       "  </thead>\n",
       "  <tbody>\n",
       "    <tr>\n",
       "      <th>0</th>\n",
       "      <td>Orak arik telur buncis</td>\n",
       "      <td>1 buah telur--10 buncis--3 bawang merah--2 baw...</td>\n",
       "      <td>haluskan bawang merah, bawang putih dan cabai-...</td>\n",
       "      <td>1</td>\n",
       "      <td>0-10</td>\n",
       "      <td>[ap lainnya ]</td>\n",
       "      <td>1</td>\n",
       "      <td>[[haluskan, bawang, merah], [ap, masukan, telu...</td>\n",
       "      <td>[0.010322706, -0.43258968, 0.04168308, -0.0755...</td>\n",
       "    </tr>\n",
       "    <tr>\n",
       "      <th>1</th>\n",
       "      <td>Terik ayam tempe telor</td>\n",
       "      <td>4 sayap ayam--4 buah telor--1/2 papan tempe--b...</td>\n",
       "      <td>cuci sayap ayam kemudian sisihkan. rebus telur...</td>\n",
       "      <td>6</td>\n",
       "      <td>0-10</td>\n",
       "      <td>[sayap ayam  buah telor  papan tempe bumbu hal...</td>\n",
       "      <td>1</td>\n",
       "      <td>[[cuci, sayap, ayam, kemudian, sisihkan, rebus...</td>\n",
       "      <td>[-0.029278079, -0.36570248, 0.0480796, 0.00983...</td>\n",
       "    </tr>\n",
       "    <tr>\n",
       "      <th>2</th>\n",
       "      <td>Telur Kornet</td>\n",
       "      <td>1/2 kaleng kornet--2-3 buah bawang prei--2 bua...</td>\n",
       "      <td>campur kornet, telur, bawang prei dan cabe yg ...</td>\n",
       "      <td>7</td>\n",
       "      <td>0-10</td>\n",
       "      <td>[kaleng kornet  buah bawang prei  buah telur  ...</td>\n",
       "      <td>1</td>\n",
       "      <td>[[campur, kornet], [telur], [bawang, prei, dan...</td>\n",
       "      <td>[-0.030500358, -0.16596024, -0.119274475, -0.0...</td>\n",
       "    </tr>\n",
       "    <tr>\n",
       "      <th>3</th>\n",
       "      <td>Tahu telur surabaya</td>\n",
       "      <td>1 butir telur--1 potong tahu putih goreng sete...</td>\n",
       "      <td>uleg kacang, cabai, bawang putih, gula merah, ...</td>\n",
       "      <td>10</td>\n",
       "      <td>0-10</td>\n",
       "      <td>[ri secukupnya bawang goreng secukupnya garam ...</td>\n",
       "      <td>1</td>\n",
       "      <td>[[uleg, kacang], [cabai], [bawang, putih], [gu...</td>\n",
       "      <td>[-0.08203443, -0.4442594, 0.004521298, -0.0954...</td>\n",
       "    </tr>\n",
       "    <tr>\n",
       "      <th>5</th>\n",
       "      <td>Sambal telur ayam</td>\n",
       "      <td>1/2 kg telur--6 cabe merah besar--10 cabe rawi...</td>\n",
       "      <td>rebus telur lalu kupas dan goreng--rebus cabe ...</td>\n",
       "      <td>6</td>\n",
       "      <td>0-10</td>\n",
       "      <td>[btr telur ayam lebih enak pakai telur bebek  ...</td>\n",
       "      <td>7</td>\n",
       "      <td>[[rebus, telur, lalu, kupas, dan, goreng, rebu...</td>\n",
       "      <td>[-0.030985555, -0.48800024, 0.043242373, -0.10...</td>\n",
       "    </tr>\n",
       "  </tbody>\n",
       "</table>\n",
       "</div>"
      ],
      "text/plain": [
       "                    Title                                        Ingredients  \\\n",
       "0  Orak arik telur buncis  1 buah telur--10 buncis--3 bawang merah--2 baw...   \n",
       "1  Terik ayam tempe telor  4 sayap ayam--4 buah telor--1/2 papan tempe--b...   \n",
       "2            Telur Kornet  1/2 kaleng kornet--2-3 buah bawang prei--2 bua...   \n",
       "3     Tahu telur surabaya  1 butir telur--1 potong tahu putih goreng sete...   \n",
       "5       Sambal telur ayam  1/2 kg telur--6 cabe merah besar--10 cabe rawi...   \n",
       "\n",
       "                                               Steps  Loves Loves_bin  \\\n",
       "0  haluskan bawang merah, bawang putih dan cabai-...      1      0-10   \n",
       "1  cuci sayap ayam kemudian sisihkan. rebus telur...      6      0-10   \n",
       "2  campur kornet, telur, bawang prei dan cabe yg ...      7      0-10   \n",
       "3  uleg kacang, cabai, bawang putih, gula merah, ...     10      0-10   \n",
       "5  rebus telur lalu kupas dan goreng--rebus cabe ...      6      0-10   \n",
       "\n",
       "                                   clean_ingredients  ingredient_count  \\\n",
       "0                                      [ap lainnya ]                 1   \n",
       "1  [sayap ayam  buah telor  papan tempe bumbu hal...                 1   \n",
       "2  [kaleng kornet  buah bawang prei  buah telur  ...                 1   \n",
       "3  [ri secukupnya bawang goreng secukupnya garam ...                 1   \n",
       "5  [btr telur ayam lebih enak pakai telur bebek  ...                 7   \n",
       "\n",
       "                                  clean_instructions  \\\n",
       "0  [[haluskan, bawang, merah], [ap, masukan, telu...   \n",
       "1  [[cuci, sayap, ayam, kemudian, sisihkan, rebus...   \n",
       "2  [[campur, kornet], [telur], [bawang, prei, dan...   \n",
       "3  [[uleg, kacang], [cabai], [bawang, putih], [gu...   \n",
       "5  [[rebus, telur, lalu, kupas, dan, goreng, rebu...   \n",
       "\n",
       "                           recipe_embedding_fasttext  \n",
       "0  [0.010322706, -0.43258968, 0.04168308, -0.0755...  \n",
       "1  [-0.029278079, -0.36570248, 0.0480796, 0.00983...  \n",
       "2  [-0.030500358, -0.16596024, -0.119274475, -0.0...  \n",
       "3  [-0.08203443, -0.4442594, 0.004521298, -0.0954...  \n",
       "5  [-0.030985555, -0.48800024, 0.043242373, -0.10...  "
      ]
     },
     "execution_count": 25,
     "metadata": {},
     "output_type": "execute_result"
    }
   ],
   "source": [
    "#checking out the new column\n",
    "df_indoRecipes.to_pickle('processed/df_indoRecipesTelur.pkl')\n",
    "df_indoRecipes.head()"
   ]
  },
  {
   "cell_type": "code",
   "execution_count": 26,
   "id": "44a9f506-c549-43df-bdd6-178b6355f377",
   "metadata": {},
   "outputs": [],
   "source": [
    "#finding similar food-items using trained embeddings only\n",
    "\n",
    "from numpy import dot\n",
    "from numpy.linalg import norm\n",
    "\n",
    "def find_Similar_dish(xx,embeddingToUse):\n",
    "    #recipe_embedding_fasttext\n",
    "\n",
    "    a = df_indoRecipes.loc[xx, embeddingToUse]\n",
    "    orn = df_indoRecipes.loc[xx, \"Title\"]\n",
    "    #print(orn,\"\\nGetting most similar dishes based on\",embeddingToUse)\n",
    "    dishtances = {}\n",
    "    for i in range(len(df_indoRecipes)):\n",
    "        if i==xx:\n",
    "            continue;\n",
    "        try:\n",
    "            dn = df_indoRecipes.loc[i, \"Title\"]\n",
    "            b = df_indoRecipes.loc[i, embeddingToUse]\n",
    "            cos_sim = dot(a, b)/(norm(a)*norm(b))\n",
    "            if cos_sim not in dishtances.values():\n",
    "                dishtances[i] = cos_sim\n",
    "        except:\n",
    "            continue;\n",
    "            \n",
    "    dishtances_2 = {k: v for k, v in sorted(dishtances.items(), key=lambda item: item[1], reverse = True)}\n",
    "    mostSimilarDishes = []\n",
    "    countSim = 0\n",
    "    for el in dishtances_2.keys():\n",
    "        mostSimilarDishes.append(el)\n",
    "        countSim+=1\n",
    "        if countSim==10:\n",
    "            break;\n",
    "    return mostSimilarDishes\n",
    "\n",
    "def list_Similar_dishes(xx, embeddingToUse):\n",
    "    dn = df_indoRecipes.loc[xx, \"Title\"]\n",
    "    additionalColumns = ['Loves','Loves_bin']\n",
    "    similarList1 = find_Similar_dish(xx,embeddingToUse)\n",
    "    simResults1 = []\n",
    "\n",
    "    allSuggestedDishNames = []\n",
    "    print(\"got all similar dishes!\")\n",
    "    for simIndex in similarList1:\n",
    "        tempRes = []\n",
    "        dName = df_indoRecipes.loc[simIndex, \"Title\"]\n",
    "        dishName = \" \".join([w for w in dName.split() if w.lower()!='recipe'])\n",
    "        tempRes.append(dishName)\n",
    "        dishNameShort = \" \".join(dishName.split()[-2:])\n",
    "        allSuggestedDishNames.append(dishNameShort)\n",
    "        for col in additionalColumns:\n",
    "            tempRes.append(df_indoRecipes.loc[simIndex, col])\n",
    "        simResults1.append(tempRes)\n",
    "    \n",
    "    additionalColumns.insert(0,\"Dish\")\n",
    "    print(dn)\n",
    "    return(pd.DataFrame(simResults1, columns = additionalColumns),allSuggestedDishNames)"
   ]
  },
  {
   "cell_type": "code",
   "execution_count": 27,
   "id": "6ff04de8-1988-4ae0-b45b-9f353a23698f",
   "metadata": {},
   "outputs": [
    {
     "name": "stdout",
     "output_type": "stream",
     "text": [
      "got all similar dishes!\n",
      "Telur kentang balado\n"
     ]
    },
    {
     "data": {
      "text/html": [
       "<div>\n",
       "<style scoped>\n",
       "    .dataframe tbody tr th:only-of-type {\n",
       "        vertical-align: middle;\n",
       "    }\n",
       "\n",
       "    .dataframe tbody tr th {\n",
       "        vertical-align: top;\n",
       "    }\n",
       "\n",
       "    .dataframe thead th {\n",
       "        text-align: right;\n",
       "    }\n",
       "</style>\n",
       "<table border=\"1\" class=\"dataframe\">\n",
       "  <thead>\n",
       "    <tr style=\"text-align: right;\">\n",
       "      <th></th>\n",
       "      <th>Dish</th>\n",
       "      <th>Loves</th>\n",
       "      <th>Loves_bin</th>\n",
       "    </tr>\n",
       "  </thead>\n",
       "  <tbody>\n",
       "    <tr>\n",
       "      <th>0</th>\n",
       "      <td>Nasi Goreng Telur Rebus</td>\n",
       "      <td>3</td>\n",
       "      <td>0-10</td>\n",
       "    </tr>\n",
       "    <tr>\n",
       "      <th>1</th>\n",
       "      <td>Telur ceplok manis pedas</td>\n",
       "      <td>2</td>\n",
       "      <td>0-10</td>\n",
       "    </tr>\n",
       "    <tr>\n",
       "      <th>2</th>\n",
       "      <td>Misua telur</td>\n",
       "      <td>9</td>\n",
       "      <td>0-10</td>\n",
       "    </tr>\n",
       "    <tr>\n",
       "      <th>3</th>\n",
       "      <td>Telur Balado</td>\n",
       "      <td>5</td>\n",
       "      <td>0-10</td>\n",
       "    </tr>\n",
       "    <tr>\n",
       "      <th>4</th>\n",
       "      <td>Sambal telor bulat</td>\n",
       "      <td>8</td>\n",
       "      <td>0-10</td>\n",
       "    </tr>\n",
       "    <tr>\n",
       "      <th>5</th>\n",
       "      <td>Tahu Fantasy Telur</td>\n",
       "      <td>4</td>\n",
       "      <td>0-10</td>\n",
       "    </tr>\n",
       "    <tr>\n",
       "      <th>6</th>\n",
       "      <td>Telor Balado Simple</td>\n",
       "      <td>6</td>\n",
       "      <td>0-10</td>\n",
       "    </tr>\n",
       "    <tr>\n",
       "      <th>7</th>\n",
       "      <td>Orek buncis + telor</td>\n",
       "      <td>6</td>\n",
       "      <td>0-10</td>\n",
       "    </tr>\n",
       "    <tr>\n",
       "      <th>8</th>\n",
       "      <td>Bola telur goreng</td>\n",
       "      <td>2</td>\n",
       "      <td>0-10</td>\n",
       "    </tr>\n",
       "    <tr>\n",
       "      <th>9</th>\n",
       "      <td>Pindang daging dan telur #taiwan food</td>\n",
       "      <td>4</td>\n",
       "      <td>0-10</td>\n",
       "    </tr>\n",
       "  </tbody>\n",
       "</table>\n",
       "</div>"
      ],
      "text/plain": [
       "                                    Dish  Loves Loves_bin\n",
       "0                Nasi Goreng Telur Rebus      3      0-10\n",
       "1               Telur ceplok manis pedas      2      0-10\n",
       "2                            Misua telur      9      0-10\n",
       "3                           Telur Balado      5      0-10\n",
       "4                     Sambal telor bulat      8      0-10\n",
       "5                     Tahu Fantasy Telur      4      0-10\n",
       "6                    Telor Balado Simple      6      0-10\n",
       "7                    Orek buncis + telor      6      0-10\n",
       "8                      Bola telur goreng      2      0-10\n",
       "9  Pindang daging dan telur #taiwan food      4      0-10"
      ]
     },
     "execution_count": 27,
     "metadata": {},
     "output_type": "execute_result"
    }
   ],
   "source": [
    "dishNumber = 311\n",
    "res = list_Similar_dishes(dishNumber, \"recipe_embedding_fasttext\")\n",
    "res[0]"
   ]
  },
  {
   "cell_type": "code",
   "execution_count": 28,
   "id": "080f817a-6ec1-4ba9-99cb-31d1ee93102d",
   "metadata": {},
   "outputs": [
    {
     "name": "stdout",
     "output_type": "stream",
     "text": [
      "got all similar dishes!\n",
      "Bihun tahu telur goreng lada hitam\n"
     ]
    },
    {
     "data": {
      "text/html": [
       "<div>\n",
       "<style scoped>\n",
       "    .dataframe tbody tr th:only-of-type {\n",
       "        vertical-align: middle;\n",
       "    }\n",
       "\n",
       "    .dataframe tbody tr th {\n",
       "        vertical-align: top;\n",
       "    }\n",
       "\n",
       "    .dataframe thead th {\n",
       "        text-align: right;\n",
       "    }\n",
       "</style>\n",
       "<table border=\"1\" class=\"dataframe\">\n",
       "  <thead>\n",
       "    <tr style=\"text-align: right;\">\n",
       "      <th></th>\n",
       "      <th>Dish</th>\n",
       "      <th>Loves</th>\n",
       "      <th>Loves_bin</th>\n",
       "    </tr>\n",
       "  </thead>\n",
       "  <tbody>\n",
       "    <tr>\n",
       "      <th>0</th>\n",
       "      <td>Telur Dadar Daging</td>\n",
       "      <td>3</td>\n",
       "      <td>0-10</td>\n",
       "    </tr>\n",
       "    <tr>\n",
       "      <th>1</th>\n",
       "      <td>Tumis Sawi Telur Dadar</td>\n",
       "      <td>6</td>\n",
       "      <td>0-10</td>\n",
       "    </tr>\n",
       "    <tr>\n",
       "      <th>2</th>\n",
       "      <td>Telor Dadar</td>\n",
       "      <td>3</td>\n",
       "      <td>0-10</td>\n",
       "    </tr>\n",
       "    <tr>\n",
       "      <th>3</th>\n",
       "      <td>Scramble Egg Kornet Pedass</td>\n",
       "      <td>11</td>\n",
       "      <td>11-20</td>\n",
       "    </tr>\n",
       "    <tr>\n",
       "      <th>4</th>\n",
       "      <td>Telur Dadar Bumbu Pedas Sederhana</td>\n",
       "      <td>6</td>\n",
       "      <td>0-10</td>\n",
       "    </tr>\n",
       "    <tr>\n",
       "      <th>5</th>\n",
       "      <td>Orak Arik Telur Sosis</td>\n",
       "      <td>7</td>\n",
       "      <td>0-10</td>\n",
       "    </tr>\n",
       "    <tr>\n",
       "      <th>6</th>\n",
       "      <td>Sambal Telor Pecah</td>\n",
       "      <td>27</td>\n",
       "      <td>21-30</td>\n",
       "    </tr>\n",
       "    <tr>\n",
       "      <th>7</th>\n",
       "      <td>Semur ayam dengan salad telur timun</td>\n",
       "      <td>5</td>\n",
       "      <td>0-10</td>\n",
       "    </tr>\n",
       "    <tr>\n",
       "      <th>8</th>\n",
       "      <td>CILOR aci telor ala Bandung</td>\n",
       "      <td>12</td>\n",
       "      <td>11-20</td>\n",
       "    </tr>\n",
       "    <tr>\n",
       "      <th>9</th>\n",
       "      <td>Oseng Buncis Cambah Telor Sosis</td>\n",
       "      <td>3</td>\n",
       "      <td>0-10</td>\n",
       "    </tr>\n",
       "  </tbody>\n",
       "</table>\n",
       "</div>"
      ],
      "text/plain": [
       "                                  Dish  Loves Loves_bin\n",
       "0                   Telur Dadar Daging      3      0-10\n",
       "1               Tumis Sawi Telur Dadar      6      0-10\n",
       "2                          Telor Dadar      3      0-10\n",
       "3           Scramble Egg Kornet Pedass     11     11-20\n",
       "4    Telur Dadar Bumbu Pedas Sederhana      6      0-10\n",
       "5                Orak Arik Telur Sosis      7      0-10\n",
       "6                   Sambal Telor Pecah     27     21-30\n",
       "7  Semur ayam dengan salad telur timun      5      0-10\n",
       "8          CILOR aci telor ala Bandung     12     11-20\n",
       "9      Oseng Buncis Cambah Telor Sosis      3      0-10"
      ]
     },
     "execution_count": 28,
     "metadata": {},
     "output_type": "execute_result"
    }
   ],
   "source": [
    "dishNumber = 567\n",
    "res = list_Similar_dishes(dishNumber, \"recipe_embedding_fasttext\")\n",
    "res[0]"
   ]
  },
  {
   "cell_type": "code",
   "execution_count": 29,
   "id": "42cb9734-8a8c-4ac6-9bc5-afa3a2111957",
   "metadata": {},
   "outputs": [
    {
     "name": "stdout",
     "output_type": "stream",
     "text": [
      "Mean Reciprocal Rank (MRR): 0.4583333333333333\n"
     ]
    }
   ],
   "source": [
    "def mean_reciprocal_rank(results):\n",
    "    \"\"\"\n",
    "    Menghitung Mean Reciprocal Rank (MRR) dari daftar hasil pencarian.\n",
    "    \n",
    "    Parameter:\n",
    "    - results: List of lists. Setiap sublist berisi hasil pencarian yang\n",
    "               berisi True jika hasil tersebut relevan, False jika tidak.\n",
    "    \n",
    "    Returns:\n",
    "    - MRR score (float): Nilai MRR dari semua query.\n",
    "    \"\"\"\n",
    "    reciprocal_ranks = []\n",
    "\n",
    "    for result in results:\n",
    "        found = False\n",
    "        for idx, is_relevant in enumerate(result):\n",
    "            if is_relevant:  # Hasil relevan pertama ditemukan\n",
    "                reciprocal_ranks.append(1 / (idx + 1))  # Rank 1-based\n",
    "                found = True\n",
    "                break\n",
    "        if not found:\n",
    "            reciprocal_ranks.append(0)  # Jika tidak ada hasil relevan\n",
    "\n",
    "    # Menghitung Mean Reciprocal Rank\n",
    "    mrr_score = sum(reciprocal_ranks) / len(results)\n",
    "    return mrr_score\n",
    "\n",
    "# Contoh penggunaan\n",
    "# Hasil pencarian untuk beberapa query\n",
    "search_results = [\n",
    "    [True, False, False],       # Query 1, relevan di posisi 1\n",
    "    [False, False, True],       # Query 2, relevan di posisi 3\n",
    "    [False, True, False],       # Query 3, relevan di posisi 2\n",
    "    [False, False, False],      # Query 4, tidak ada hasil relevan\n",
    "]\n",
    "\n",
    "mrr = mean_reciprocal_rank(search_results)\n",
    "print(\"Mean Reciprocal Rank (MRR):\", mrr)"
   ]
  },
  {
   "cell_type": "code",
   "execution_count": 30,
   "id": "b5175a53-13d8-4502-825a-1ea23502a092",
   "metadata": {},
   "outputs": [
    {
     "name": "stdout",
     "output_type": "stream",
     "text": [
      "Top-2 Accuracy: 0.5\n"
     ]
    }
   ],
   "source": [
    "def top_k_accuracy(results, k):\n",
    "    \"\"\"\n",
    "    Menghitung Top-K Accuracy dari hasil pencarian.\n",
    "    \n",
    "    Parameter:\n",
    "    - results: List of lists. Setiap sublist berisi hasil pencarian yang \n",
    "               berisi True jika hasil tersebut relevan, False jika tidak.\n",
    "    - k: Integer. Menentukan nilai K untuk Top-K Accuracy.\n",
    "    \n",
    "    Returns:\n",
    "    - top_k_acc (float): Nilai Top-K Accuracy dari semua query.\n",
    "    \"\"\"\n",
    "    correct = 0\n",
    "\n",
    "    for result in results:\n",
    "        # Cek apakah ada hasil relevan di K hasil teratas\n",
    "        if any(result[:k]):  # True jika setidaknya satu relevan dalam top-K\n",
    "            correct += 1\n",
    "\n",
    "    # Hitung Top-K Accuracy\n",
    "    top_k_acc = correct / len(results)\n",
    "    return top_k_acc\n",
    "\n",
    "# Contoh penggunaan\n",
    "# Hasil pencarian untuk beberapa query\n",
    "search_results = [\n",
    "    [True, False, False],       # Query 1, relevan di posisi 1\n",
    "    [False, False, True],       # Query 2, relevan di posisi 3\n",
    "    [False, True, False],       # Query 3, relevan di posisi 2\n",
    "    [False, False, False],      # Query 4, tidak ada hasil relevan\n",
    "]\n",
    "\n",
    "# Menghitung Top-K Accuracy untuk K = 2\n",
    "k = 2\n",
    "top_k_acc = top_k_accuracy(search_results, k)\n",
    "print(f\"Top-{k} Accuracy:\", top_k_acc)\n"
   ]
  },
  {
   "cell_type": "code",
   "execution_count": 31,
   "id": "fcb2d5cf-cd93-499b-8599-2c74832f655f",
   "metadata": {},
   "outputs": [
    {
     "name": "stdout",
     "output_type": "stream",
     "text": [
      "NDCG untuk query 1 di posisi 3: 0.9778\n",
      "NDCG untuk query 2 di posisi 3: 0.0848\n"
     ]
    }
   ],
   "source": [
    "import numpy as np\n",
    "\n",
    "def dcg_at_k(relevance_scores, k):\n",
    "    \"\"\"\n",
    "    Menghitung DCG pada posisi k.\n",
    "    \n",
    "    Parameter:\n",
    "    - relevance_scores: Daftar relevansi untuk hasil pencarian.\n",
    "    - k: Posisi yang digunakan untuk menghitung DCG (jumlah hasil yang dipertimbangkan).\n",
    "    \n",
    "    Returns:\n",
    "    - dcg: Nilai DCG pada posisi k.\n",
    "    \"\"\"\n",
    "    relevance_scores = relevance_scores[:k]  # Ambil hanya k hasil teratas\n",
    "    return np.sum([rel / np.log2(i + 2) for i, rel in enumerate(relevance_scores)])\n",
    "\n",
    "def idcg_at_k(relevance_scores, k):\n",
    "    \"\"\"\n",
    "    Menghitung IDCG pada posisi k, yaitu DCG ideal yang dihitung dengan menyusun\n",
    "    relevansi dalam urutan menurun.\n",
    "    \n",
    "    Parameter:\n",
    "    - relevance_scores: Daftar relevansi untuk hasil pencarian.\n",
    "    - k: Posisi yang digunakan untuk menghitung IDCG.\n",
    "    \n",
    "    Returns:\n",
    "    - idcg: Nilai IDCG pada posisi k.\n",
    "    \"\"\"\n",
    "    relevance_scores = sorted(relevance_scores, reverse=True)  # Urutkan relevansi menurun\n",
    "    return dcg_at_k(relevance_scores, k)\n",
    "\n",
    "def ndcg_at_k(relevance_scores, k):\n",
    "    \"\"\"\n",
    "    Menghitung NDCG pada posisi k.\n",
    "    \n",
    "    Parameter:\n",
    "    - relevance_scores: Daftar relevansi untuk hasil pencarian.\n",
    "    - k: Posisi yang digunakan untuk menghitung NDCG.\n",
    "    \n",
    "    Returns:\n",
    "    - ndcg: Nilai NDCG pada posisi k.\n",
    "    \"\"\"\n",
    "    dcg = dcg_at_k(relevance_scores, k)\n",
    "    idcg = idcg_at_k(relevance_scores, k)\n",
    "    return dcg / idcg if idcg > 0 else 0\n",
    "\n",
    "# Contoh penggunaan\n",
    "# Relevansi hasil pencarian untuk query tertentu\n",
    "# Relevansi berkisar dari 0 (tidak relevan) hingga 3 (sangat relevan)\n",
    "relevance_scores_query_1 = [3, 2, 3, 0, 1, 2]\n",
    "relevance_scores_query_2 = [0, 0, 1, 2, 3, 3]\n",
    "\n",
    "# Menghitung NDCG pada posisi k=3 untuk dua query\n",
    "k = 3\n",
    "ndcg_query_1 = ndcg_at_k(relevance_scores_query_1, k)\n",
    "ndcg_query_2 = ndcg_at_k(relevance_scores_query_2, k)\n",
    "\n",
    "print(f\"NDCG untuk query 1 di posisi {k}: {ndcg_query_1:.4f}\")\n",
    "print(f\"NDCG untuk query 2 di posisi {k}: {ndcg_query_2:.4f}\")"
   ]
  },
  {
   "cell_type": "code",
   "execution_count": null,
   "id": "ca7bf548-ab12-4d08-aab4-6db5ff57f57d",
   "metadata": {},
   "outputs": [],
   "source": []
  }
 ],
 "metadata": {
  "kernelspec": {
   "display_name": "Python 3 (ipykernel)",
   "language": "python",
   "name": "python3"
  },
  "language_info": {
   "codemirror_mode": {
    "name": "ipython",
    "version": 3
   },
   "file_extension": ".py",
   "mimetype": "text/x-python",
   "name": "python",
   "nbconvert_exporter": "python",
   "pygments_lexer": "ipython3",
   "version": "3.12.4"
  }
 },
 "nbformat": 4,
 "nbformat_minor": 5
}
