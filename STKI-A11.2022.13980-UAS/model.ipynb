{
 "cells": [
  {
   "cell_type": "markdown",
   "id": "357acac4-5ca8-4186-8342-ae04e833bf15",
   "metadata": {},
   "source": [
    "# Pengembangan Sistem Pencarian Resep Masakan Indonesia Menggunakan Metode BM25 dan FastText"
   ]
  },
  {
   "cell_type": "raw",
   "id": "48f62ad0-7341-4920-b6c0-537e9896bf7b",
   "metadata": {},
   "source": [
    "# Ringkasan :\n",
    "Proyek ini bertujuan untuk mengembangkan sebuah search engine yang dapat membantu pengguna menemukan resep masakan Indonesia berdasarkan bahan yang pengguna inginkan. Permasalahan yang dihadapi adalah bagaimana menyajikan hasil pencarian yang relevan dan akurat dari berbagai resep yang ada. Untuk mencapai tujuan ini, proyek ini menggunakan model BM25 untuk peringkat dokumen, serta teknik pemrosesan bahasa alami (NLP) untuk membersihkan dan menyiapkan data resep. Alur penyelesaian dimulai dengan pengumpulan dan pembersihan dataset, diikuti dengan pelatihan model untuk menghasilkan embedding resep, dan diakhiri dengan implementasi antarmuka pengguna menggunakan Streamlit.\n",
    "\n",
    "Tujuan:\n",
    "1. Menggunakan FastText untuk menghasilkan representasi vektor dan analisis resep. \n",
    "2. Menyediakan rekomendasi 10 resep terbaik berdasarkan kata kunci yang dimasukkan.\n",
    "3. Menampilkan detail resep dengan bahan-bahan dan cara memasak.\n",
    "4. Membangun aplikasi untuk pencarian resep menggunakan algoritma BM25."
   ]
  },
  {
   "cell_type": "code",
   "execution_count": 1,
   "id": "db08d6fb-6166-4b56-b885-179444c940bb",
   "metadata": {},
   "outputs": [],
   "source": [
    "import pandas as pd\n",
    "import numpy as np\n",
    "import collections\n",
    "import gensim \n",
    "from gensim.models import word2vec, phrases\n",
    "from gensim.parsing.preprocessing import remove_stopwords, strip_punctuation, strip_numeric,\\\n",
    "                    strip_non_alphanum, strip_multiple_whitespaces, strip_short\n",
    "from textblob import TextBlob, Word\n",
    "\n",
    "import re\n",
    "import matplotlib.pyplot as plt\n",
    "import matplotlib.patches as mpatches\n",
    "import seaborn as sns\n",
    "%matplotlib inline"
   ]
  },
  {
   "cell_type": "code",
   "execution_count": 2,
   "id": "fb3b8a69-3c39-4e58-9831-98d6cd7231b7",
   "metadata": {},
   "outputs": [
    {
     "name": "stdout",
     "output_type": "stream",
     "text": [
      " -  .ipynb_checkpoints\n",
      " -  app.py\n",
      " -  data_indo\n",
      " -  env\n",
      " -  laporan akhir_stki.docx\n",
      " -  model-ayam.ipynb\n",
      " -  model-kambing.ipynb\n",
      " -  model-telur.ipynb\n",
      " -  model.ipynb\n",
      " -  models\n",
      " -  processed\n",
      " -  requirements.txt\n",
      "found 12 files!\n"
     ]
    }
   ],
   "source": [
    "# Membaca dan menghitung jumlah file serta folder yang ada dalam direktori saat ini\n",
    "import os\n",
    "fc=0\n",
    "for el in os.listdir(\".\"):\n",
    "    fc+=1\n",
    "    print(\" - \",el)\n",
    "print(\"found\",fc,\"files!\")"
   ]
  },
  {
   "cell_type": "raw",
   "id": "0b090095-ef4a-4069-9456-0b165b41e9fb",
   "metadata": {},
   "source": [
    "# Penjelasan Dataset, EDA, dan Proses Features Dataset\n",
    "Dataset yang digunakan terdiri dari beberapa file CSV yang berisi resep masakan dari berbagai bahan seperti ayam, kambing, telur, dan udang. Setiap resep memiliki informasi seperti judul, bahan-bahan, langkah-langkah pembuatan, dan jumlah likes. Proses eksplorasi data (EDA) dilakukan untuk memahami struktur data, termasuk penghapusan kolom yang tidak relevan dan penanganan nilai yang hilang. Fitur yang dihasilkan dari dataset meliputi kolom 'clean_ingredients' dan 'clean_instructions', yang merupakan hasil dari pemrosesan teks untuk menghapus stopwords, angka, dan karakter yang tidak relevan. Selain itu, frekuensi bahan juga dihitung untuk mendapatkan wawasan tentang bahan yang paling umum dan jarang digunakan."
   ]
  },
  {
   "cell_type": "code",
   "execution_count": 3,
   "id": "53584002-dbb8-4339-aacd-b086912befee",
   "metadata": {},
   "outputs": [],
   "source": [
    "files = [\n",
    "    'data_indo/dataset-ayam.csv',\n",
    "    'data_indo/dataset-kambing.csv',\n",
    "    'data_indo/dataset-telur.csv',\n",
    "    'data_indo/dataset-udang.csv'\n",
    "]"
   ]
  },
  {
   "cell_type": "code",
   "execution_count": 4,
   "id": "fdc03c86-6655-4d6b-8f5f-ca2c242fea91",
   "metadata": {},
   "outputs": [
    {
     "data": {
      "text/html": [
       "<div>\n",
       "<style scoped>\n",
       "    .dataframe tbody tr th:only-of-type {\n",
       "        vertical-align: middle;\n",
       "    }\n",
       "\n",
       "    .dataframe tbody tr th {\n",
       "        vertical-align: top;\n",
       "    }\n",
       "\n",
       "    .dataframe thead th {\n",
       "        text-align: right;\n",
       "    }\n",
       "</style>\n",
       "<table border=\"1\" class=\"dataframe\">\n",
       "  <thead>\n",
       "    <tr style=\"text-align: right;\">\n",
       "      <th></th>\n",
       "      <th>Title</th>\n",
       "      <th>Ingredients</th>\n",
       "      <th>Steps</th>\n",
       "      <th>Loves</th>\n",
       "      <th>URL</th>\n",
       "    </tr>\n",
       "  </thead>\n",
       "  <tbody>\n",
       "    <tr>\n",
       "      <th>0</th>\n",
       "      <td>Lumpia udang kulit tahu ala fe'</td>\n",
       "      <td>50 gram ayam potong kotak kecil--200 gram udan...</td>\n",
       "      <td>Campur ayam &amp; udang dengan semua bumbu &amp; daun ...</td>\n",
       "      <td>4</td>\n",
       "      <td>/id/resep/4448366-lumpia-udang-kulit-tahu-ala-fe</td>\n",
       "    </tr>\n",
       "    <tr>\n",
       "      <th>1</th>\n",
       "      <td>Bakso Ayam Udang Keto</td>\n",
       "      <td>400 gr ayam giling--250 gr udang kupas--3 telu...</td>\n",
       "      <td>Campur semua bahan dalam food processor, kecua...</td>\n",
       "      <td>2</td>\n",
       "      <td>/id/resep/4474544-bakso-ayam-udang-keto</td>\n",
       "    </tr>\n",
       "    <tr>\n",
       "      <th>2</th>\n",
       "      <td>Udang ala pop corn</td>\n",
       "      <td>1/4 kg udang basah ukuran sedang--1 bungkus ko...</td>\n",
       "      <td>Buang kepala dan cangkang udang.--Cuci bersih ...</td>\n",
       "      <td>2</td>\n",
       "      <td>/id/resep/4418156-udang-ala-pop-corn</td>\n",
       "    </tr>\n",
       "    <tr>\n",
       "      <th>3</th>\n",
       "      <td>Bakwan Udang Sederhana</td>\n",
       "      <td>1/2 kg Tepung terigu (sudah di ayak)--1/2 Udan...</td>\n",
       "      <td>Haluskan bawang putih, garam, picin dan merica...</td>\n",
       "      <td>0</td>\n",
       "      <td>/id/resep/4475500-bakwan-udang-sederhana</td>\n",
       "    </tr>\n",
       "    <tr>\n",
       "      <th>4</th>\n",
       "      <td>Udang Goreng Tepung Mayonaise</td>\n",
       "      <td>300 gr udang (buang kepalanya)--Jeruk nipis--T...</td>\n",
       "      <td>Cuci bersih udang, tambahkan jeruk nipis supay...</td>\n",
       "      <td>6</td>\n",
       "      <td>/id/resep/4474156-udang-goreng-tepung-mayonaise</td>\n",
       "    </tr>\n",
       "  </tbody>\n",
       "</table>\n",
       "</div>"
      ],
      "text/plain": [
       "                             Title  \\\n",
       "0  Lumpia udang kulit tahu ala fe'   \n",
       "1            Bakso Ayam Udang Keto   \n",
       "2               Udang ala pop corn   \n",
       "3           Bakwan Udang Sederhana   \n",
       "4    Udang Goreng Tepung Mayonaise   \n",
       "\n",
       "                                         Ingredients  \\\n",
       "0  50 gram ayam potong kotak kecil--200 gram udan...   \n",
       "1  400 gr ayam giling--250 gr udang kupas--3 telu...   \n",
       "2  1/4 kg udang basah ukuran sedang--1 bungkus ko...   \n",
       "3  1/2 kg Tepung terigu (sudah di ayak)--1/2 Udan...   \n",
       "4  300 gr udang (buang kepalanya)--Jeruk nipis--T...   \n",
       "\n",
       "                                               Steps  Loves  \\\n",
       "0  Campur ayam & udang dengan semua bumbu & daun ...      4   \n",
       "1  Campur semua bahan dalam food processor, kecua...      2   \n",
       "2  Buang kepala dan cangkang udang.--Cuci bersih ...      2   \n",
       "3  Haluskan bawang putih, garam, picin dan merica...      0   \n",
       "4  Cuci bersih udang, tambahkan jeruk nipis supay...      6   \n",
       "\n",
       "                                                URL  \n",
       "0  /id/resep/4448366-lumpia-udang-kulit-tahu-ala-fe  \n",
       "1           /id/resep/4474544-bakso-ayam-udang-keto  \n",
       "2              /id/resep/4418156-udang-ala-pop-corn  \n",
       "3          /id/resep/4475500-bakwan-udang-sederhana  \n",
       "4   /id/resep/4474156-udang-goreng-tepung-mayonaise  "
      ]
     },
     "execution_count": 4,
     "metadata": {},
     "output_type": "execute_result"
    }
   ],
   "source": [
    "# Membaca file CSV dan membuat salinan dari data\n",
    "raw = pd.read_csv(r\"data_indo/dataset-udang.csv\")\n",
    "df = raw.copy()\n",
    "df.head() # menampilkan"
   ]
  },
  {
   "cell_type": "code",
   "execution_count": 5,
   "id": "ec41f83e-e2d4-4b6f-88b8-0de78ff92860",
   "metadata": {},
   "outputs": [
    {
     "data": {
      "text/html": [
       "<div>\n",
       "<style scoped>\n",
       "    .dataframe tbody tr th:only-of-type {\n",
       "        vertical-align: middle;\n",
       "    }\n",
       "\n",
       "    .dataframe tbody tr th {\n",
       "        vertical-align: top;\n",
       "    }\n",
       "\n",
       "    .dataframe thead th {\n",
       "        text-align: right;\n",
       "    }\n",
       "</style>\n",
       "<table border=\"1\" class=\"dataframe\">\n",
       "  <thead>\n",
       "    <tr style=\"text-align: right;\">\n",
       "      <th></th>\n",
       "      <th>Title</th>\n",
       "      <th>Ingredients</th>\n",
       "      <th>Steps</th>\n",
       "      <th>Loves</th>\n",
       "    </tr>\n",
       "  </thead>\n",
       "  <tbody>\n",
       "    <tr>\n",
       "      <th>0</th>\n",
       "      <td>Lumpia udang kulit tahu ala fe'</td>\n",
       "      <td>50 gram ayam potong kotak kecil--200 gram udan...</td>\n",
       "      <td>Campur ayam &amp; udang dengan semua bumbu &amp; daun ...</td>\n",
       "      <td>4</td>\n",
       "    </tr>\n",
       "    <tr>\n",
       "      <th>1</th>\n",
       "      <td>Bakso Ayam Udang Keto</td>\n",
       "      <td>400 gr ayam giling--250 gr udang kupas--3 telu...</td>\n",
       "      <td>Campur semua bahan dalam food processor, kecua...</td>\n",
       "      <td>2</td>\n",
       "    </tr>\n",
       "    <tr>\n",
       "      <th>2</th>\n",
       "      <td>Udang ala pop corn</td>\n",
       "      <td>1/4 kg udang basah ukuran sedang--1 bungkus ko...</td>\n",
       "      <td>Buang kepala dan cangkang udang.--Cuci bersih ...</td>\n",
       "      <td>2</td>\n",
       "    </tr>\n",
       "    <tr>\n",
       "      <th>3</th>\n",
       "      <td>Bakwan Udang Sederhana</td>\n",
       "      <td>1/2 kg Tepung terigu (sudah di ayak)--1/2 Udan...</td>\n",
       "      <td>Haluskan bawang putih, garam, picin dan merica...</td>\n",
       "      <td>0</td>\n",
       "    </tr>\n",
       "    <tr>\n",
       "      <th>4</th>\n",
       "      <td>Udang Goreng Tepung Mayonaise</td>\n",
       "      <td>300 gr udang (buang kepalanya)--Jeruk nipis--T...</td>\n",
       "      <td>Cuci bersih udang, tambahkan jeruk nipis supay...</td>\n",
       "      <td>6</td>\n",
       "    </tr>\n",
       "  </tbody>\n",
       "</table>\n",
       "</div>"
      ],
      "text/plain": [
       "                             Title  \\\n",
       "0  Lumpia udang kulit tahu ala fe'   \n",
       "1            Bakso Ayam Udang Keto   \n",
       "2               Udang ala pop corn   \n",
       "3           Bakwan Udang Sederhana   \n",
       "4    Udang Goreng Tepung Mayonaise   \n",
       "\n",
       "                                         Ingredients  \\\n",
       "0  50 gram ayam potong kotak kecil--200 gram udan...   \n",
       "1  400 gr ayam giling--250 gr udang kupas--3 telu...   \n",
       "2  1/4 kg udang basah ukuran sedang--1 bungkus ko...   \n",
       "3  1/2 kg Tepung terigu (sudah di ayak)--1/2 Udan...   \n",
       "4  300 gr udang (buang kepalanya)--Jeruk nipis--T...   \n",
       "\n",
       "                                               Steps  Loves  \n",
       "0  Campur ayam & udang dengan semua bumbu & daun ...      4  \n",
       "1  Campur semua bahan dalam food processor, kecua...      2  \n",
       "2  Buang kepala dan cangkang udang.--Cuci bersih ...      2  \n",
       "3  Haluskan bawang putih, garam, picin dan merica...      0  \n",
       "4  Cuci bersih udang, tambahkan jeruk nipis supay...      6  "
      ]
     },
     "execution_count": 5,
     "metadata": {},
     "output_type": "execute_result"
    }
   ],
   "source": [
    "# Menghapus kolom 'URL' \n",
    "columns_to_drop = ['URL']\n",
    "df_indoRecipes = df.drop(columns = columns_to_drop).dropna()\n",
    "\n",
    "df_indoRecipes.head() # menampilkan "
   ]
  },
  {
   "cell_type": "code",
   "execution_count": 6,
   "id": "7e3fb99d-ff5f-4bb4-ab87-4f3018b7fe8d",
   "metadata": {},
   "outputs": [
    {
     "data": {
      "image/png": "[encoded data removed]",
      "text/plain": [
       "<Figure size 800x400 with 1 Axes>"
      ]
     },
     "metadata": {},
     "output_type": "display_data"
    }
   ],
   "source": [
    "bins = [0, 10, 20, 30, 40, 50, 60, 70, 80, 90, 100]  # Membagi nilai kolom Loves ke dalam kategori yang lebih kecil berdasarkan rentang angka\n",
    "# list yang berisi label untuk setiap rentang yang ada pada bins\n",
    "labels = ['0-10', '11-20', '21-30', '31-40', '41-50', '51-60', '61-70', '71-80', '81-90', '91-100']\n",
    "\n",
    "# pd.cut untuk mengkategorikan kolom Loves ke dalam rentang-rentang yang telah didefinisikan pada variabel bins\n",
    "df_indoRecipes['Loves_bin'] = pd.cut(df_indoRecipes['Loves'], bins=bins, labels=labels, right=True)\n",
    "\n",
    "# Menghitung frekuensi masing-masing kategori pada kolom Loves_bin dan mengurutkannya berdasarkan label bin\n",
    "counts = df_indoRecipes['Loves_bin'].value_counts().sort_index()\n",
    "\n",
    "# Membuat DataFrame untuk Visualisasi\n",
    "mc = pd.DataFrame(counts).reset_index()\n",
    "mc.columns = ['Rentang Likes', 'Frekuensi']\n",
    "\n",
    "# Memvisualisasikan Data dengan Grafik Batang Horizontal\n",
    "mc.plot(kind='barh', x='Rentang Likes', color='turquoise', figsize=(8,4))\n",
    "plt.xlabel('Frekuensi')\n",
    "plt.ylabel('Rentang Likes')\n",
    "plt.title('Frekuensi Resep Berdasarkan Rentang Likes')\n",
    "plt.grid(axis='x', linestyle='--', alpha=0.7)\n",
    "plt.show()"
   ]
  },
  {
   "cell_type": "code",
   "execution_count": 7,
   "id": "3248b44d-e833-444d-8856-32cc893d1aab",
   "metadata": {},
   "outputs": [
    {
     "name": "stdout",
     "output_type": "stream",
     "text": [
      "                            File  Row Count\n",
      "0     data_indo/dataset-ayam.csv       1916\n",
      "1  data_indo/dataset-kambing.csv       1896\n",
      "2    data_indo/dataset-telur.csv       1974\n",
      "3    data_indo/dataset-udang.csv       1994\n"
     ]
    },
    {
     "data": {
      "image/png": "[encoded data removed]",
      "text/plain": [
       "<Figure size 1000x600 with 1 Axes>"
      ]
     },
     "metadata": {},
     "output_type": "display_data"
    }
   ],
   "source": [
    "# Membuat dictionary kosong yang nantinya akan menyimpan nama file CSV sebagai kunci\n",
    "row_counts_dict = {}\n",
    "\n",
    "# Melakukan iterasi untuk setiap file yang ada dalam list files\n",
    "for file in files:\n",
    "    try:\n",
    "        # Membaca file CSV\n",
    "        df = pd.read_csv(file)\n",
    "        \n",
    "        # Menghitung jumlah baris dalam DataFrame\n",
    "        row_count = len(df)\n",
    "        \n",
    "        # Menyimpan jumlah baris ke dalam dictionary\n",
    "        row_counts_dict[file] = row_count\n",
    "    except Exception as e:\n",
    "        print(f\"Error processing {file}: {e}\")\n",
    "\n",
    "# Mengonversi dictionary ke DataFrame\n",
    "row_counts_df = pd.DataFrame(list(row_counts_dict.items()), columns=['File', 'Row Count'])\n",
    "\n",
    "# Menampilkan DataFrame\n",
    "print(row_counts_df)\n",
    "\n",
    "# Membuat grafik berdasarkan data jumlah baris yang ada di DataFrame\n",
    "fig, ax = plt.subplots(figsize=(10, 6))\n",
    "\n",
    "# Menggambar grafik batang (bar chart) dengan nama file di sumbu x dan jumlah baris di sumbu y\n",
    "row_counts_df.plot(kind='bar', x='File', y='Row Count', ax=ax, color='skyblue', legend=False)\n",
    "plt.title('Row Count Comparison Across CSV Files')\n",
    "plt.xlabel('File')\n",
    "plt.ylabel('Row Count')\n",
    "plt.xticks(rotation=45, ha='right')\n",
    "plt.grid(axis='y', linestyle='--', alpha=0.7)\n",
    "\n",
    "# Menyesuaikan tata letak untuk memuat label\n",
    "plt.tight_layout()\n",
    "\n",
    "# Menampilkan plot\n",
    "plt.show()"
   ]
  },
  {
   "cell_type": "code",
   "execution_count": 8,
   "id": "600582a0-e0d9-4e39-9f83-e208a81874b6",
   "metadata": {},
   "outputs": [
    {
     "name": "stdout",
     "output_type": "stream",
     "text": [
      "Dimensi data resep: (1847, 5)\n"
     ]
    }
   ],
   "source": [
    "def isEnglish(s):\n",
    "    try:\n",
    "        s.encode(encoding='utf-8').decode('ascii')\n",
    "    except UnicodeDecodeError:\n",
    "        return False\n",
    "    else:\n",
    "        return True\n",
    "    \n",
    "# Membuat Mask Boolean\n",
    "mask = df_indoRecipes['Ingredients'].apply(isEnglish)\n",
    "df_indoRecipes = df_indoRecipes[mask].dropna() # Menerapkan Mask dan Menghapus Nilai Kosong (NaN)\n",
    "\n",
    "# Menampilkan Bentuk Data\n",
    "print(\"Dimensi data resep:\",df_indoRecipes.shape)"
   ]
  },
  {
   "cell_type": "code",
   "execution_count": 9,
   "id": "2b2a1d55-2f97-4143-8de0-dd118c9a9b31",
   "metadata": {},
   "outputs": [],
   "source": [
    "# Mengubah Semua Teks Menjadi Huruf Kecil\n",
    "df_indoRecipes['Ingredients'] = df_indoRecipes['Ingredients'].apply(lambda x: x.lower())\n",
    "\n",
    "# Inisialisasi Daftar Bahan\n",
    "total_ingredients = []\n",
    "all_receipes_ingredients =  []\n",
    "# Memproses Setiap Resep\n",
    "for i in range(len(df_indoRecipes)):\n",
    "    all_ingredients = list()\n",
    "    # Memisahkan setiap resep menjadi bahan-bahan yang terpisah\n",
    "    try:\n",
    "        ingred = df_indoRecipes.loc[i, \"Ingredients\"][1:-1]\n",
    "    except:\n",
    "        continue;\n",
    "\n",
    "    # Membersihkan dan Memisahkan Setiap Bahan\n",
    "    for ing in (ingred.split(',')):\n",
    "        ing = remove_stopwords(ing) # Menghapus stopwords\n",
    "        ing = strip_numeric(ing) # Menghapus angka\n",
    "        ing = re.sub(r'\\(.*oz.\\)|(®)|(.*ed)|(.*ly)|tast|sprig|inch|purpose|flmy|taste|boneless|skinless|chunks|fresh|large|cook drain|green|frozen|ground|tablespoon|teaspoon|cup','',ing).strip()\n",
    "        ing = strip_short(ing,2)\n",
    "        ing = strip_multiple_whitespaces(ing) # Menghapus spasi ganda\n",
    "        ing = strip_punctuation(ing)\n",
    "        ing = strip_non_alphanum(ing)\n",
    "        \n",
    "        if len(ing)>0:\n",
    "            all_ingredients.append(ing)\n",
    "            total_ingredients.append(ing)\n",
    "    all_receipes_ingredients.append(all_ingredients)\n",
    "counts_ingr = collections.Counter(total_ingredients) # Menghitung jumlah kemunculan setiap bahan di seluruh resep\n",
    "all_receipes_ingredients.append(all_ingredients)"
   ]
  },
  {
   "cell_type": "code",
   "execution_count": 10,
   "id": "66ba0653-6846-4688-ab62-5303858b0225",
   "metadata": {},
   "outputs": [
    {
     "name": "stdout",
     "output_type": "stream",
     "text": [
      "---- Bahan Paling Umum ----\n",
      "[('gula', 60), ('garam', 52), ('gr udang', 45), ('ap rasa ', 33), ('ap ', 29), ('udang', 27), ('iris  siung bawang putih', 25), ('ang', 23), ('ikit air ', 22), ('kupas', 15), ('ri', 13), ('garam ', 11), ('lada', 11), ('iris tipis  siung bawang putih', 10), ('bersihkan', 10), ('buang kepala', 10), ('merica', 10), ('gram udang', 9), ('gula ', 8), ('ap', 8), ('cuci', 8), ('merica ', 7), ('ap rasa', 7), ('gula pasir', 7), ('iris  siung bawang merah', 6)]\n",
      "\n",
      "\n",
      "---- Bahan Paling Jarang ----\n",
      "[('dang tempe pete bawang merah bawang putih cabai merah tomat secukupnya gula dan garam ', 1), ('cuci tiriskn  bgks tepung serbaguna  sdm terigu minyak untuk menggoreng secukupnya air ', 1), ('ri garam gula merica ', 1), ('ap rasa garam dan gula secukup nya minyak goreng ', 1), ('gram udang  buah jagung  buah bawang daun  siung bawang putih  siung bawang merah tepung terigu kunyit air sesuai selera gula', 1), ('ap minyak untuk menggoreng ', 1), ('gr udang kupas  bh anak jagung pot serong  ons petai  ons cabe merah bawang merah ulek  bh tomat iris  btg daun bawang iris garam', 1), ('ap jamur ', 1), ('udang kecil ngga trllu kecil ya  buah tahu  butir bawang putih  butir bawang merah  biji cabe merah  biji cabe rawit opsional  ruas kunyit  lembar daun jeruk  buah asem jawa gula garam micin royco ayam kecap ', 1), ('ang  siung bawang merah  siung bawang putih  buah cabe merah  buah cabe rawit  ruas jahe  ruas kunyit  ruas lengkuas  batang sereh  buah tomat merah  lembar daun jeruk  lembar daun salam secukupnya gula dan garam minyak untuk menumis secukupnya air ', 1)]\n",
      "type counts ingr <class 'collections.Counter'>\n"
     ]
    },
    {
     "data": {
      "text/plain": [
       "<Axes: ylabel='kata'>"
      ]
     },
     "execution_count": 10,
     "metadata": {},
     "output_type": "execute_result"
    },
    {
     "data": {
      "image/png": "[encoded data removed]",
      "text/plain": [
       "<Figure size 640x480 with 1 Axes>"
      ]
     },
     "metadata": {},
     "output_type": "display_data"
    }
   ],
   "source": [
    "# Mencari bahan yang paling umum digunakan di semua resep\n",
    "print (\"---- Bahan Paling Umum ----\")\n",
    "print (counts_ingr.most_common(25))\n",
    "\n",
    "print (\"\\n\")\n",
    "# Mencari bahan yang paling jarang digunakan di semua resep\n",
    "print (\"---- Bahan Paling Jarang ----\")\n",
    "print (counts_ingr.most_common()[-10:])\n",
    "print(\"type counts ingr\",type(counts_ingr))\n",
    "\n",
    "most_common = counts_ingr.most_common(25)\n",
    "mc = pd.DataFrame(most_common, columns=['kata', 'frekuensi'])\n",
    "\n",
    "mc.plot(kind='barh', x='kata', align='center', color='turquoise')"
   ]
  },
  {
   "cell_type": "code",
   "execution_count": 11,
   "id": "0352ba10-d0bc-4411-862b-fb6ac5ff287a",
   "metadata": {},
   "outputs": [
    {
     "name": "stdout",
     "output_type": "stream",
     "text": [
      "len 1807\n"
     ]
    }
   ],
   "source": [
    "# Pemrosesan dan pembersihan langkah-langkah resep (Steps)\n",
    "# Mengonversi ke huruf kecil\n",
    "df_indoRecipes['Steps'] = df_indoRecipes['Steps'].apply(lambda x: x.lower())\n",
    "\n",
    "all_instructions =  []\n",
    "\n",
    "for i in range(len(df_indoRecipes)):\n",
    "    try:\n",
    "        instrs = df_indoRecipes.loc[i, \"Ingredients\"][1:-1]\n",
    "    except:\n",
    "        continue;      \n",
    "    for instr in (instrs.split('.')):\n",
    "        instr = remove_stopwords(instr)\n",
    "        instr = strip_numeric(instr)\n",
    "        instr = strip_short(instr,2)\n",
    "        instr = strip_multiple_whitespaces(instr)\n",
    "        instr = strip_punctuation(instr)\n",
    "        instr = strip_non_alphanum(instr)\n",
    "        if len(instr)>0:\n",
    "            all_instructions.append(instr)\n",
    "\n",
    "# Menampilkan panjang list all_instructions\n",
    "print(\"len\",len(all_instructions))\n",
    "\n",
    "# Memformat kolom dengan cara yang bisa diterima oleh gensim\n",
    "all_instructions_splitted = [sentx.split() for sentx in all_instructions]\n",
    "\n",
    "# Menyimpan dataframe yang sudah diproses\n",
    "df_indoRecipes.to_pickle(\"processed/df_indoRecipesUdang.pkl\")"
   ]
  },
  {
   "cell_type": "code",
   "execution_count": 12,
   "id": "8b190724-f029-45f9-82f5-ea3096008a16",
   "metadata": {},
   "outputs": [
    {
     "data": {
      "text/plain": [
       "0       campur ayam & udang dengan semua bumbu & daun ...\n",
       "1       campur semua bahan dalam food processor, kecua...\n",
       "2       buang kepala dan cangkang udang.--cuci bersih ...\n",
       "4       cuci bersih udang, tambahkan jeruk nipis supay...\n",
       "7       cuci udang bersih, lumuri dengan jeruk nipis--...\n",
       "                              ...                        \n",
       "1699    kupas udang, sisihkan kepala nya. kepala nya d...\n",
       "1700    bersihkan udang, belah bagian atasnya, lumuri ...\n",
       "1701    siap kan semua bahan, potong dan cuci bersih. ...\n",
       "1702    panaskan wajan, tuang minyak tunggu hingga pan...\n",
       "1703    panaskan minyak setelah panas masukan bumbu ha...\n",
       "Name: clean_instructions, Length: 1568, dtype: object"
      ]
     },
     "execution_count": 12,
     "metadata": {},
     "output_type": "execute_result"
    }
   ],
   "source": [
    "# Menambahkan Bahan Bersih ke DataFrame\n",
    "df_indoRecipes['clean_ingredients'] = pd.Series(all_receipes_ingredients)\n",
    "# Menghapus Baris yang Mengandung Nilai Kosong (NaN)\n",
    "df_indoRecipes = df_indoRecipes.dropna()\n",
    "# Menghitung Jumlah Bahan untuk Setiap Resep \n",
    "df_indoRecipes['ingredient_count'] =  df_indoRecipes.apply(lambda row: len(row['clean_ingredients']), axis = 1)\n",
    "# Membersihkan Instruksi Resep untuk pelatihan recipe embeddings.\n",
    "df_indoRecipes['clean_instructions'] = df_indoRecipes['Steps'].apply(lambda x: x.lower())\n",
    "# Menampilkan Kolom clean_instructions\n",
    "df_indoRecipes['clean_instructions']"
   ]
  },
  {
   "cell_type": "code",
   "execution_count": 13,
   "id": "7e1029fb-27be-4560-be08-cb1d258cab84",
   "metadata": {},
   "outputs": [],
   "source": [
    "df_indoRecipes.to_pickle(\"processed/df_indoRecipesUdang.pkl\")"
   ]
  },
  {
   "cell_type": "code",
   "execution_count": 14,
   "id": "5614184d-9d2c-4bfe-bdd5-ab49a161633c",
   "metadata": {},
   "outputs": [
    {
     "data": {
      "text/plain": [
       "[['bersihkan', 'udang', 'iris', 'bawang', 'merah'],\n",
       " ['bawang',\n",
       "  'putih',\n",
       "  'dan',\n",
       "  'bawang',\n",
       "  'bombai',\n",
       "  'menjadi',\n",
       "  'bagian',\n",
       "  'yang',\n",
       "  'kecil',\n",
       "  'dan',\n",
       "  'tipis',\n",
       "  'siapkan',\n",
       "  'wajan',\n",
       "  'teflon'],\n",
       " ['nyalakan', 'api', 'kecil'],\n",
       " ['kemudian',\n",
       "  'masukan',\n",
       "  'mentega',\n",
       "  'hingga',\n",
       "  'leleh',\n",
       "  'dan',\n",
       "  'panas',\n",
       "  'tumis',\n",
       "  'bawang',\n",
       "  'merah',\n",
       "  'dan',\n",
       "  'bawang',\n",
       "  'putih',\n",
       "  'sebentar',\n",
       "  'saja',\n",
       "  'sekitar',\n",
       "  'menit',\n",
       "  'lalu',\n",
       "  'masukan',\n",
       "  'bawang',\n",
       "  'bombai',\n",
       "  'tumis',\n",
       "  'lagi',\n",
       "  'hingga',\n",
       "  'harum',\n",
       "  'masukkan',\n",
       "  'udang'],\n",
       " ['garam'],\n",
       " ['saus', 'tiram'],\n",
       " ['as',\n",
       "  'dan',\n",
       "  'saus',\n",
       "  'tomat',\n",
       "  'aduk',\n",
       "  'hingga',\n",
       "  'rata',\n",
       "  'jika',\n",
       "  'sudah',\n",
       "  'matang'],\n",
       " ['angkat', 'dan', 'sajikan']]"
      ]
     },
     "execution_count": 14,
     "metadata": {},
     "output_type": "execute_result"
    }
   ],
   "source": [
    "# Fungsi untuk memproses kolom 'recipe' ke format list-of-lists.\n",
    "import re\n",
    "from gensim.parsing.preprocessing import remove_stopwords, strip_punctuation, strip_numeric, strip_non_alphanum, strip_multiple_whitespaces, strip_short\n",
    "\n",
    "def process_recipe(recipe):\n",
    "    recipeProcessed = []\n",
    "    for ing in (recipe.split(',')):\n",
    "        ing = remove_stopwords(ing)\n",
    "        ing = strip_numeric(ing)\n",
    "        ing = re.sub(r'\\(.*oz.\\)|(®)|(.*ed)|(.*ly)|tast|sprig|inch|purpose|flmy|taste|boneless|skinless|chunks|fresh|large|cook drain|green|frozen|ground|tablespoon|teaspoon|recipe|cup','',ing).strip()\n",
    "        ing = strip_short(ing,2)\n",
    "        ing = strip_multiple_whitespaces(ing)\n",
    "        ing = strip_punctuation(ing)\n",
    "        ing = strip_non_alphanum(ing)\n",
    "        if ing: # Jika setelah diproses masih ada bahan yang tersisa\n",
    "            recipeProcessed.append(ing) # Menambahkan bahan yang sudah dibersihkan ke dalam list\n",
    "    return [oneInstr.split() for oneInstr in recipeProcessed] # Memisahkan setiap instruksi menjadi kata-kata (list)\n",
    "\n",
    "process_recipe(df_indoRecipes['clean_instructions'][11])"
   ]
  },
  {
   "cell_type": "code",
   "execution_count": 15,
   "id": "8b1efcbd-3869-46a4-a1df-96a016348bae",
   "metadata": {},
   "outputs": [
    {
     "name": "stdout",
     "output_type": "stream",
     "text": [
      "[['campur', 'semua', 'bahan', 'dalam', 'food', 'processor'], ['kecuali', 'daun', 'bawang', 'dan', 'minyak', 'goreng', 'tuang', 'dalam', 'baskom', 'lalu', 'taburi', 'daun', 'bawang', 'dan', 'minyak', 'goreng'], ['ang', 'bulatkan', 'adonan', 'dengan', 'menggunakan', 'dua', 'sendok', 'lalu', 'goreng', 'sampai', 'matang', 'adonan', 'akan', 'mengembang', 'saat', 'di', 'wajan'], ['tapi', 'kembali', 'kempes', 'stelah', 'diangkat']]\n"
     ]
    }
   ],
   "source": [
    "# Menambahkan instruksi yang telah dibersihkan\n",
    "df_indoRecipes['clean_instructions'] = df_indoRecipes['clean_instructions'].apply(lambda x:process_recipe(x))\n",
    "print(df_indoRecipes['clean_instructions'][1])"
   ]
  },
  {
   "cell_type": "code",
   "execution_count": 16,
   "id": "a172adb2-685c-45d2-b17d-458bdaf8ac75",
   "metadata": {},
   "outputs": [
    {
     "name": "stdout",
     "output_type": "stream",
     "text": [
      "[['campur', 'ayam', 'udang', 'dengan', 'semua', 'bumbu', 'daun', 'bawang', 'aduk', 'rata', 'sesudah', 'rata', 'masukkan', 'tepung', 'sagu', 'terigu', 'putih', 'telur', 'aduk', 'rata', 'isikan', 'ke', 'lembaran', 'kulit', 'kembang', 'tahu', 'lipat', 'seperti', 'melipat', 'lumpia', 'sambil', 'dipadatkan', 'agar', 'rapi', 'bentuk', 'agak', 'pipih', 'jangan', 'terlalu', 'bulat', 'olesi', 'putih', 'telur', 'diujung', 'lipatan', 'agar', 'merekat', 'rapat', 'kukus', 'sekitar', 'menit', 'hingga', 'matang', 'angkat', 'dinginkan', 'siap', 'digoreng', 'dengan', 'api', 'kecil', 'sebentar', 'anakku', 'suka', 'digoreng', 'agak', 'lama', 'dengan', 'kuning', 'telur', 'kocok', 'sisa', 'adonan', 'tadi', 'nanti', 'jadi', 'ada', 'kayak', 'jala', 'crispynya', 'yang', 'gurih', 'kering', 'angkat', 'tiriskan', 'jika', 'sudah', 'digoreng', 'matang', 'sajikan', 'dengan', 'dipotong', 'diagonal', 'potong', 'serong', 'siap', 'disantap', 'dengan', 'saus', 'sambal', 'botol', 'yang', 'biasanya', 'saya', 'rebus', 'dengan', 'bawang', 'goreng', 'cabe', 'rawit', 'iris', 'ikit', 'air', 'selamat', 'mencoba'], ['campur', 'semua', 'bahan', 'dalam', 'food', 'processor', 'kecuali', 'daun', 'bawang', 'dan', 'minyak', 'goreng', 'tuang', 'dalam', 'baskom', 'lalu', 'taburi', 'daun', 'bawang', 'dan', 'minyak', 'goreng', 'ang', 'bulatkan', 'adonan', 'dengan', 'menggunakan', 'dua', 'sendok', 'lalu', 'goreng', 'sampai', 'matang', 'adonan', 'akan', 'mengembang', 'saat', 'di', 'wajan', 'tapi', 'kembali', 'kempes', 'stelah', 'diangkat'], ['buang', 'kepala', 'dan', 'cangkang', 'udang', 'cuci', 'bersih', 'udang', 'tepung', 'bumbu', 'dibagi', 'jadi', 'adonan', 'adonan', 'basah', 'dan', 'adonan', 'kering', 'masukkan', 'udang', 'ke', 'dalam', 'adonan', 'tepung', 'bumbu', 'kering', 'gulirkan', 'ke', 'dlm', 'tepung', 'sambil', 'ditekan', 'lalu', 'masukkan', 'ke', 'dalam', 'tepung', 'bumbu', 'adonan', 'basah', 'gulirkan', 'lagi', 'sambil', 'di', 'tekan', 'lalu', 'masukkan', 'lagi', 'di', 'adonan', 'tepung', 'bumbu', 'kering', 'sambil', 'ditekan', 'agar', 'tepung', 'menempel', 'sempurna', 'panaskan', 'minyak', 'goreng', 'lalu', 'goreng', 'udang', 'sampai', 'kuning', 'keemasan', 'angkat', 'dan', 'tiriskan', 'sajikan', 'selagi', 'hangat']]\n"
     ]
    }
   ],
   "source": [
    "# Menggabungkan instruksi yang terpecah menjadi satu list per resep\n",
    "all_Sentences = []\n",
    "for instructions in df_indoRecipes['clean_instructions']:\n",
    "    # Gabungkan semua bagian instruksi dari setiap resep\n",
    "    combined_instructions = [word for sentence in instructions for word in sentence]\n",
    "    all_Sentences.append(combined_instructions)\n",
    "\n",
    "# Periksa contoh hasilnya\n",
    "print(all_Sentences[:3])  # Menampilkan 3 resep pertama yang sudah digabungkan"
   ]
  },
  {
   "cell_type": "code",
   "execution_count": 17,
   "id": "f2c60ad2-d351-412f-98f9-9aae82cbae59",
   "metadata": {},
   "outputs": [
    {
     "name": "stdout",
     "output_type": "stream",
     "text": [
      "<class 'list'>\n",
      "<class 'list'>\n",
      "['buang', 'kepala', 'dan', 'cangkang', 'udang', 'cuci', 'bersih', 'udang', 'tepung', 'bumbu', 'dibagi', 'jadi', 'adonan', 'adonan', 'basah', 'dan', 'adonan', 'kering', 'masukkan', 'udang', 'ke', 'dalam', 'adonan', 'tepung', 'bumbu', 'kering', 'gulirkan', 'ke', 'dlm', 'tepung', 'sambil', 'ditekan', 'lalu', 'masukkan', 'ke', 'dalam', 'tepung', 'bumbu', 'adonan', 'basah', 'gulirkan', 'lagi', 'sambil', 'di', 'tekan', 'lalu', 'masukkan', 'lagi', 'di', 'adonan', 'tepung', 'bumbu', 'kering', 'sambil', 'ditekan', 'agar', 'tepung', 'menempel', 'sempurna', 'panaskan', 'minyak', 'goreng', 'lalu', 'goreng', 'udang', 'sampai', 'kuning', 'keemasan', 'angkat', 'dan', 'tiriskan', 'sajikan', 'selagi', 'hangat']\n"
     ]
    }
   ],
   "source": [
    "all_Sentences = []\n",
    "for instructions in df_indoRecipes['clean_instructions']:\n",
    "    # Gabungkan semua bagian instruksi dari setiap resep\n",
    "    combined_instructions = [word for sentence in instructions for word in sentence]\n",
    "    all_Sentences.append(combined_instructions)\n",
    "\n",
    "# Cek apakah all_Sentences adalah list of lists\n",
    "print(type(all_Sentences))  # Seharusnya <class 'list'>\n",
    "print(type(all_Sentences[1]))  # Seharusnya <class 'list'>\n",
    "print(all_Sentences[2])"
   ]
  },
  {
   "cell_type": "raw",
   "id": "fee70ac9-93db-4278-bf99-11e1e81a0386",
   "metadata": {},
   "source": [
    "# Proses Learning / Modeling\n",
    "Model yang digunakan dalam proyek ini adalah BM25 untuk pencarian dan FastText untuk menghasilkan embedding dari instruksi resep. BM25 digunakan untuk menghitung relevansi resep berdasarkan kata kunci yang dimasukkan oleh pengguna.\n",
    "Sementara itu, FastText dilatih menggunakan instruksi resep yang telah dibersihkan untuk menghasilkan representasi vektor dari setiap resep. Proses pelatihan melibatkan penggabungan semua instruksi menjadi satu list per resep dan kemudian melatih model FastText untuk mendapatkan embedding yang dapat digunakan dalam pencarian resep yang mirip."
   ]
  },
  {
   "cell_type": "markdown",
   "id": "5ebcfa96-c500-4ed2-86b1-f52d61022bf9",
   "metadata": {},
   "source": [
    "# Menggunakan teknik embedding untuk resep menggunakan Gensim"
   ]
  },
  {
   "cell_type": "code",
   "execution_count": 18,
   "id": "c98972ce-d3d9-479e-86fb-6d9539b226b4",
   "metadata": {},
   "outputs": [
    {
     "name": "stdout",
     "output_type": "stream",
     "text": [
      "4.3.3\n"
     ]
    }
   ],
   "source": [
    "import gensim\n",
    "print(gensim.__version__)"
   ]
  },
  {
   "cell_type": "code",
   "execution_count": 19,
   "id": "f2957dbc-d16f-4f1c-bf11-df9475c6f2db",
   "metadata": {},
   "outputs": [
    {
     "name": "stdout",
     "output_type": "stream",
     "text": [
      "Jumlah kalimat dalam all_Sentences: 1568\n",
      "Mulai training...\n",
      "Menyimpan model...\n",
      "Model tersimpan.\n"
     ]
    }
   ],
   "source": [
    "from gensim.models import FastText\n",
    "\n",
    "# Inisialisasi model FastText\n",
    "model_indofood_fasttext = FastText(vector_size=100, window=5, min_count=5, workers=4, sg=1)\n",
    "\n",
    "# Bangun vocab dari data\n",
    "print(f\"Jumlah kalimat dalam all_Sentences: {len(all_Sentences)}\")\n",
    "model_indofood_fasttext.build_vocab(corpus_iterable=all_Sentences)\n",
    "\n",
    "# Latih model\n",
    "print(\"Mulai training...\")\n",
    "model_indofood_fasttext.train(corpus_iterable=all_Sentences, total_examples=len(all_Sentences), epochs=5)\n",
    "\n",
    "# Simpan model\n",
    "print(\"Menyimpan model...\")\n",
    "model_indofood_fasttext.save(\"models/model_indofood_fasttext.model\")\n",
    "print(\"Model tersimpan.\")"
   ]
  },
  {
   "cell_type": "code",
   "execution_count": 20,
   "id": "b8547175-f5b2-4a4f-839b-c3819bb9ef10",
   "metadata": {},
   "outputs": [
    {
     "name": "stdout",
     "output_type": "stream",
     "text": [
      "85946 Kata-kata dalam Corpus model berbasis Resep!\n"
     ]
    },
    {
     "data": {
      "text/plain": [
       "[('sambel', 0.9021678566932678),\n",
       " ('udh', 0.8819685578346252),\n",
       " ('yummy', 0.8812606334686279),\n",
       " ('asat', 0.8781557083129883),\n",
       " ('bangkok', 0.8741781711578369),\n",
       " ('manisnya', 0.8707756996154785),\n",
       " ('mayonnaise', 0.8680790066719055),\n",
       " ('bgt', 0.8666893839836121),\n",
       " ('deh', 0.8659201860427856),\n",
       " ('sambalnya', 0.864173412322998)]"
      ]
     },
     "execution_count": 20,
     "metadata": {},
     "output_type": "execute_result"
    }
   ],
   "source": [
    "total_words1 = model_indofood_fasttext.corpus_total_words\n",
    "print(total_words1,\"Kata-kata dalam Corpus model berbasis Resep!\")\n",
    "\n",
    "model_indofood_fasttext.wv.most_similar(\"udang sambel\") # Mengambil kata-kata yang paling mirip dengan frasa \"udang sambel\" "
   ]
  },
  {
   "cell_type": "code",
   "execution_count": 21,
   "id": "906cb72e-5af5-47db-b07e-0ea5e33dd8e7",
   "metadata": {},
   "outputs": [
    {
     "data": {
      "text/plain": [
       "[('kemudian', 0.8254855275154114),\n",
       " ('dan', 0.7993283867835999),\n",
       " ('lalu', 0.7972329258918762),\n",
       " ('ny', 0.7960312962532043),\n",
       " ('puyuh', 0.7863548398017883),\n",
       " ('udangnya', 0.786241352558136),\n",
       " ('kembang', 0.7856400609016418),\n",
       " ('cangkang', 0.7702959179878235),\n",
       " ('kemangi', 0.7655112147331238),\n",
       " ('jagung', 0.7652067542076111)]"
      ]
     },
     "execution_count": 21,
     "metadata": {},
     "output_type": "execute_result"
    }
   ],
   "source": [
    "#Mengambil dan menampilkan kata-kata yang paling mirip dengan kata \"udang\" berdasarkan representasi vektor dalam model.\n",
    "model_indofood_fasttext.wv.most_similar(\"udang\")"
   ]
  },
  {
   "cell_type": "code",
   "execution_count": 22,
   "id": "5881dd3b-4a7a-4657-b510-3eb518af900b",
   "metadata": {},
   "outputs": [],
   "source": [
    "# Mendefinisikan fungsi untuk mendapatkan embedding untuk resep\n",
    "def getSentenceEmbedding(sentence): # Mengonversi kalimat menjadi vektor embedding dengan menghitung rata-rata vektor kata dalam kalimat\n",
    "    countFound = 0\n",
    "    embeddingList = []\n",
    "    for wordx in sentence:\n",
    "        try:\n",
    "            vector1 = model_indofood_fasttext.wv[wordx]\n",
    "            embeddingList.append(vector1)\n",
    "            countFound+=1\n",
    "        except:\n",
    "            continue;\n",
    "    sumEmbeddings = sum(embeddingList)\n",
    "    return np.true_divide(sumEmbeddings, countFound)  \n",
    "\n",
    "def getRecipeEmbedding(instruction): # Mengonversi seluruh resep menjadi vektor embedding dengan menghitung rata-rata embedding kalimat dalam resep\n",
    "    embeddingList = []\n",
    "    for sentence in instruction:\n",
    "        embeddingList.append(getSentenceEmbedding(sentence))\n",
    "    sumEmbeddings = sum(embeddingList)\n",
    "    return np.true_divide(sumEmbeddings, len(instruction))  "
   ]
  },
  {
   "cell_type": "code",
   "execution_count": 23,
   "id": "a547bf35-a7b6-435a-ae18-731be557b628",
   "metadata": {},
   "outputs": [
    {
     "name": "stderr",
     "output_type": "stream",
     "text": [
      "C:\\Users\\annis\\AppData\\Local\\Temp\\ipykernel_14052\\2139036755.py:13: RuntimeWarning: invalid value encountered in divide\n",
      "  return np.true_divide(sumEmbeddings, countFound)\n"
     ]
    }
   ],
   "source": [
    "# Menambahkan embedding resep menggunakan FastText\n",
    "df_indoRecipes['recipe_embedding_fasttext'] =  df_indoRecipes.apply(lambda row: getRecipeEmbedding(row['clean_instructions']), axis = 1)"
   ]
  },
  {
   "cell_type": "code",
   "execution_count": 24,
   "id": "e241b35a-16b9-4a81-8c1e-37dcaf7d07e1",
   "metadata": {},
   "outputs": [
    {
     "data": {
      "text/html": [
       "<div>\n",
       "<style scoped>\n",
       "    .dataframe tbody tr th:only-of-type {\n",
       "        vertical-align: middle;\n",
       "    }\n",
       "\n",
       "    .dataframe tbody tr th {\n",
       "        vertical-align: top;\n",
       "    }\n",
       "\n",
       "    .dataframe thead th {\n",
       "        text-align: right;\n",
       "    }\n",
       "</style>\n",
       "<table border=\"1\" class=\"dataframe\">\n",
       "  <thead>\n",
       "    <tr style=\"text-align: right;\">\n",
       "      <th></th>\n",
       "      <th>Title</th>\n",
       "      <th>Ingredients</th>\n",
       "      <th>Steps</th>\n",
       "      <th>Loves</th>\n",
       "      <th>Loves_bin</th>\n",
       "      <th>clean_ingredients</th>\n",
       "      <th>ingredient_count</th>\n",
       "      <th>clean_instructions</th>\n",
       "      <th>recipe_embedding_fasttext</th>\n",
       "    </tr>\n",
       "  </thead>\n",
       "  <tbody>\n",
       "    <tr>\n",
       "      <th>0</th>\n",
       "      <td>Lumpia udang kulit tahu ala fe'</td>\n",
       "      <td>50 gram ayam potong kotak kecil--200 gram udan...</td>\n",
       "      <td>campur ayam &amp; udang dengan semua bumbu &amp; daun ...</td>\n",
       "      <td>4</td>\n",
       "      <td>0-10</td>\n",
       "      <td>[gram ayam potong kotak kecil  gram udang besa...</td>\n",
       "      <td>2</td>\n",
       "      <td>[[campur, ayam, udang, dengan, semua, bumbu, d...</td>\n",
       "      <td>[0.05864343, -0.14423992, -0.06797666, -0.0544...</td>\n",
       "    </tr>\n",
       "    <tr>\n",
       "      <th>1</th>\n",
       "      <td>Bakso Ayam Udang Keto</td>\n",
       "      <td>400 gr ayam giling--250 gr udang kupas--3 telu...</td>\n",
       "      <td>campur semua bahan dalam food processor, kecua...</td>\n",
       "      <td>2</td>\n",
       "      <td>0-10</td>\n",
       "      <td>[gr ayam giling  gr udang kupas  telur ayam ut...</td>\n",
       "      <td>2</td>\n",
       "      <td>[[campur, semua, bahan, dalam, food, processor...</td>\n",
       "      <td>[0.09421343, -0.13411982, -0.120618165, 0.0442...</td>\n",
       "    </tr>\n",
       "    <tr>\n",
       "      <th>2</th>\n",
       "      <td>Udang ala pop corn</td>\n",
       "      <td>1/4 kg udang basah ukuran sedang--1 bungkus ko...</td>\n",
       "      <td>buang kepala dan cangkang udang.--cuci bersih ...</td>\n",
       "      <td>2</td>\n",
       "      <td>0-10</td>\n",
       "      <td>[ang  bungkus kobe tepung ayam super crispy se...</td>\n",
       "      <td>1</td>\n",
       "      <td>[[buang, kepala, dan, cangkang, udang, cuci, b...</td>\n",
       "      <td>[0.13110535, -0.11878722, -0.15282568, 0.11974...</td>\n",
       "    </tr>\n",
       "    <tr>\n",
       "      <th>4</th>\n",
       "      <td>Udang Goreng Tepung Mayonaise</td>\n",
       "      <td>300 gr udang (buang kepalanya)--jeruk nipis--t...</td>\n",
       "      <td>cuci bersih udang, tambahkan jeruk nipis supay...</td>\n",
       "      <td>6</td>\n",
       "      <td>0-10</td>\n",
       "      <td>[ap rasa daun jeruk bumbu dihaluskan  siung ba...</td>\n",
       "      <td>1</td>\n",
       "      <td>[[cuci, bersih, udang], [alam, adonan, cair, t...</td>\n",
       "      <td>[0.118558705, -0.16813436, -0.074648276, -0.03...</td>\n",
       "    </tr>\n",
       "    <tr>\n",
       "      <th>7</th>\n",
       "      <td>Sambal udang goreng</td>\n",
       "      <td>1/4 kg udang--2 buah jeruk nipis--minyak goren...</td>\n",
       "      <td>cuci udang bersih, lumuri dengan jeruk nipis--...</td>\n",
       "      <td>7</td>\n",
       "      <td>0-10</td>\n",
       "      <td>[gr udang secukupnya jahe memarkan secukupnya ...</td>\n",
       "      <td>1</td>\n",
       "      <td>[[cuci, udang, bersih], [lumuri, dengan, jeruk...</td>\n",
       "      <td>[0.05212927, -0.23304701, -0.019638013, -0.011...</td>\n",
       "    </tr>\n",
       "  </tbody>\n",
       "</table>\n",
       "</div>"
      ],
      "text/plain": [
       "                             Title  \\\n",
       "0  Lumpia udang kulit tahu ala fe'   \n",
       "1            Bakso Ayam Udang Keto   \n",
       "2               Udang ala pop corn   \n",
       "4    Udang Goreng Tepung Mayonaise   \n",
       "7              Sambal udang goreng   \n",
       "\n",
       "                                         Ingredients  \\\n",
       "0  50 gram ayam potong kotak kecil--200 gram udan...   \n",
       "1  400 gr ayam giling--250 gr udang kupas--3 telu...   \n",
       "2  1/4 kg udang basah ukuran sedang--1 bungkus ko...   \n",
       "4  300 gr udang (buang kepalanya)--jeruk nipis--t...   \n",
       "7  1/4 kg udang--2 buah jeruk nipis--minyak goren...   \n",
       "\n",
       "                                               Steps  Loves Loves_bin  \\\n",
       "0  campur ayam & udang dengan semua bumbu & daun ...      4      0-10   \n",
       "1  campur semua bahan dalam food processor, kecua...      2      0-10   \n",
       "2  buang kepala dan cangkang udang.--cuci bersih ...      2      0-10   \n",
       "4  cuci bersih udang, tambahkan jeruk nipis supay...      6      0-10   \n",
       "7  cuci udang bersih, lumuri dengan jeruk nipis--...      7      0-10   \n",
       "\n",
       "                                   clean_ingredients  ingredient_count  \\\n",
       "0  [gram ayam potong kotak kecil  gram udang besa...                 2   \n",
       "1  [gr ayam giling  gr udang kupas  telur ayam ut...                 2   \n",
       "2  [ang  bungkus kobe tepung ayam super crispy se...                 1   \n",
       "4  [ap rasa daun jeruk bumbu dihaluskan  siung ba...                 1   \n",
       "7  [gr udang secukupnya jahe memarkan secukupnya ...                 1   \n",
       "\n",
       "                                  clean_instructions  \\\n",
       "0  [[campur, ayam, udang, dengan, semua, bumbu, d...   \n",
       "1  [[campur, semua, bahan, dalam, food, processor...   \n",
       "2  [[buang, kepala, dan, cangkang, udang, cuci, b...   \n",
       "4  [[cuci, bersih, udang], [alam, adonan, cair, t...   \n",
       "7  [[cuci, udang, bersih], [lumuri, dengan, jeruk...   \n",
       "\n",
       "                           recipe_embedding_fasttext  \n",
       "0  [0.05864343, -0.14423992, -0.06797666, -0.0544...  \n",
       "1  [0.09421343, -0.13411982, -0.120618165, 0.0442...  \n",
       "2  [0.13110535, -0.11878722, -0.15282568, 0.11974...  \n",
       "4  [0.118558705, -0.16813436, -0.074648276, -0.03...  \n",
       "7  [0.05212927, -0.23304701, -0.019638013, -0.011...  "
      ]
     },
     "execution_count": 24,
     "metadata": {},
     "output_type": "execute_result"
    }
   ],
   "source": [
    "# Menampilkan beberapa baris pertama dari kolom baru\n",
    "df_indoRecipes.to_pickle('processed/df_indoRecipesUdang.pkl')\n",
    "df_indoRecipes.head()"
   ]
  },
  {
   "cell_type": "code",
   "execution_count": 25,
   "id": "44a9f506-c549-43df-bdd6-178b6355f377",
   "metadata": {},
   "outputs": [],
   "source": [
    "# Mencari hidangan serupa menggunakan embedding yang telah dilatih\n",
    "\n",
    "from numpy import dot\n",
    "from numpy.linalg import norm\n",
    "\n",
    "# Menghitung cosine similarity\n",
    "def find_Similar_dish(xx,embeddingToUse): \n",
    "    a = df_indoRecipes.loc[xx, embeddingToUse]\n",
    "    orn = df_indoRecipes.loc[xx, \"Title\"]\n",
    "    dishtances = {}\n",
    "    for i in range(len(df_indoRecipes)):\n",
    "        if i==xx:\n",
    "            continue;\n",
    "        try:\n",
    "            dn = df_indoRecipes.loc[i, \"Title\"]\n",
    "            b = df_indoRecipes.loc[i, embeddingToUse]\n",
    "            cos_sim = dot(a, b)/(norm(a)*norm(b))\n",
    "            if cos_sim not in dishtances.values():\n",
    "                dishtances[i] = cos_sim\n",
    "        except:\n",
    "            continue;\n",
    "    # Mengurutkan dan mengambil 10 resep paling mirip        \n",
    "    dishtances_2 = {k: v for k, v in sorted(dishtances.items(), key=lambda item: item[1], reverse = True)}\n",
    "    mostSimilarDishes = []\n",
    "    countSim = 0\n",
    "    for el in dishtances_2.keys():\n",
    "        mostSimilarDishes.append(el)\n",
    "        countSim+=1\n",
    "        if countSim==10:\n",
    "            break;\n",
    "    return mostSimilarDishes\n",
    "\n",
    "def list_Similar_dishes(xx, embeddingToUse):\n",
    "    dn = df_indoRecipes.loc[xx, \"Title\"]\n",
    "    additionalColumns = ['Loves','Loves_bin']\n",
    "    similarList1 = find_Similar_dish(xx,embeddingToUse)\n",
    "    simResults1 = []\n",
    "\n",
    "    allSuggestedDishNames = []\n",
    "    print(\"got all similar dishes!\")\n",
    "    # Menyusun hasil resep yang mirip\n",
    "    for simIndex in similarList1:\n",
    "        tempRes = []\n",
    "        dName = df_indoRecipes.loc[simIndex, \"Title\"]\n",
    "        dishName = \" \".join([w for w in dName.split() if w.lower()!='recipe'])\n",
    "        tempRes.append(dishName)\n",
    "        dishNameShort = \" \".join(dishName.split()[-2:])\n",
    "        allSuggestedDishNames.append(dishNameShort)\n",
    "        for col in additionalColumns:\n",
    "            tempRes.append(df_indoRecipes.loc[simIndex, col])\n",
    "        simResults1.append(tempRes)\n",
    "    \n",
    "    additionalColumns.insert(0,\"Dish\")\n",
    "    print(dn)\n",
    "    return(pd.DataFrame(simResults1, columns = additionalColumns),allSuggestedDishNames)"
   ]
  },
  {
   "cell_type": "code",
   "execution_count": 26,
   "id": "6ff04de8-1988-4ae0-b45b-9f353a23698f",
   "metadata": {},
   "outputs": [
    {
     "name": "stdout",
     "output_type": "stream",
     "text": [
      "got all similar dishes!\n",
      "Udang Goreng Mentega\n"
     ]
    },
    {
     "data": {
      "text/html": [
       "<div>\n",
       "<style scoped>\n",
       "    .dataframe tbody tr th:only-of-type {\n",
       "        vertical-align: middle;\n",
       "    }\n",
       "\n",
       "    .dataframe tbody tr th {\n",
       "        vertical-align: top;\n",
       "    }\n",
       "\n",
       "    .dataframe thead th {\n",
       "        text-align: right;\n",
       "    }\n",
       "</style>\n",
       "<table border=\"1\" class=\"dataframe\">\n",
       "  <thead>\n",
       "    <tr style=\"text-align: right;\">\n",
       "      <th></th>\n",
       "      <th>Dish</th>\n",
       "      <th>Loves</th>\n",
       "      <th>Loves_bin</th>\n",
       "    </tr>\n",
       "  </thead>\n",
       "  <tbody>\n",
       "    <tr>\n",
       "      <th>0</th>\n",
       "      <td>Udang asam manis oregano</td>\n",
       "      <td>3</td>\n",
       "      <td>0-10</td>\n",
       "    </tr>\n",
       "    <tr>\n",
       "      <th>1</th>\n",
       "      <td>Bola bola Udang</td>\n",
       "      <td>4</td>\n",
       "      <td>0-10</td>\n",
       "    </tr>\n",
       "    <tr>\n",
       "      <th>2</th>\n",
       "      <td>Tumis Udang pete</td>\n",
       "      <td>6</td>\n",
       "      <td>0-10</td>\n",
       "    </tr>\n",
       "    <tr>\n",
       "      <th>3</th>\n",
       "      <td>Udang bumbu pedas</td>\n",
       "      <td>11</td>\n",
       "      <td>11-20</td>\n",
       "    </tr>\n",
       "    <tr>\n",
       "      <th>4</th>\n",
       "      <td>Tumis Udang saos tiram pedas</td>\n",
       "      <td>46</td>\n",
       "      <td>41-50</td>\n",
       "    </tr>\n",
       "    <tr>\n",
       "      <th>5</th>\n",
       "      <td>Pare tumis udang enak</td>\n",
       "      <td>11</td>\n",
       "      <td>11-20</td>\n",
       "    </tr>\n",
       "    <tr>\n",
       "      <th>6</th>\n",
       "      <td>Udang tahu lada hitam</td>\n",
       "      <td>7</td>\n",
       "      <td>0-10</td>\n",
       "    </tr>\n",
       "    <tr>\n",
       "      <th>7</th>\n",
       "      <td>Udang lada hitam</td>\n",
       "      <td>1</td>\n",
       "      <td>0-10</td>\n",
       "    </tr>\n",
       "    <tr>\n",
       "      <th>8</th>\n",
       "      <td>Cah pakcoy udang saos tiram as</td>\n",
       "      <td>10</td>\n",
       "      <td>0-10</td>\n",
       "    </tr>\n",
       "    <tr>\n",
       "      <th>9</th>\n",
       "      <td>Udang crispy dengan taburan cabe dan bawang</td>\n",
       "      <td>3</td>\n",
       "      <td>0-10</td>\n",
       "    </tr>\n",
       "  </tbody>\n",
       "</table>\n",
       "</div>"
      ],
      "text/plain": [
       "                                          Dish  Loves Loves_bin\n",
       "0                     Udang asam manis oregano      3      0-10\n",
       "1                              Bola bola Udang      4      0-10\n",
       "2                             Tumis Udang pete      6      0-10\n",
       "3                            Udang bumbu pedas     11     11-20\n",
       "4                 Tumis Udang saos tiram pedas     46     41-50\n",
       "5                        Pare tumis udang enak     11     11-20\n",
       "6                        Udang tahu lada hitam      7      0-10\n",
       "7                             Udang lada hitam      1      0-10\n",
       "8               Cah pakcoy udang saos tiram as     10      0-10\n",
       "9  Udang crispy dengan taburan cabe dan bawang      3      0-10"
      ]
     },
     "execution_count": 26,
     "metadata": {},
     "output_type": "execute_result"
    }
   ],
   "source": [
    "# Mencari resep-resep yang mirip dengan resep yang ada pada indeks 311 dalam DataFrame\n",
    "dishNumber = 311\n",
    "res = list_Similar_dishes(dishNumber, \"recipe_embedding_fasttext\")\n",
    "res[0]"
   ]
  },
  {
   "cell_type": "code",
   "execution_count": 27,
   "id": "080f817a-6ec1-4ba9-99cb-31d1ee93102d",
   "metadata": {},
   "outputs": [
    {
     "name": "stdout",
     "output_type": "stream",
     "text": [
      "got all similar dishes!\n",
      "Dadar Jagung Udang\n"
     ]
    },
    {
     "data": {
      "text/html": [
       "<div>\n",
       "<style scoped>\n",
       "    .dataframe tbody tr th:only-of-type {\n",
       "        vertical-align: middle;\n",
       "    }\n",
       "\n",
       "    .dataframe tbody tr th {\n",
       "        vertical-align: top;\n",
       "    }\n",
       "\n",
       "    .dataframe thead th {\n",
       "        text-align: right;\n",
       "    }\n",
       "</style>\n",
       "<table border=\"1\" class=\"dataframe\">\n",
       "  <thead>\n",
       "    <tr style=\"text-align: right;\">\n",
       "      <th></th>\n",
       "      <th>Dish</th>\n",
       "      <th>Loves</th>\n",
       "      <th>Loves_bin</th>\n",
       "    </tr>\n",
       "  </thead>\n",
       "  <tbody>\n",
       "    <tr>\n",
       "      <th>0</th>\n",
       "      <td>Kentang udang panggang</td>\n",
       "      <td>1</td>\n",
       "      <td>0-10</td>\n",
       "    </tr>\n",
       "    <tr>\n",
       "      <th>1</th>\n",
       "      <td>Kaldu udang bubuk</td>\n",
       "      <td>7</td>\n",
       "      <td>0-10</td>\n",
       "    </tr>\n",
       "    <tr>\n",
       "      <th>2</th>\n",
       "      <td>Udang asam manis</td>\n",
       "      <td>2</td>\n",
       "      <td>0-10</td>\n",
       "    </tr>\n",
       "    <tr>\n",
       "      <th>3</th>\n",
       "      <td>Sop bola2 udang dengan kaldu udang</td>\n",
       "      <td>9</td>\n",
       "      <td>0-10</td>\n",
       "    </tr>\n",
       "    <tr>\n",
       "      <th>4</th>\n",
       "      <td>Udang Goreng Tepung Mayonaise</td>\n",
       "      <td>6</td>\n",
       "      <td>0-10</td>\n",
       "    </tr>\n",
       "    <tr>\n",
       "      <th>5</th>\n",
       "      <td>Udang asam manis oregano</td>\n",
       "      <td>3</td>\n",
       "      <td>0-10</td>\n",
       "    </tr>\n",
       "    <tr>\n",
       "      <th>6</th>\n",
       "      <td>002 Rempeyek udang sederhana</td>\n",
       "      <td>4</td>\n",
       "      <td>0-10</td>\n",
       "    </tr>\n",
       "    <tr>\n",
       "      <th>7</th>\n",
       "      <td>Bakwan Udang Sederhana</td>\n",
       "      <td>6</td>\n",
       "      <td>0-10</td>\n",
       "    </tr>\n",
       "    <tr>\n",
       "      <th>8</th>\n",
       "      <td>Gimbal/Bakwan Udang</td>\n",
       "      <td>6</td>\n",
       "      <td>0-10</td>\n",
       "    </tr>\n",
       "    <tr>\n",
       "      <th>9</th>\n",
       "      <td>Udang telur balado</td>\n",
       "      <td>6</td>\n",
       "      <td>0-10</td>\n",
       "    </tr>\n",
       "  </tbody>\n",
       "</table>\n",
       "</div>"
      ],
      "text/plain": [
       "                                 Dish  Loves Loves_bin\n",
       "0              Kentang udang panggang      1      0-10\n",
       "1                   Kaldu udang bubuk      7      0-10\n",
       "2                    Udang asam manis      2      0-10\n",
       "3  Sop bola2 udang dengan kaldu udang      9      0-10\n",
       "4       Udang Goreng Tepung Mayonaise      6      0-10\n",
       "5            Udang asam manis oregano      3      0-10\n",
       "6        002 Rempeyek udang sederhana      4      0-10\n",
       "7              Bakwan Udang Sederhana      6      0-10\n",
       "8                 Gimbal/Bakwan Udang      6      0-10\n",
       "9                  Udang telur balado      6      0-10"
      ]
     },
     "execution_count": 27,
     "metadata": {},
     "output_type": "execute_result"
    }
   ],
   "source": [
    "# Mencari resep yang mirip dengan resep yang ada pada indeks 567 dalam DataFrame\n",
    "dishNumber = 567\n",
    "res = list_Similar_dishes(dishNumber, \"recipe_embedding_fasttext\")\n",
    "res[0]"
   ]
  },
  {
   "cell_type": "raw",
   "id": "94e0e38b-a805-4c51-976a-f780ad805b49",
   "metadata": {},
   "source": [
    "# Performa Model:\n",
    "Evaluasi sistem menggunakan beberapa metrik:\n",
    "- Mean Reciprocal Rank (MRR) untuk mengukur kualitas ranking\n",
    "- Top-K Accuracy untuk mengukur presisi rekomendasi\n",
    "- NDCG untuk mengukur kualitas pengurutan hasil\n",
    "- Precision, Recall, dan F1-Score untuk mengukur akurasi sistem"
   ]
  },
  {
   "cell_type": "code",
   "execution_count": 28,
   "id": "42cb9734-8a8c-4ac6-9bc5-afa3a2111957",
   "metadata": {},
   "outputs": [
    {
     "name": "stdout",
     "output_type": "stream",
     "text": [
      "Mean Reciprocal Rank (MRR): 0.4583333333333333\n"
     ]
    }
   ],
   "source": [
    "def mean_reciprocal_rank(results):\n",
    "    \"\"\"\n",
    "    Menghitung Mean Reciprocal Rank (MRR), yang merupakan ukuran untuk mengevaluasi kualitas hasil pencarian.\n",
    "    \n",
    "    MRR mengukur rata-rata peringkat terbalik pertama (reciprocal rank) dari hasil yang relevan dalam kumpulan hasil pencarian.\n",
    "        \n",
    "    Parameter:\n",
    "    - results: List of lists. Setiap sublist berisi hasil pencarian yang\n",
    "    berisi True jika hasil tersebut relevan, False jika tidak relevan.\n",
    "    \n",
    "    Returns:\n",
    "    - MRR score (float): Nilai MRR dari semua query.\n",
    "    \"\"\"\n",
    "    reciprocal_ranks = []\n",
    "\n",
    "    for result in results:\n",
    "        found = False\n",
    "        for idx, is_relevant in enumerate(result):\n",
    "            if is_relevant:  # Hasil relevan pertama ditemukan\n",
    "                reciprocal_ranks.append(1 / (idx + 1))  # Rank 1-based\n",
    "                found = True\n",
    "                break\n",
    "        if not found:\n",
    "            reciprocal_ranks.append(0)  # Jika tidak ada hasil relevan\n",
    "\n",
    "    # Menghitung Mean Reciprocal Rank\n",
    "    mrr_score = sum(reciprocal_ranks) / len(results)\n",
    "    return mrr_score\n",
    "\n",
    "# Contoh penggunaan\n",
    "# Hasil pencarian untuk beberapa query\n",
    "search_results = [\n",
    "    [True, False, False],       # Query 1, hasil relevan di posisi pertama\n",
    "    [False, False, True],       # Query 2, hasil relevan di posisi ketiga\n",
    "    [False, True, False],       # Query 3, hasil relevan di posisi kedua\n",
    "    [False, False, False],      # Query 4, tidak ada hasil relevan\n",
    "]\n",
    "\n",
    "mrr = mean_reciprocal_rank(search_results)\n",
    "print(\"Mean Reciprocal Rank (MRR):\", mrr)"
   ]
  },
  {
   "cell_type": "code",
   "execution_count": 29,
   "id": "b5175a53-13d8-4502-825a-1ea23502a092",
   "metadata": {},
   "outputs": [
    {
     "name": "stdout",
     "output_type": "stream",
     "text": [
      "Top-2 Accuracy: 0.5\n"
     ]
    }
   ],
   "source": [
    "def top_k_accuracy(results, k):\n",
    "    \"\"\"\n",
    "    Menghitung Top-K Accuracy dari hasil pencarian.\n",
    "\n",
    "    Top-K Accuracy mengukur sejauh mana hasil pencarian relevan muncul dalam K hasil teratas.\n",
    "    \n",
    "    Parameter:\n",
    "    - results: List of lists. Setiap sublist berisi hasil pencarian yang \n",
    "    berisi True jika hasil tersebut relevan, False jika tidak relevan.\n",
    "    \n",
    "    - k: Integer. Menentukan nilai K untuk Top-K Accuracy.\n",
    "    \n",
    "    Returns:\n",
    "    - top_k_acc (float): Nilai Top-K Accuracy dari semua query.\n",
    "    \"\"\"\n",
    "    correct = 0\n",
    "\n",
    "    for result in results:\n",
    "        # Cek apakah ada hasil relevan di K hasil teratas\n",
    "        if any(result[:k]):  # True jika setidaknya satu relevan dalam top-K\n",
    "            correct += 1\n",
    "\n",
    "    # Hitung Top-K Accuracy\n",
    "    top_k_acc = correct / len(results)\n",
    "    return top_k_acc\n",
    "\n",
    "# Contoh penggunaan\n",
    "# Hasil pencarian untuk beberapa query\n",
    "search_results = [\n",
    "    [True, False, False],       # Query 1, hasil relevan di posisi pertama\n",
    "    [False, False, True],       # Query 2, hasil relevan di posisi ketiga\n",
    "    [False, True, False],       # Query 3, hasil relevan di posisi kedua\n",
    "    [False, False, False],      # Query 4, tidak ada hasil relevan\n",
    "]\n",
    "\n",
    "# Menghitung Top-K Accuracy untuk K = 2\n",
    "k = 2\n",
    "top_k_acc = top_k_accuracy(search_results, k)\n",
    "print(f\"Top-{k} Accuracy:\", top_k_acc)\n"
   ]
  },
  {
   "cell_type": "code",
   "execution_count": 30,
   "id": "fcb2d5cf-cd93-499b-8599-2c74832f655f",
   "metadata": {},
   "outputs": [
    {
     "name": "stdout",
     "output_type": "stream",
     "text": [
      "NDCG untuk query 1 di posisi 3: 0.9778\n",
      "NDCG untuk query 2 di posisi 3: 0.0848\n"
     ]
    }
   ],
   "source": [
    "import numpy as np\n",
    "\n",
    "def dcg_at_k(relevance_scores, k):\n",
    "    \"\"\"\n",
    "\n",
    "    Menghitung NDCG (Normalized Discounted Cumulative Gain) pada posisi k untuk evaluasi hasil pencarian. \n",
    "    NDCG adalah metrik yang sering digunakan untuk mengevaluasi kualitas ranking hasil pencarian,\n",
    "    dengan mempertimbangkan relevansi hasil dan posisi hasil tersebut.\n",
    "    \n",
    "    Menghitung DCG pada posisi k.\n",
    "    \n",
    "    Parameter:\n",
    "    - relevance_scores: Daftar relevansi untuk hasil pencarian.\n",
    "    - k: Posisi yang digunakan untuk menghitung DCG (jumlah hasil yang dipertimbangkan).\n",
    "    \n",
    "    Returns:\n",
    "    - dcg: Nilai DCG pada posisi k.\n",
    "    \"\"\"\n",
    "    relevance_scores = relevance_scores[:k]  # Ambil hanya k hasil teratas\n",
    "    return np.sum([rel / np.log2(i + 2) for i, rel in enumerate(relevance_scores)])\n",
    "\n",
    "def idcg_at_k(relevance_scores, k):\n",
    "    \"\"\"\n",
    "    Menghitung IDCG pada posisi k, IDCG adalah DCG yang dihitung setelah menyortir skor relevansi dalam urutan menurun (ideal).\n",
    "    \n",
    "    Parameter:\n",
    "    - relevance_scores: Daftar relevansi untuk hasil pencarian.\n",
    "    - k: Posisi yang digunakan untuk menghitung IDCG.\n",
    "    \n",
    "    Returns:\n",
    "    - idcg: Nilai IDCG pada posisi k.\n",
    "    \"\"\"\n",
    "    relevance_scores = sorted(relevance_scores, reverse=True)  # Urutkan relevansi menurun\n",
    "    return dcg_at_k(relevance_scores, k)\n",
    "\n",
    "def ndcg_at_k(relevance_scores, k):\n",
    "    \"\"\"\n",
    "    Menghitung NDCG pada posisi k, yang merupakan rasio antara DCG dan IDCG.\n",
    "    \n",
    "    Parameter:\n",
    "    - relevance_scores: Daftar relevansi untuk hasil pencarian.\n",
    "    - k: Posisi yang digunakan untuk menghitung NDCG.\n",
    "    \n",
    "    Returns:\n",
    "    - ndcg: Nilai NDCG pada posisi k.\n",
    "    \"\"\"\n",
    "    dcg = dcg_at_k(relevance_scores, k)\n",
    "    idcg = idcg_at_k(relevance_scores, k)\n",
    "    return dcg / idcg if idcg > 0 else 0\n",
    "\n",
    "# Contoh penggunaan\n",
    "# Relevansi hasil pencarian untuk query tertentu\n",
    "# Relevansi berkisar dari 0 (tidak relevan) hingga 3 (sangat relevan)\n",
    "relevance_scores_query_1 = [3, 2, 3, 0, 1, 2]\n",
    "relevance_scores_query_2 = [0, 0, 1, 2, 3, 3]\n",
    "\n",
    "# Menghitung NDCG pada posisi k=3 untuk dua query\n",
    "k = 3\n",
    "ndcg_query_1 = ndcg_at_k(relevance_scores_query_1, k)\n",
    "ndcg_query_2 = ndcg_at_k(relevance_scores_query_2, k)\n",
    "\n",
    "print(f\"NDCG untuk query 1 di posisi {k}: {ndcg_query_1:.4f}\")\n",
    "print(f\"NDCG untuk query 2 di posisi {k}: {ndcg_query_2:.4f}\")"
   ]
  },
  {
   "cell_type": "code",
   "execution_count": 31,
   "id": "528b0f61-2f14-4732-98c3-c47d85cb830d",
   "metadata": {},
   "outputs": [
    {
     "name": "stdout",
     "output_type": "stream",
     "text": [
      "Precision: 0.98\n",
      "Recall: 1.00\n",
      "F1-Score: 0.99\n",
      "Accuracy: 1.00\n"
     ]
    }
   ],
   "source": [
    "import pandas as pd\n",
    "\n",
    "# Load dataset\n",
    "# Load DataFrames\n",
    "df_ayam = pd.read_pickle('processed/df_indoRecipesAyam.pkl')\n",
    "df_kambing = pd.read_pickle('processed/df_indoRecipesKambing.pkl')\n",
    "df_telur = pd.read_pickle('processed/df_indoRecipesTelur.pkl')\n",
    "df_udang = pd.read_pickle('processed/df_indoRecipesUdang.pkl')\n",
    "\n",
    "df_combined = pd.concat([df_ayam, df_kambing, df_telur, df_udang], ignore_index=True)\n",
    "# Query pencarian\n",
    "query = \"\"\n",
    "\n",
    "# Simulasi hasil sistem: mencari frasa \"udang goreng\" secara utuh atau menyaring hasil setelah pencarian\n",
    "system_results = df_combined[\n",
    "    df_combined['Title'].str.contains(r'udang goreng', case=False, na=False) |\n",
    "    df_combined['Ingredients'].str.contains(r'udang goreng', case=False, na=False)\n",
    "]\n",
    "\n",
    "# Hasil ideal: data yang secara eksplisit mengandung frasa \"udang goreng\" di Title\n",
    "ideal_results = df_combined[df_combined['Title'].str.contains(\"udang goreng\", case=False, na=False)]\n",
    "\n",
    "# Ekstrak judul untuk membandingkan\n",
    "system_titles = set(system_results['Title'])\n",
    "ideal_titles = set(ideal_results['Title'])\n",
    "\n",
    "# Hitung metrik\n",
    "true_positives = len(system_titles & ideal_titles)\n",
    "precision = true_positives / len(system_titles) if system_titles else 0\n",
    "recall = true_positives / len(ideal_titles) if ideal_titles else 0\n",
    "f1_score = 2 * precision * recall / (precision + recall) if (precision + recall) > 0 else 0\n",
    "\n",
    "# Tampilkan hasil evaluasi\n",
    "print(f\"Precision: {precision:.2f}\")\n",
    "print(f\"Recall: {recall:.2f}\")\n",
    "print(f\"F1-Score: {f1_score:.2f}\")\n",
    "\n",
    "\n",
    "# Hitung jumlah hasil benar\n",
    "true_positives = len(system_titles & ideal_titles)  # Hasil relevan yang ditemukan\n",
    "false_positives = len(system_titles - ideal_titles)  # Hasil tidak relevan yang ditemukan\n",
    "false_negatives = len(ideal_titles - system_titles)  # Hasil relevan yang tidak ditemukan\n",
    "true_negatives = len(df_combined['Title']) - (true_positives + false_positives + false_negatives)  # Semua hasil lainnya\n",
    "\n",
    "# Hitung Accuracy\n",
    "accuracy = (true_positives + true_negatives) / len(df_combined['Title'])\n",
    "\n",
    "# Tampilkan hasil evaluasi\n",
    "print(f\"Accuracy: {accuracy:.2f}\")\n"
   ]
  },
  {
   "cell_type": "code",
   "execution_count": null,
   "id": "ca7bf548-ab12-4d08-aab4-6db5ff57f57d",
   "metadata": {},
   "outputs": [],
   "source": []
  }
 ],
 "metadata": {
  "kernelspec": {
   "display_name": "Python 3 (ipykernel)",
   "language": "python",
   "name": "python3"
  },
  "language_info": {
   "codemirror_mode": {
    "name": "ipython",
    "version": 3
   },
   "file_extension": ".py",
   "mimetype": "text/x-python",
   "name": "python",
   "nbconvert_exporter": "python",
   "pygments_lexer": "ipython3",
   "version": "3.12.4"
  }
 },
 "nbformat": 4,
 "nbformat_minor": 5
}
