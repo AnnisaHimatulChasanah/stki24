{
 "cells": [
  {
   "cell_type": "markdown",
   "id": "a8ce1de7-bab7-49d7-97f1-f72be26d0f1a",
   "metadata": {},
   "source": [
    "## String dalam Python"
   ]
  },
  {
   "cell_type": "code",
   "execution_count": 1,
   "id": "6afba4c9-07c3-4df2-9a01-2a01d2ea620b",
   "metadata": {},
   "outputs": [
    {
     "name": "stdout",
     "output_type": "stream",
     "text": [
      "22\n"
     ]
    }
   ],
   "source": [
    "word = 'Analitika Media Sosial'\n",
    "print(len(word))"
   ]
  },
  {
   "cell_type": "code",
   "execution_count": 2,
   "id": "98104f76-8460-4a7b-8ee5-b93423bf70da",
   "metadata": {},
   "outputs": [
    {
     "name": "stdout",
     "output_type": "stream",
     "text": [
      "6\n"
     ]
    }
   ],
   "source": [
    "multiline = '''1\n",
    "2\n",
    "3\n",
    "'''\n",
    "print(len(multiline))"
   ]
  },
  {
   "cell_type": "code",
   "execution_count": 3,
   "id": "c138ea7c-4a6c-45d3-8d6f-b5a40ee2d0a8",
   "metadata": {},
   "outputs": [
    {
     "name": "stdout",
     "output_type": "stream",
     "text": [
      "12\n"
     ]
    }
   ],
   "source": [
    "str1 = '1'\n",
    "str2 = '2'\n",
    "\n",
    "print(str1 + str2)"
   ]
  },
  {
   "cell_type": "code",
   "execution_count": 4,
   "id": "aef18569-f61d-461c-98e1-6c3698d5de7a",
   "metadata": {},
   "outputs": [
    {
     "name": "stdout",
     "output_type": "stream",
     "text": [
      "97\n",
      "32\n",
      "65\n"
     ]
    }
   ],
   "source": [
    "ch1 = 'a'\n",
    "ch2 = ' ' #spasi\n",
    "ch3 = 'A'\n",
    "\n",
    "print(ord(ch1))\n",
    "print(ord(ch2))\n",
    "print(ord(ch3))"
   ]
  },
  {
   "cell_type": "code",
   "execution_count": 5,
   "id": "152d8926-3b9e-4aff-8f5f-3eb891758a4a",
   "metadata": {},
   "outputs": [
    {
     "name": "stdout",
     "output_type": "stream",
     "text": [
      "A\n"
     ]
    }
   ],
   "source": [
    "print(chr(65))"
   ]
  },
  {
   "cell_type": "code",
   "execution_count": 6,
   "id": "f6b31eed-7a6b-406c-ad57-4cccb3ef3362",
   "metadata": {},
   "outputs": [
    {
     "name": "stdout",
     "output_type": "stream",
     "text": [
      "nltk Md Ssl"
     ]
    }
   ],
   "source": [
    "cthString=\"Analitika Media Sosial\"\n",
    "vokal = ['a','i','u','e','o']\n",
    "\n",
    "for i in range(len(cthString)):\n",
    "    if cthString[i].lower() in vokal:\n",
    "        continue\n",
    "    print(cthString[i], end=\"\")"
   ]
  },
  {
   "cell_type": "code",
   "execution_count": 7,
   "id": "440b4feb-d8ef-4164-94e8-ac63bbd86278",
   "metadata": {},
   "outputs": [
    {
     "name": "stdout",
     "output_type": "stream",
     "text": [
      "nt iol\n",
      "nali\n",
      "litika Media Sosial\n",
      "Ana\n",
      "AaiiaMdaSsa\n"
     ]
    }
   ],
   "source": [
    "cthSlice = \"Analitika Media Sosial\"\n",
    "\n",
    "print(cthSlice[1::4])\n",
    "print(cthSlice[1:5])\n",
    "print(cthSlice[3:])\n",
    "print(cthSlice[:3])\n",
    "print(cthSlice[::2])"
   ]
  },
  {
   "cell_type": "code",
   "execution_count": 8,
   "id": "cf830d0e-5215-4055-a525-545958df92ab",
   "metadata": {},
   "outputs": [
    {
     "name": "stdout",
     "output_type": "stream",
     "text": [
      "b\n",
      "bcdefghijklmnopqrstuvwxyz\n"
     ]
    }
   ],
   "source": [
    "alphabet = 'abcdefghijklmnopqrstuvwxyz'\n",
    "print(alphabet[1])  # Output: b\n",
    "\n",
    "# Menghapus karakter pertama dengan slicing\n",
    "alphabet = alphabet[1:]\n",
    "print(alphabet)  # Output: bcdefghijklmnopqrstuvwxyz"
   ]
  },
  {
   "cell_type": "code",
   "execution_count": 9,
   "id": "8a02b10b-2783-44fc-9993-3154069c8941",
   "metadata": {},
   "outputs": [
    {
     "name": "stdout",
     "output_type": "stream",
     "text": [
      "abcdefghijklmnopqrstuvwxyz\n",
      "abAcdefghijklmnopqrstuvwxyz\n"
     ]
    }
   ],
   "source": [
    "alphabet = 'bcdefghijklmnopqrstuvwxyz'\n",
    "\n",
    "# Menyisipkan 'a' di awal string\n",
    "alphabet = 'a' + alphabet\n",
    "print(alphabet)  # Output: abcdefghijklmnopqrstuvwxyz\n",
    "\n",
    "# Menyisipkan 'A' setelah 'b'\n",
    "alphabet = alphabet[:2] + 'A' + alphabet[2:]\n",
    "print(alphabet)  # Output: abAcdefghijklmnopqrstuvwxyz"
   ]
  },
  {
   "cell_type": "code",
   "execution_count": 10,
   "id": "0d0cf47c-22cf-4ca0-ae26-ca0b6bc3369a",
   "metadata": {},
   "outputs": [
    {
     "name": "stdout",
     "output_type": "stream",
     "text": [
      "A\n"
     ]
    }
   ],
   "source": [
    "print(min(\"aAbByYzZ\"))"
   ]
  },
  {
   "cell_type": "code",
   "execution_count": 11,
   "id": "ede2d4d4-859b-438a-833c-42a1cc7afb13",
   "metadata": {},
   "outputs": [
    {
     "name": "stdout",
     "output_type": "stream",
     "text": [
      "3\n"
     ]
    }
   ],
   "source": [
    "t = \"theta\"\n",
    "print(t.find('ta'))"
   ]
  },
  {
   "cell_type": "code",
   "execution_count": 12,
   "id": "a45d3f78-928a-4bab-b0f6-b157a1ffcbd1",
   "metadata": {},
   "outputs": [
    {
     "name": "stdout",
     "output_type": "stream",
     "text": [
      "15\n",
      "80\n",
      "196\n",
      "219\n",
      "236\n"
     ]
    }
   ],
   "source": [
    "txt = \"\"\"A variation of the ordinary lorem ipsum text has been used in typesetting since the 1960s or earlier, \n",
    "when it was popularized by advertisements for Letraset transfer sheets.\n",
    "It was introduced to the Information Age in the mid-1980s by the Aldus Corporation,\n",
    "which employed it in graphics and word-processing templates for its desktop publishing program PageMaker (from Wikipedia)\"\"\"\n",
    "\n",
    "fnd = txt.find('the')\n",
    "while fnd != -1:\n",
    "    print(fnd)\n",
    "    fnd = txt.find('the', fnd + 1)"
   ]
  },
  {
   "cell_type": "code",
   "execution_count": 13,
   "id": "27d36547-7512-403d-8f94-4d18ce901b65",
   "metadata": {},
   "outputs": [],
   "source": [
    "#Cleaning Words\n",
    "text = 'RT : @alzami1986 suka menonton Attack on Titans! (進撃の巨人) #aot  setiap kamis pukul 21.00 di http://netflix.com/aot . \\\\n meski tidak suka kekerasan, tapi cukup menikmati ?! #EldiaHarusMenang melawan #Marley  A ...'"
   ]
  },
  {
   "cell_type": "code",
   "execution_count": 14,
   "id": "00dc6caf-1b00-4c29-b0a5-c4f9d46f41f2",
   "metadata": {},
   "outputs": [
    {
     "name": "stdout",
     "output_type": "stream",
     "text": [
      "RT : @alzami1986 suka menonton Attack on Titans! (進撃の巨人) #aot  setiap kamis pukul 21.00 di http://netflix.com/aot . \\n meski tidak suka kekerasan, tapi cukup menikmati ?! #EldiaHarusMenang melawan #Marley  A ...\n"
     ]
    }
   ],
   "source": [
    "print(text)"
   ]
  },
  {
   "cell_type": "code",
   "execution_count": 15,
   "id": "e9550fa0-8745-4572-ac9c-9582d3193444",
   "metadata": {},
   "outputs": [],
   "source": [
    "import re\n",
    "import string\n",
    "import time\n",
    "from copy import deepcopy"
   ]
  },
  {
   "cell_type": "code",
   "execution_count": 16,
   "id": "40ea3828-4b38-4254-8be1-a92ec0c9f91b",
   "metadata": {},
   "outputs": [
    {
     "data": {
      "text/plain": [
       "'RT : @alzami1986 suka menonton Attack on Titans! (進撃の巨人) #aot  setiap kamis pukul 21.00 di http://netflix.com/aot .   meski tidak suka kekerasan, tapi cukup menikmati ?! #EldiaHarusMenang melawan #Marley  A ...'"
      ]
     },
     "execution_count": 16,
     "metadata": {},
     "output_type": "execute_result"
    }
   ],
   "source": [
    "hasil = text.replace('\\\\t',\" \").replace('\\\\n',\" \").replace('\\\\u',\" \").replace('\\\\',\"\")\n",
    "hasil"
   ]
  },
  {
   "cell_type": "code",
   "execution_count": 17,
   "id": "b84db195-f7cd-47c1-b77e-2480031d00ba",
   "metadata": {},
   "outputs": [
    {
     "data": {
      "text/plain": [
       "'RT : @alzami1986 suka menonton Attack on Titans! (?????) #aot  setiap kamis pukul 21.00 di http://netflix.com/aot .   meski tidak suka kekerasan, tapi cukup menikmati ?! #EldiaHarusMenang melawan #Marley  A ...'"
      ]
     },
     "execution_count": 17,
     "metadata": {},
     "output_type": "execute_result"
    }
   ],
   "source": [
    "#Hapus emoticon non-ASCII dan kata-kata dalam bahasa Cina\n",
    "hasil = hasil.encode('ascii', 'replace').decode('ascii')\n",
    "hasil"
   ]
  },
  {
   "cell_type": "code",
   "execution_count": 18,
   "id": "df870e4c-ef45-4d9d-8ff2-a593075fe687",
   "metadata": {},
   "outputs": [
    {
     "name": "stderr",
     "output_type": "stream",
     "text": [
      "<>:2: SyntaxWarning: invalid escape sequence '\\w'\n",
      "<>:2: SyntaxWarning: invalid escape sequence '\\w'\n",
      "C:\\Users\\annis\\AppData\\Local\\Temp\\ipykernel_16144\\1039017777.py:2: SyntaxWarning: invalid escape sequence '\\w'\n",
      "  hasil = ' '.join(re.sub(\"([@#][A-Za-z0-9]+)|(\\w+:\\/\\/\\S+)\",\" \", hasil).split())\n"
     ]
    },
    {
     "data": {
      "text/plain": [
       "'RT : suka menonton Attack on Titans! (?????) setiap kamis pukul 21.00 di . meski tidak suka kekerasan, tapi cukup menikmati ?! melawan A ...'"
      ]
     },
     "execution_count": 18,
     "metadata": {},
     "output_type": "execute_result"
    }
   ],
   "source": [
    "#Hapus mention, link, hashtag\n",
    "hasil = ' '.join(re.sub(\"([@#][A-Za-z0-9]+)|(\\w+:\\/\\/\\S+)\",\" \", hasil).split())\n",
    "hasil"
   ]
  },
  {
   "cell_type": "code",
   "execution_count": 19,
   "id": "342f01de-0ffd-40e8-8425-2963eff3fd65",
   "metadata": {},
   "outputs": [
    {
     "data": {
      "text/plain": [
       "'suka menonton Attack on Titans! (?????) setiap kamis pukul 21.00 di . meski tidak suka kekerasan, tapi cukup menikmati ?! melawan A ...'"
      ]
     },
     "execution_count": 19,
     "metadata": {},
     "output_type": "execute_result"
    }
   ],
   "source": [
    "#Hapus RT\n",
    "hasil = hasil.replace('RT : ',\"\")\n",
    "hasil"
   ]
  },
  {
   "cell_type": "code",
   "execution_count": 20,
   "id": "8633ac0e-873f-4197-aa8e-bed62f9b1e12",
   "metadata": {},
   "outputs": [
    {
     "data": {
      "text/plain": [
       "'suka menonton attack on titans! (?????) setiap kamis pukul 21.00 di . meski tidak suka kekerasan, tapi cukup menikmati ?! melawan a ...'"
      ]
     },
     "execution_count": 20,
     "metadata": {},
     "output_type": "execute_result"
    }
   ],
   "source": [
    "#LOWER\n",
    "hasil = hasil.lower()\n",
    "hasil"
   ]
  },
  {
   "cell_type": "code",
   "execution_count": 21,
   "id": "864a01ac-4fa2-4d03-805c-bd0c8b698f9a",
   "metadata": {},
   "outputs": [
    {
     "data": {
      "text/plain": [
       "'suka menonton attack on titans! (?????) setiap kamis pukul 21.00 di . meski tidak suka kekerasan, tapi cukup menikmati ?! melawan a ...'"
      ]
     },
     "execution_count": 21,
     "metadata": {},
     "output_type": "execute_result"
    }
   ],
   "source": [
    "# Hapus incomplete URL\n",
    "hasil = hasil.replace('http://',\"\").replace('https://',\"\")\n",
    "hasil"
   ]
  },
  {
   "cell_type": "code",
   "execution_count": 22,
   "id": "ea98e08b-7899-433e-87e0-e125ed7827da",
   "metadata": {},
   "outputs": [],
   "source": [
    "#Hapus angka\n",
    "def remove_number(hasil):\n",
    "    return re.sub(r\"\\d+\", \"\", hasil)"
   ]
  },
  {
   "cell_type": "code",
   "execution_count": 23,
   "id": "9cb800ad-9acd-486b-860d-a4a3a8a83da2",
   "metadata": {},
   "outputs": [
    {
     "data": {
      "text/plain": [
       "'suka menonton attack on titans! (?????) setiap kamis pukul . di . meski tidak suka kekerasan, tapi cukup menikmati ?! melawan a ...'"
      ]
     },
     "execution_count": 23,
     "metadata": {},
     "output_type": "execute_result"
    }
   ],
   "source": [
    "hasil = remove_number(hasil)\n",
    "hasil"
   ]
  },
  {
   "cell_type": "code",
   "execution_count": 24,
   "id": "78cf7cf0-dedc-4960-be04-97f979222275",
   "metadata": {},
   "outputs": [],
   "source": [
    "#Digunakan untuk menghapus tanda spasi setelah titik pada akhir kalimat\n",
    "def remove_whitespace(hasil):\n",
    "    return hasil.strip()"
   ]
  },
  {
   "cell_type": "code",
   "execution_count": 25,
   "id": "dfe0d0bd-2b26-4e6a-933a-288f1ff6ffe8",
   "metadata": {},
   "outputs": [
    {
     "data": {
      "text/plain": [
       "'suka menonton attack on titans! (?????) setiap kamis pukul . di . meski tidak suka kekerasan, tapi cukup menikmati ?! melawan a ...'"
      ]
     },
     "execution_count": 25,
     "metadata": {},
     "output_type": "execute_result"
    }
   ],
   "source": [
    "hasil = remove_whitespace(hasil)\n",
    "hasil"
   ]
  },
  {
   "cell_type": "code",
   "execution_count": 26,
   "id": "89fd1bb1-2f0e-493f-9331-ee7fa165a194",
   "metadata": {},
   "outputs": [
    {
     "data": {
      "text/plain": [
       "'RT : @alzami1986 suka menonton Attack on Titans! (進撃の巨人) #aot  setiap kamis pukul 21.00 di http://netflix.com/aot . \\\\n meski tidak suka kekerasan, tapi cukup menikmati ?! #EldiaHarusMenang melawan #Marley  A ...'"
      ]
     },
     "execution_count": 26,
     "metadata": {},
     "output_type": "execute_result"
    }
   ],
   "source": [
    "text"
   ]
  },
  {
   "cell_type": "code",
   "execution_count": 27,
   "id": "d5713b35-a64b-483b-9933-92c6df91dd69",
   "metadata": {},
   "outputs": [
    {
     "data": {
      "text/plain": [
       "'suka menonton attack on titans! (?????) setiap kamis pukul . di . meski tidak suka kekerasan, tapi cukup menikmati ?! melawan a ...'"
      ]
     },
     "execution_count": 27,
     "metadata": {},
     "output_type": "execute_result"
    }
   ],
   "source": [
    "hasil"
   ]
  },
  {
   "cell_type": "code",
   "execution_count": 28,
   "id": "e1eac19b-0022-49b7-a8d6-b480dde82786",
   "metadata": {},
   "outputs": [
    {
     "name": "stderr",
     "output_type": "stream",
     "text": [
      "<>:3: SyntaxWarning: invalid escape sequence '\\s'\n",
      "<>:3: SyntaxWarning: invalid escape sequence '\\s'\n",
      "C:\\Users\\annis\\AppData\\Local\\Temp\\ipykernel_16144\\607699240.py:3: SyntaxWarning: invalid escape sequence '\\s'\n",
      "  return re.sub('\\s+',' ',hasil)\n"
     ]
    }
   ],
   "source": [
    "#Untuk mengubah beberapa spasi menjadi satu spasi\n",
    "def remove_whitespace_multi(hasil):\n",
    "    return re.sub('\\s+',' ',hasil)"
   ]
  },
  {
   "cell_type": "code",
   "execution_count": 29,
   "id": "94afb578-1dfa-458c-a130-26b3ec69563d",
   "metadata": {},
   "outputs": [
    {
     "data": {
      "text/plain": [
       "'suka menonton attack on titans! (?????) setiap kamis pukul . di . meski tidak suka kekerasan, tapi cukup menikmati ?! melawan a ...'"
      ]
     },
     "execution_count": 29,
     "metadata": {},
     "output_type": "execute_result"
    }
   ],
   "source": [
    "hasil = remove_whitespace_multi(hasil)\n",
    "hasil"
   ]
  },
  {
   "cell_type": "code",
   "execution_count": 30,
   "id": "25762820-9a9f-48b9-af95-c18b978233b7",
   "metadata": {},
   "outputs": [],
   "source": [
    "#menghapus karakter tunggal tertentu dalam sebuah string\n",
    "def remove_single_char(hasil):\n",
    "    return re.sub(r\"\\b[a-zA-Z]\\b\", \"\", hasil)"
   ]
  },
  {
   "cell_type": "code",
   "execution_count": 31,
   "id": "4c193b8d-8851-4826-8276-87532b94abad",
   "metadata": {},
   "outputs": [
    {
     "data": {
      "text/plain": [
       "'suka menonton attack on titans! (?????) setiap kamis pukul . di . meski tidak suka kekerasan, tapi cukup menikmati ?! melawan  ...'"
      ]
     },
     "execution_count": 31,
     "metadata": {},
     "output_type": "execute_result"
    }
   ],
   "source": [
    "hasil = remove_single_char(hasil)\n",
    "hasil"
   ]
  },
  {
   "cell_type": "code",
   "execution_count": 32,
   "id": "4dd6fa08-c3f5-4723-8981-2a74dbfd7c85",
   "metadata": {},
   "outputs": [],
   "source": [
    "#Menghapus titik yang berlebihan\n",
    "def remove_excessive_dot(hasil):\n",
    "    return hasil.replace('...',\" \")"
   ]
  },
  {
   "cell_type": "code",
   "execution_count": 33,
   "id": "528ca05d-562f-433c-aa8a-7c65b0f5d562",
   "metadata": {},
   "outputs": [
    {
     "data": {
      "text/plain": [
       "'suka menonton attack on titans! (?????) setiap kamis pukul . di . meski tidak suka kekerasan, tapi cukup menikmati ?! melawan   '"
      ]
     },
     "execution_count": 33,
     "metadata": {},
     "output_type": "execute_result"
    }
   ],
   "source": [
    "hasil = remove_excessive_dot(hasil)\n",
    "hasil"
   ]
  },
  {
   "cell_type": "code",
   "execution_count": 34,
   "id": "5e5ff15a-14f1-4adf-a539-e4421611ca66",
   "metadata": {},
   "outputs": [],
   "source": [
    "#Menghapus tanda baca (punctuation)\n",
    "def remove_punctuation(hasil):\n",
    "    return hasil.translate(str.maketrans(\"\",\"\",string.punctuation))"
   ]
  },
  {
   "cell_type": "code",
   "execution_count": 35,
   "id": "63a9583d-252e-4e02-a635-c05b163d9b54",
   "metadata": {},
   "outputs": [],
   "source": [
    "hasil = remove_punctuation(hasil)"
   ]
  },
  {
   "cell_type": "code",
   "execution_count": 36,
   "id": "023ca782-b082-49e5-a048-a24e8acbd57c",
   "metadata": {},
   "outputs": [
    {
     "data": {
      "text/plain": [
       "'RT : @alzami1986 suka menonton Attack on Titans! (進撃の巨人) #aot  setiap kamis pukul 21.00 di http://netflix.com/aot . \\\\n meski tidak suka kekerasan, tapi cukup menikmati ?! #EldiaHarusMenang melawan #Marley  A ...'"
      ]
     },
     "execution_count": 36,
     "metadata": {},
     "output_type": "execute_result"
    }
   ],
   "source": [
    "text"
   ]
  },
  {
   "cell_type": "code",
   "execution_count": 37,
   "id": "4b1f0a33-7912-42c0-938d-03d34c2e5d02",
   "metadata": {},
   "outputs": [
    {
     "data": {
      "text/plain": [
       "'suka menonton attack on titans  setiap kamis pukul  di  meski tidak suka kekerasan tapi cukup menikmati  melawan   '"
      ]
     },
     "execution_count": 37,
     "metadata": {},
     "output_type": "execute_result"
    }
   ],
   "source": [
    "hasil"
   ]
  },
  {
   "cell_type": "code",
   "execution_count": 38,
   "id": "357fd718-1d78-4b39-8a57-deae6890f232",
   "metadata": {},
   "outputs": [],
   "source": [
    "#Menghapus spasi berlebihan (lebih dari satu spasi) \n",
    "document = \" saya                    tidak suka sambal     bikin sakit    \""
   ]
  },
  {
   "cell_type": "code",
   "execution_count": 39,
   "id": "9aa8d230-1700-4f0e-96b6-bb79c6d68c40",
   "metadata": {},
   "outputs": [],
   "source": [
    "nowhite = ' '.join(document.split())"
   ]
  },
  {
   "cell_type": "code",
   "execution_count": 40,
   "id": "5b6b49ed-0e82-42c3-829b-ae053ce4524b",
   "metadata": {},
   "outputs": [
    {
     "data": {
      "text/plain": [
       "'saya tidak suka sambal bikin sakit'"
      ]
     },
     "execution_count": 40,
     "metadata": {},
     "output_type": "execute_result"
    }
   ],
   "source": [
    "nowhite"
   ]
  },
  {
   "cell_type": "code",
   "execution_count": null,
   "id": "0a5ac9ba-5bb7-4145-848c-446d8e476613",
   "metadata": {},
   "outputs": [],
   "source": []
  }
 ],
 "metadata": {
  "kernelspec": {
   "display_name": "Python 3 (ipykernel)",
   "language": "python",
   "name": "python3"
  },
  "language_info": {
   "codemirror_mode": {
    "name": "ipython",
    "version": 3
   },
   "file_extension": ".py",
   "mimetype": "text/x-python",
   "name": "python",
   "nbconvert_exporter": "python",
   "pygments_lexer": "ipython3",
   "version": "3.12.4"
  }
 },
 "nbformat": 4,
 "nbformat_minor": 5
}
