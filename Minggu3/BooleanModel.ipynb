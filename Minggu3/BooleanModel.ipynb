{
 "cells": [
  {
   "cell_type": "code",
   "execution_count": 1,
   "id": "0bd86a33-0ffd-48d2-9056-c7574bf13168",
   "metadata": {
    "tags": []
   },
   "outputs": [],
   "source": [
    "import nltk\n",
    "from nltk.corpus import stopwords\n",
    "from nltk.stem import WordNetLemmatizer, PorterStemmer\n",
    "from nltk.tokenize import sent_tokenize , word_tokenize\n",
    "import glob\n",
    "import re\n",
    "import os\n",
    "import numpy as np\n",
    "import sys\n",
    "Stopwords = set(stopwords.words('english'))"
   ]
  },
  {
   "cell_type": "code",
   "execution_count": 2,
   "id": "aa0b41d0-8d2c-4235-b9ef-5fd8aeb1da27",
   "metadata": {
    "tags": []
   },
   "outputs": [
    {
     "name": "stderr",
     "output_type": "stream",
     "text": [
      "<>:14: SyntaxWarning: invalid escape sequence '\\s'\n",
      "<>:14: SyntaxWarning: invalid escape sequence '\\s'\n",
      "C:\\Users\\annis\\AppData\\Local\\Temp\\ipykernel_16080\\612810192.py:14: SyntaxWarning: invalid escape sequence '\\s'\n",
      "  regex = re.compile('[^a-zA-Z0-9\\s]')  # Membuat pola untuk karakter non-alfanumerik\n"
     ]
    }
   ],
   "source": [
    "def finding_all_unique_words_and_freq(words):\n",
    "    words_unique = []  # Membuat list untuk kata-kata unik\n",
    "    word_freq = {}  # Membuat dictionary untuk frekuensi kata\n",
    "    for word in words:  # Looping untuk setiap kata\n",
    "        if word not in words_unique:  # Jika kata belum ada di words_unique\n",
    "            words_unique.append(word)  # Menambahkannya ke words_unique\n",
    "    for word in words_unique:  # Looping untuk menghitung frekuensi setiap kata\n",
    "        word_freq[word] = words.count(word)  # Menghitung frekuensi kata dan menyimpannya\n",
    "    return word_freq  # Mengembalikan dictionary kata dan frekuensinya\n",
    "def finding_freq_of_word_in_doc(word,words):\n",
    "    freq = words.count(word) # Menghitung frekuensi kata\n",
    "        \n",
    "def remove_special_characters(text):\n",
    "    regex = re.compile('[^a-zA-Z0-9\\s]')  # Membuat pola untuk karakter non-alfanumerik\n",
    "    text_returned = re.sub(regex, '', text)  # Mengganti karakter non-alfanumerik dengan string kosong\n",
    "    return text_returned  # Mengembalikan teks yang sudah bersih"
   ]
  },
  {
   "cell_type": "code",
   "execution_count": 3,
   "id": "a355cc37-4092-430a-8ae8-6f2625b56acb",
   "metadata": {
    "tags": []
   },
   "outputs": [
    {
     "name": "stdout",
     "output_type": "stream",
     "text": [
      "data\\Badminton.txt\n",
      "data\\BarackObama.txt\n",
      "data\\Baseball.txt\n",
      "data\\Leequanyew.txt\n",
      "data\\NarendraModi.txt\n",
      "data\\Queen_Elizabeth.txt\n",
      "data\\ShinzoAbe.txt\n",
      "data\\Tenis_Meja.txt\n"
     ]
    },
    {
     "name": "stderr",
     "output_type": "stream",
     "text": [
      "<>:31: SyntaxWarning: invalid escape sequence '\\d'\n",
      "<>:31: SyntaxWarning: invalid escape sequence '\\d'\n",
      "C:\\Users\\annis\\AppData\\Local\\Temp\\ipykernel_16080\\3125017928.py:31: SyntaxWarning: invalid escape sequence '\\d'\n",
      "  text = re.sub(re.compile('\\d'), '', text)\n"
     ]
    }
   ],
   "source": [
    "# Inisialisasi list untuk menampung semua kata dan dictionary global untuk menyimpan kata dan frekuensinya\n",
    "all_words = []\n",
    "dict_global = {}\n",
    "\n",
    "# Menentukan folder yang berisi file yang akan diproses\n",
    "file_folder = 'data/*'\n",
    "\n",
    "# Variabel idx digunakan untuk memberi indeks pada file yang diproses\n",
    "idx = 1\n",
    "\n",
    "# Dictionary untuk menyimpan nama file yang diproses beserta indeksnya\n",
    "files_with_index = {}\n",
    "\n",
    "# Menggunakan glob untuk mendapatkan semua file dalam folder yang ditentukan\n",
    "for file in glob.glob(file_folder):\n",
    "    print(file)  # Menampilkan nama file yang sedang diproses\n",
    "    \n",
    "    # Menyimpan nama file\n",
    "    fname = file\n",
    "    \n",
    "    # Membuka file dengan encoding UTF-8 untuk menghindari masalah karakter\n",
    "    file = open(file , \"r\", encoding=\"utf-8\")\n",
    "    \n",
    "    # Membaca isi file\n",
    "    text = file.read()\n",
    "    \n",
    "    # Menghapus karakter-karakter spesial dari teks (seperti tanda baca, simbol)\n",
    "    text = remove_special_characters(text)\n",
    "    \n",
    "    # Menghapus angka dari teks\n",
    "    text = re.sub(re.compile('\\d'), '', text)\n",
    "    \n",
    "    # Memecah teks menjadi kalimat-kalimat menggunakan sent_tokenize\n",
    "    sentences = sent_tokenize(text)\n",
    "    \n",
    "    # Memecah teks menjadi kata-kata menggunakan word_tokenize\n",
    "    words = word_tokenize(text)\n",
    "    \n",
    "    # Menghapus kata yang hanya terdiri dari satu karakter\n",
    "    words = [word for word in words if len(words) > 1]\n",
    "    \n",
    "    # Mengubah semua kata menjadi huruf kecil (lowercase)\n",
    "    words = [word.lower() for word in words]\n",
    "    \n",
    "    # Menghapus kata-kata yang termasuk dalam stopwords\n",
    "    words = [word for word in words if word not in Stopwords]\n",
    "    \n",
    "    # Menambahkan hasil pencarian kata dan frekuensinya ke dalam dictionary global\n",
    "    dict_global.update(finding_all_unique_words_and_freq(words))\n",
    "    \n",
    "    # Menyimpan nama file yang diproses beserta indeksnya\n",
    "    files_with_index[idx] = os.path.basename(fname)\n",
    "    \n",
    "    # Menambah indeks untuk file selanjutnya\n",
    "    idx = idx + 1\n",
    "\n",
    "# Menyimpan semua kata unik dari semua file yang sudah diproses dalam bentuk set\n",
    "unique_words_all = set(dict_global.keys())"
   ]
  },
  {
   "cell_type": "code",
   "execution_count": 4,
   "id": "3ba2475f-1013-4cbc-b9b7-007766d893a6",
   "metadata": {
    "tags": []
   },
   "outputs": [],
   "source": [
    "class Node:\n",
    "    def __init__(self ,docId, freq = None):\n",
    "        self.freq = freq\n",
    "        self.doc = docId\n",
    "        self.nextval = None\n",
    "    \n",
    "class SlinkedList:\n",
    "    def __init__(self ,head = None):\n",
    "        self.head = head"
   ]
  },
  {
   "cell_type": "code",
   "execution_count": 5,
   "id": "aeaea509-d82e-4679-bbfd-93d65b8d8c36",
   "metadata": {
    "tags": []
   },
   "outputs": [
    {
     "name": "stderr",
     "output_type": "stream",
     "text": [
      "<>:11: SyntaxWarning: invalid escape sequence '\\d'\n",
      "<>:11: SyntaxWarning: invalid escape sequence '\\d'\n",
      "C:\\Users\\annis\\AppData\\Local\\Temp\\ipykernel_16080\\169905845.py:11: SyntaxWarning: invalid escape sequence '\\d'\n",
      "  text = re.sub(re.compile('\\d'),'',text)\n"
     ]
    }
   ],
   "source": [
    "linked_list_data = {}\n",
    "for word in unique_words_all:\n",
    "    linked_list_data[word] = SlinkedList()\n",
    "    linked_list_data[word].head = Node(1,Node)\n",
    "word_freq_in_doc = {}\n",
    "idx = 1\n",
    "for file in glob.glob(file_folder):\n",
    "    file = open(file, \"r\", encoding=\"utf-8\")\n",
    "    text = file.read()\n",
    "    text = remove_special_characters(text)\n",
    "    text = re.sub(re.compile('\\d'),'',text)\n",
    "    sentences = sent_tokenize(text)\n",
    "    words = word_tokenize(text)\n",
    "    words = [word for word in words if len(words)>1]\n",
    "    words = [word.lower() for word in words]\n",
    "    words = [word for word in words if word not in Stopwords]\n",
    "    word_freq_in_doc = finding_all_unique_words_and_freq(words)\n",
    "    for word in word_freq_in_doc.keys():\n",
    "        linked_list = linked_list_data[word].head\n",
    "        while linked_list.nextval is not None:\n",
    "            linked_list = linked_list.nextval\n",
    "        linked_list.nextval = Node(idx ,word_freq_in_doc[word])\n",
    "    idx = idx + 1"
   ]
  },
  {
   "cell_type": "code",
   "execution_count": 7,
   "id": "74ecadb9-7fe8-4321-a736-2d5aa213130a",
   "metadata": {
    "tags": []
   },
   "outputs": [
    {
     "name": "stdin",
     "output_type": "stream",
     "text": [
      "Enter your query: Baseball\n"
     ]
    },
    {
     "name": "stdout",
     "output_type": "stream",
     "text": [
      "[]\n",
      "baseball\n",
      "[[0, 0, 1, 0, 0, 0, 0, 0]]\n",
      "[]\n"
     ]
    }
   ],
   "source": [
    "# Minta input query dari pengguna\n",
    "query = input('Enter your query:')\n",
    "\n",
    "# Tokenisasi input query menjadi kata-kata\n",
    "query = word_tokenize(query)\n",
    "\n",
    "# Siapkan list untuk kata penghubung, kata yang berbeda, dan operasi bitwise\n",
    "connecting_words = [] \n",
    "cnt = 1\n",
    "different_words = []\n",
    "bitwise_op = []\n",
    "\n",
    "# Pisahkan kata yang menghubungkan (and, or, not) dan kata yang berbeda\n",
    "for word in query:\n",
    "    if word.lower() != \"and\" and word.lower() != \"or\" and word.lower() != \"not\":\n",
    "        different_words.append(word.lower())  # Tambahkan ke kata yang berbeda\n",
    "    else:\n",
    "        connecting_words.append(word.lower())  # Tambahkan ke kata penghubung\n",
    "\n",
    "# Cetak kata penghubung\n",
    "print(connecting_words)\n",
    "\n",
    "# Hitung jumlah file\n",
    "total_files = len(files_with_index)\n",
    "zeroes_and_ones = []  # List untuk menyimpan hasil 0 dan 1\n",
    "zeroes_and_ones_of_all_words = []  # List untuk menyimpan hasil semua kata\n",
    "\n",
    "# Proses setiap kata yang berbeda\n",
    "for word in (different_words):\n",
    "    if word.lower() in unique_words_all:  # Jika kata ada dalam daftar kata unik\n",
    "        zeroes_and_ones = [0] * total_files  # Buat list dengan nilai 0 untuk setiap file\n",
    "        linkedlist = linked_list_data[word].head  # Ambil linked list yang berisi file yang mengandung kata ini\n",
    "        print(word)\n",
    "        \n",
    "        # Tandai file yang mengandung kata dengan 1\n",
    "        while linkedlist.nextval is not None:\n",
    "            zeroes_and_ones[linkedlist.nextval.doc - 1] = 1  # Tandai file yang mengandung kata\n",
    "            linkedlist = linkedlist.nextval\n",
    "        zeroes_and_ones_of_all_words.append(zeroes_and_ones)  # Simpan hasilnya\n",
    "    else:\n",
    "        print(word, \"not found\")  # Jika kata tidak ditemukan, keluar dari program\n",
    "        sys.exit()\n",
    "\n",
    "# Print hasilnya\n",
    "print(zeroes_and_ones_of_all_words)\n",
    "\n",
    "# Proses kata penghubung\n",
    "for word in connecting_words:\n",
    "    word_list1 = zeroes_and_ones_of_all_words[0]  # Ambil list untuk kata pertama\n",
    "    word_list2 = zeroes_and_ones_of_all_words[1]  # Ambil list untuk kata kedua\n",
    "\n",
    "    if word == \"and\":  # Operasi \"AND\" pada kedua list\n",
    "        bitwise_op = [w1 & w2 for (w1, w2) in zip(word_list1, word_list2)]\n",
    "        zeroes_and_ones_of_all_words.remove(word_list1)\n",
    "        zeroes_and_ones_of_all_words.remove(word_list2)\n",
    "        zeroes_and_ones_of_all_words.insert(0, bitwise_op)  # Simpan hasilnya\n",
    "    elif word == \"or\":  # Operasi \"OR\" pada kedua list\n",
    "        bitwise_op = [w1 | w2 for (w1, w2) in zip(word_list1, word_list2)]\n",
    "        zeroes_and_ones_of_all_words.remove(word_list1)\n",
    "        zeroes_and_ones_of_all_words.remove(word_list2)\n",
    "        zeroes_and_ones_of_all_words.insert(0, bitwise_op)  # Simpan hasilnya\n",
    "    elif word == \"not\":  # Operasi \"NOT\" pada list kedua\n",
    "        bitwise_op = [not w1 for w1 in word_list2]\n",
    "        bitwise_op = [int(b == True) for b in bitwise_op]  # Konversi hasil menjadi 1 atau 0\n",
    "        zeroes_and_ones_of_all_words.remove(word_list2)\n",
    "        zeroes_and_ones_of_all_words.remove(word_list1)\n",
    "        bitwise_op = [w1 & w2 for (w1, w2) in zip(word_list1, bitwise_op)]  # Gabungkan hasil NOT dengan list pertama\n",
    "\n",
    "# Simpan hasil akhir\n",
    "zeroes_and_ones_of_all_words.insert(0, bitwise_op)\n",
    "\n",
    "# Siapkan list untuk menyimpan file yang sesuai dengan hasil query\n",
    "files = []\n",
    "lis = zeroes_and_ones_of_all_words[0]\n",
    "cnt = 1\n",
    "\n",
    "# Tentukan file yang sesuai dengan hasil operasi\n",
    "for index in lis:\n",
    "    if index == 1:  # Jika hasilnya 1, berarti file tersebut sesuai dengan query\n",
    "        files.append(files_with_index[cnt])  # Tambahkan file ke daftar hasil\n",
    "    cnt = cnt + 1\n",
    "\n",
    "# Print daftar file yang sesuai dengan query\n",
    "print(files)"
   ]
  },
  {
   "cell_type": "code",
   "execution_count": null,
   "id": "b28590aa-7b5c-407e-8420-ae808e0e4af5",
   "metadata": {},
   "outputs": [],
   "source": []
  }
 ],
 "metadata": {
  "kernelspec": {
   "display_name": "Python 3 (ipykernel)",
   "language": "python",
   "name": "python3"
  },
  "language_info": {
   "codemirror_mode": {
    "name": "ipython",
    "version": 3
   },
   "file_extension": ".py",
   "mimetype": "text/x-python",
   "name": "python",
   "nbconvert_exporter": "python",
   "pygments_lexer": "ipython3",
   "version": "3.12.4"
  }
 },
 "nbformat": 4,
 "nbformat_minor": 5
}
