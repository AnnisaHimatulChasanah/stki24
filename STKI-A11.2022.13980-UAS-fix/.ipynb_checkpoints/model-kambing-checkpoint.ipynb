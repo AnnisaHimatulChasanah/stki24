{
 "cells": [
  {
   "cell_type": "code",
   "execution_count": 1,
   "id": "db08d6fb-6166-4b56-b885-179444c940bb",
   "metadata": {},
   "outputs": [],
   "source": [
    "import pandas as pd\n",
    "import numpy as np\n",
    "import collections\n",
    "import gensim \n",
    "from gensim.models import word2vec, phrases\n",
    "from gensim.parsing.preprocessing import remove_stopwords, strip_punctuation, strip_numeric,\\\n",
    "                    strip_non_alphanum, strip_multiple_whitespaces, strip_short\n",
    "from textblob import TextBlob, Word\n",
    "\n",
    "import re\n",
    "import matplotlib.pyplot as plt\n",
    "import matplotlib.patches as mpatches\n",
    "import seaborn as sns\n",
    "%matplotlib inline"
   ]
  },
  {
   "cell_type": "code",
   "execution_count": 2,
   "id": "fb3b8a69-3c39-4e58-9831-98d6cd7231b7",
   "metadata": {},
   "outputs": [
    {
     "name": "stdout",
     "output_type": "stream",
     "text": [
      " -  .ipynb_checkpoints\n",
      " -  data_indo\n",
      " -  env\n",
      " -  model-ayam.ipynb\n",
      " -  model-ikan.ipynb\n",
      " -  model-kambing.ipynb\n",
      " -  model.ipynb\n",
      " -  models\n",
      " -  processed\n",
      " -  requirements.txt\n",
      "found 10 files!\n"
     ]
    }
   ],
   "source": [
    "import os\n",
    "fc=0\n",
    "for el in os.listdir(\".\"):\n",
    "    fc+=1\n",
    "    print(\" - \",el)\n",
    "print(\"found\",fc,\"files!\")"
   ]
  },
  {
   "cell_type": "code",
   "execution_count": 3,
   "id": "53584002-dbb8-4339-aacd-b086912befee",
   "metadata": {},
   "outputs": [],
   "source": [
    "files = [\n",
    "    'data_indo/dataset-ayam.csv',\n",
    "    'data_indo/dataset-ikan.csv',\n",
    "    'data_indo/dataset-kambing.csv',\n",
    "    'data_indo/dataset-sapi.csv',\n",
    "    'data_indo/dataset-tahu.csv',\n",
    "    'data_indo/dataset-tempe.csv',\n",
    "    'data_indo/dataset-telur.csv',\n",
    "    'data_indo/dataset-udang.csv'\n",
    "]"
   ]
  },
  {
   "cell_type": "code",
   "execution_count": 4,
   "id": "fdc03c86-6655-4d6b-8f5f-ca2c242fea91",
   "metadata": {},
   "outputs": [
    {
     "data": {
      "text/html": [
       "<div>\n",
       "<style scoped>\n",
       "    .dataframe tbody tr th:only-of-type {\n",
       "        vertical-align: middle;\n",
       "    }\n",
       "\n",
       "    .dataframe tbody tr th {\n",
       "        vertical-align: top;\n",
       "    }\n",
       "\n",
       "    .dataframe thead th {\n",
       "        text-align: right;\n",
       "    }\n",
       "</style>\n",
       "<table border=\"1\" class=\"dataframe\">\n",
       "  <thead>\n",
       "    <tr style=\"text-align: right;\">\n",
       "      <th></th>\n",
       "      <th>Title</th>\n",
       "      <th>Ingredients</th>\n",
       "      <th>Steps</th>\n",
       "      <th>Loves</th>\n",
       "      <th>URL</th>\n",
       "    </tr>\n",
       "  </thead>\n",
       "  <tbody>\n",
       "    <tr>\n",
       "      <th>0</th>\n",
       "      <td>.Sate Kambing</td>\n",
       "      <td>Bahan-bahan :--500 gr Daging kambing--Daun pep...</td>\n",
       "      <td>1. Cuci bersih daging kambing, potong\" kotak, ...</td>\n",
       "      <td>6</td>\n",
       "      <td>/id/resep/4470066-sate-kambing</td>\n",
       "    </tr>\n",
       "    <tr>\n",
       "      <th>1</th>\n",
       "      <td>Rabeg Kambing</td>\n",
       "      <td>1 kg daging kambing bagian paha beserta tulang...</td>\n",
       "      <td>Tumis bumbu halus hingga harum. Masukan bumbu ...</td>\n",
       "      <td>6</td>\n",
       "      <td>/id/resep/4469170-rabeg-kambing</td>\n",
       "    </tr>\n",
       "    <tr>\n",
       "      <th>2</th>\n",
       "      <td>Gulai kambing</td>\n",
       "      <td>500 gram daging kambing--Bumbu :--sesuai seler...</td>\n",
       "      <td>Rebus dgng kambing dgn jahe krng lbh 20 menit ...</td>\n",
       "      <td>0</td>\n",
       "      <td>/id/resep/4467084-gulai-kambing</td>\n",
       "    </tr>\n",
       "    <tr>\n",
       "      <th>3</th>\n",
       "      <td>Sayur tulang kambing</td>\n",
       "      <td>1.5 kg tulang sumsum kambing(direbus dahulu)ag...</td>\n",
       "      <td>Haluskan bawang merah 5 siung dan 5 bawang put...</td>\n",
       "      <td>1</td>\n",
       "      <td>/id/resep/4458778-sayur-tulang-kambing</td>\n",
       "    </tr>\n",
       "    <tr>\n",
       "      <th>4</th>\n",
       "      <td>Sate Kambing</td>\n",
       "      <td>300 garam daging kambing--1/2 buah jeruk nipis...</td>\n",
       "      <td>Potong daging kambing sesuai selera, beri pera...</td>\n",
       "      <td>7</td>\n",
       "      <td>/id/resep/4462884-sate-kambing</td>\n",
       "    </tr>\n",
       "  </tbody>\n",
       "</table>\n",
       "</div>"
      ],
      "text/plain": [
       "                  Title                                        Ingredients  \\\n",
       "0         .Sate Kambing  Bahan-bahan :--500 gr Daging kambing--Daun pep...   \n",
       "1         Rabeg Kambing  1 kg daging kambing bagian paha beserta tulang...   \n",
       "2         Gulai kambing  500 gram daging kambing--Bumbu :--sesuai seler...   \n",
       "3  Sayur tulang kambing  1.5 kg tulang sumsum kambing(direbus dahulu)ag...   \n",
       "4          Sate Kambing  300 garam daging kambing--1/2 buah jeruk nipis...   \n",
       "\n",
       "                                               Steps  Loves  \\\n",
       "0  1. Cuci bersih daging kambing, potong\" kotak, ...      6   \n",
       "1  Tumis bumbu halus hingga harum. Masukan bumbu ...      6   \n",
       "2  Rebus dgng kambing dgn jahe krng lbh 20 menit ...      0   \n",
       "3  Haluskan bawang merah 5 siung dan 5 bawang put...      1   \n",
       "4  Potong daging kambing sesuai selera, beri pera...      7   \n",
       "\n",
       "                                      URL  \n",
       "0          /id/resep/4470066-sate-kambing  \n",
       "1         /id/resep/4469170-rabeg-kambing  \n",
       "2         /id/resep/4467084-gulai-kambing  \n",
       "3  /id/resep/4458778-sayur-tulang-kambing  \n",
       "4          /id/resep/4462884-sate-kambing  "
      ]
     },
     "execution_count": 4,
     "metadata": {},
     "output_type": "execute_result"
    }
   ],
   "source": [
    "raw = pd.read_csv(r\"data_indo/dataset-kambing.csv\")\n",
    "df = raw.copy()\n",
    "df.head()"
   ]
  },
  {
   "cell_type": "code",
   "execution_count": 5,
   "id": "ec41f83e-e2d4-4b6f-88b8-0de78ff92860",
   "metadata": {},
   "outputs": [
    {
     "data": {
      "text/html": [
       "<div>\n",
       "<style scoped>\n",
       "    .dataframe tbody tr th:only-of-type {\n",
       "        vertical-align: middle;\n",
       "    }\n",
       "\n",
       "    .dataframe tbody tr th {\n",
       "        vertical-align: top;\n",
       "    }\n",
       "\n",
       "    .dataframe thead th {\n",
       "        text-align: right;\n",
       "    }\n",
       "</style>\n",
       "<table border=\"1\" class=\"dataframe\">\n",
       "  <thead>\n",
       "    <tr style=\"text-align: right;\">\n",
       "      <th></th>\n",
       "      <th>Title</th>\n",
       "      <th>Ingredients</th>\n",
       "      <th>Steps</th>\n",
       "      <th>Loves</th>\n",
       "    </tr>\n",
       "  </thead>\n",
       "  <tbody>\n",
       "    <tr>\n",
       "      <th>0</th>\n",
       "      <td>.Sate Kambing</td>\n",
       "      <td>Bahan-bahan :--500 gr Daging kambing--Daun pep...</td>\n",
       "      <td>1. Cuci bersih daging kambing, potong\" kotak, ...</td>\n",
       "      <td>6</td>\n",
       "    </tr>\n",
       "    <tr>\n",
       "      <th>1</th>\n",
       "      <td>Rabeg Kambing</td>\n",
       "      <td>1 kg daging kambing bagian paha beserta tulang...</td>\n",
       "      <td>Tumis bumbu halus hingga harum. Masukan bumbu ...</td>\n",
       "      <td>6</td>\n",
       "    </tr>\n",
       "    <tr>\n",
       "      <th>2</th>\n",
       "      <td>Gulai kambing</td>\n",
       "      <td>500 gram daging kambing--Bumbu :--sesuai seler...</td>\n",
       "      <td>Rebus dgng kambing dgn jahe krng lbh 20 menit ...</td>\n",
       "      <td>0</td>\n",
       "    </tr>\n",
       "    <tr>\n",
       "      <th>3</th>\n",
       "      <td>Sayur tulang kambing</td>\n",
       "      <td>1.5 kg tulang sumsum kambing(direbus dahulu)ag...</td>\n",
       "      <td>Haluskan bawang merah 5 siung dan 5 bawang put...</td>\n",
       "      <td>1</td>\n",
       "    </tr>\n",
       "    <tr>\n",
       "      <th>4</th>\n",
       "      <td>Sate Kambing</td>\n",
       "      <td>300 garam daging kambing--1/2 buah jeruk nipis...</td>\n",
       "      <td>Potong daging kambing sesuai selera, beri pera...</td>\n",
       "      <td>7</td>\n",
       "    </tr>\n",
       "  </tbody>\n",
       "</table>\n",
       "</div>"
      ],
      "text/plain": [
       "                  Title                                        Ingredients  \\\n",
       "0         .Sate Kambing  Bahan-bahan :--500 gr Daging kambing--Daun pep...   \n",
       "1         Rabeg Kambing  1 kg daging kambing bagian paha beserta tulang...   \n",
       "2         Gulai kambing  500 gram daging kambing--Bumbu :--sesuai seler...   \n",
       "3  Sayur tulang kambing  1.5 kg tulang sumsum kambing(direbus dahulu)ag...   \n",
       "4          Sate Kambing  300 garam daging kambing--1/2 buah jeruk nipis...   \n",
       "\n",
       "                                               Steps  Loves  \n",
       "0  1. Cuci bersih daging kambing, potong\" kotak, ...      6  \n",
       "1  Tumis bumbu halus hingga harum. Masukan bumbu ...      6  \n",
       "2  Rebus dgng kambing dgn jahe krng lbh 20 menit ...      0  \n",
       "3  Haluskan bawang merah 5 siung dan 5 bawang put...      1  \n",
       "4  Potong daging kambing sesuai selera, beri pera...      7  "
      ]
     },
     "execution_count": 5,
     "metadata": {},
     "output_type": "execute_result"
    }
   ],
   "source": [
    "#we keep the Translated versions of Ingredients and Instructions (already pre-processed data)\n",
    "columns_to_drop = ['URL']\n",
    "df_indoRecipes = df.drop(columns = columns_to_drop).dropna()\n",
    "\n",
    "df_indoRecipes.head()"
   ]
  },
  {
   "cell_type": "code",
   "execution_count": 6,
   "id": "7e3fb99d-ff5f-4bb4-ab87-4f3018b7fe8d",
   "metadata": {},
   "outputs": [
    {
     "data": {
      "image/png": "[encoded data removed]",
      "text/plain": [
       "<Figure size 800x400 with 1 Axes>"
      ]
     },
     "metadata": {},
     "output_type": "display_data"
    }
   ],
   "source": [
    "bins = [0, 10, 20, 30, 40, 50, 60, 70, 80, 90, 100]  # You can adjust these ranges based on your data\n",
    "labels = ['0-10', '11-20', '21-30', '31-40', '41-50', '51-60', '61-70', '71-80', '81-90', '91-100']\n",
    "\n",
    "df_indoRecipes['Loves_bin'] = pd.cut(df_indoRecipes['Loves'], bins=bins, labels=labels, right=True)\n",
    "\n",
    "# Count frequencies in each bin\n",
    "counts = df_indoRecipes['Loves_bin'].value_counts().sort_index()\n",
    "\n",
    "# Create a DataFrame for plotting\n",
    "mc = pd.DataFrame(counts).reset_index()\n",
    "mc.columns = ['Likes Range', 'Frequency']\n",
    "\n",
    "# Plot the data\n",
    "mc.plot(kind='barh', x='Likes Range', color='turquoise', figsize=(8,4))\n",
    "plt.xlabel('Frequency')\n",
    "plt.ylabel('Likes Range')\n",
    "plt.title('Frequency of Recipes by Likes Range')\n",
    "plt.grid(axis='x', linestyle='--', alpha=0.7)\n",
    "plt.show()"
   ]
  },
  {
   "cell_type": "code",
   "execution_count": 7,
   "id": "3248b44d-e833-444d-8856-32cc893d1aab",
   "metadata": {},
   "outputs": [
    {
     "name": "stdout",
     "output_type": "stream",
     "text": [
      "                            File  Row Count\n",
      "0     data_indo/dataset-ayam.csv       1916\n",
      "1     data_indo/dataset-ikan.csv       1932\n",
      "2  data_indo/dataset-kambing.csv       1896\n",
      "3     data_indo/dataset-sapi.csv       1958\n",
      "4     data_indo/dataset-tahu.csv       1985\n",
      "5    data_indo/dataset-tempe.csv       1986\n",
      "6    data_indo/dataset-telur.csv       1974\n",
      "7    data_indo/dataset-udang.csv       1994\n"
     ]
    },
    {
     "data": {
      "image/png": "[encoded data removed]",
      "text/plain": [
       "<Figure size 1000x600 with 1 Axes>"
      ]
     },
     "metadata": {},
     "output_type": "display_data"
    }
   ],
   "source": [
    "row_counts_dict = {}\n",
    "\n",
    "# Read each CSV and count the rows\n",
    "for file in files:\n",
    "    try:\n",
    "        # Read the CSV file\n",
    "        df = pd.read_csv(file)\n",
    "        \n",
    "        # Count the number of rows\n",
    "        row_count = len(df)\n",
    "        \n",
    "        # Store row count in the dictionary\n",
    "        row_counts_dict[file] = row_count\n",
    "    except Exception as e:\n",
    "        print(f\"Error processing {file}: {e}\")\n",
    "\n",
    "# Convert row_counts_dict to a DataFrame for plotting\n",
    "row_counts_df = pd.DataFrame(list(row_counts_dict.items()), columns=['File', 'Row Count'])\n",
    "\n",
    "# Print the row counts DataFrame\n",
    "print(row_counts_df)\n",
    "\n",
    "# Plot the row counts\n",
    "fig, ax = plt.subplots(figsize=(10, 6))\n",
    "\n",
    "# Plotting the row counts\n",
    "row_counts_df.plot(kind='bar', x='File', y='Row Count', ax=ax, color='skyblue', legend=False)\n",
    "plt.title('Row Count Comparison Across CSV Files')\n",
    "plt.xlabel('File')\n",
    "plt.ylabel('Row Count')\n",
    "plt.xticks(rotation=45, ha='right')\n",
    "plt.grid(axis='y', linestyle='--', alpha=0.7)\n",
    "\n",
    "# Adjust layout to fit labels\n",
    "plt.tight_layout()\n",
    "\n",
    "# Show the plot\n",
    "plt.show()"
   ]
  },
  {
   "cell_type": "code",
   "execution_count": 8,
   "id": "600582a0-e0d9-4e39-9f83-e208a81874b6",
   "metadata": {},
   "outputs": [
    {
     "name": "stdout",
     "output_type": "stream",
     "text": [
      "Shape of recipe data: (1548, 5)\n"
     ]
    }
   ],
   "source": [
    "#some more processing, dropping columns in hindi, copied from a notebook in kaggle\n",
    "#df_indoRecipes = df_indoRecipes['TranslatedIngredients']\n",
    "def isEnglish(s):\n",
    "    try:\n",
    "        s.encode(encoding='utf-8').decode('ascii')\n",
    "    except UnicodeDecodeError:\n",
    "        return False\n",
    "    else:\n",
    "        return True\n",
    "    \n",
    "#create boolean mask\n",
    "mask = df_indoRecipes['Ingredients'].apply(isEnglish)\n",
    "df_indoRecipes = df_indoRecipes[mask].dropna()\n",
    "\n",
    "print(\"Shape of recipe data:\",df_indoRecipes.shape)"
   ]
  },
  {
   "cell_type": "code",
   "execution_count": 9,
   "id": "2b2a1d55-2f97-4143-8de0-dd118c9a9b31",
   "metadata": {},
   "outputs": [],
   "source": [
    "#more preprocessing on the text fields\n",
    "df_indoRecipes['Ingredients'] = df_indoRecipes['Ingredients'].apply(lambda x: x.lower())\n",
    "\n",
    "total_ingredients = []\n",
    "all_receipes_ingredients =  []\n",
    "for i in range(len(df_indoRecipes)):\n",
    "    all_ingredients = list()\n",
    "    #split each recipe into different ingredients\n",
    "    try:\n",
    "        ingred = df_indoRecipes.loc[i, \"Ingredients\"][1:-1]\n",
    "    except:\n",
    "        continue;\n",
    "      \n",
    "    for ing in (ingred.split(',')):\n",
    "        ing = remove_stopwords(ing)\n",
    "        ing = strip_numeric(ing)\n",
    "        ing = re.sub(r'\\(.*oz.\\)|(®)|(.*ed)|(.*ly)|tast|sprig|inch|purpose|flmy|taste|boneless|skinless|chunks|fresh|large|cook drain|green|frozen|ground|tablespoon|teaspoon|cup','',ing).strip()\n",
    "        ing = strip_short(ing,2)\n",
    "        ing = strip_multiple_whitespaces(ing)\n",
    "        ing = strip_punctuation(ing)\n",
    "        ing = strip_non_alphanum(ing)\n",
    "        \n",
    "        #convert plurals to singular e.g. tomatoes --> tomato\n",
    "        # ing = (\" \".join(TextBlob(ing).words.singularize()))\n",
    "        if len(ing)>0:\n",
    "            all_ingredients.append(ing)\n",
    "            total_ingredients.append(ing)\n",
    "    all_receipes_ingredients.append(all_ingredients)\n",
    "counts_ingr = collections.Counter(total_ingredients)\n",
    "all_receipes_ingredients.append(all_ingredients)"
   ]
  },
  {
   "cell_type": "code",
   "execution_count": 10,
   "id": "66ba0653-6846-4688-ab62-5303858b0225",
   "metadata": {},
   "outputs": [
    {
     "name": "stdout",
     "output_type": "stream",
     "text": [
      "---- Most Common Ingredients ----\n",
      "[('gula', 40), ('garam', 37), ('gr daging kambing', 31), ('daging kambing', 23), ('ap rasa ', 19), ('ri', 18), ('gram daging kambing', 18), ('ap ', 17), ('kupas', 14), ('geprek  ruas lengkuas', 7), ('daun jeruk', 6), ('lada', 6), ('ap', 6), ('iris  siung bawang merah', 5), ('iris halus  siung bawang putih', 5), ('merica', 5), ('ang', 5), ('gula ', 5), ('lengkuas', 5), ('iris  siung bawang putih', 4), ('iris tipis  siung bawang putih', 4), ('kecap', 4), ('ap rasa', 4), ('cabe rawit', 4), ('cengkeh', 4)]\n",
      "\n",
      "\n",
      "---- Least Common Ingredients ----\n",
      "[('belah  secukupnya cabe hijau ', 1), ('ecukupnya beras basmati', 1), ('sy beras biasa  ml air  daging kambing', 1), ('sy pakai bagian iga  sdm minyak samin', 1), ('sy blue band bumbu yg masuk bersama kambing  siung garlic utuh  anise star bunga lawang  sdm peres kunyit bubuk  sdm garam  sdm gula pasir  batang besar kayu manis  sdt jinten  sdt cardamon  kapulaga hijau  sdt cengkeh utuh  sdt kaldu jamur  sdt merica bubuk bumbu terpisah', 1), ('tumis hingga matang  sdm olive oil  bombay', 1), ('iris  sdm kismis', 1), ('sy genggam ', 1), ('blok bumbu dasar kuning secukupnya garam secukupnya gula  sy skip  lembar daun salam  lembar daun jeruk secukupnya air kaldu sapi  rebusan daging bahan pelengkap daging yang sudah direbus  bisa pakai jeroan sapi kambing telur rebus iris daun bawang emping melinjo goreng bawang merah goreng tahu putih goreng  potong dadu sambal  sesuai selera ', 1), ('daging kambing campur tulang bumbu  ruas jahe  ruas kunyit  sdm ketumbar seujung kalebet  bh bawang merah  bh bawang putih seujung sendok lada cemplungan  bh sereh  lembar salam  ruas kayu manis  bh kapolaga  bh cengkeh  bh biji pala  bh tomat  bh bawang bombai air untuk rebusan daging minyak unruk menumis secukupnya gula garam ', 1)]\n",
      "type counts ingr <class 'collections.Counter'>\n"
     ]
    },
    {
     "data": {
      "text/plain": [
       "<Axes: ylabel='word'>"
      ]
     },
     "execution_count": 10,
     "metadata": {},
     "output_type": "execute_result"
    },
    {
     "data": {
      "image/png": "[encoded data removed]",
      "text/plain": [
       "<Figure size 640x480 with 1 Axes>"
      ]
     },
     "metadata": {},
     "output_type": "display_data"
    }
   ],
   "source": [
    "#find the most common ingredients used across all recipes\n",
    "print (\"---- Most Common Ingredients ----\")\n",
    "print (counts_ingr.most_common(25))\n",
    "\n",
    "print (\"\\n\")\n",
    "#find the most common ingredients used across all recipes\n",
    "print (\"---- Least Common Ingredients ----\")\n",
    "print (counts_ingr.most_common()[-10:])\n",
    "print(\"type counts ingr\",type(counts_ingr))\n",
    "\n",
    "most_common = counts_ingr.most_common(25)\n",
    "mc = pd.DataFrame(most_common, columns=['word', 'frequency'])\n",
    "\n",
    "#print(\"\\nMost common:\\n\", mc)\n",
    "mc.plot(kind='barh', x='word', align='center', color='turquoise')"
   ]
  },
  {
   "cell_type": "code",
   "execution_count": 11,
   "id": "0352ba10-d0bc-4411-862b-fb6ac5ff287a",
   "metadata": {},
   "outputs": [
    {
     "name": "stdout",
     "output_type": "stream",
     "text": [
      "len 1443\n"
     ]
    }
   ],
   "source": [
    "#convert to lower case\n",
    "df_indoRecipes['Steps'] = df_indoRecipes['Steps'].apply(lambda x: x.lower())\n",
    "\n",
    "#total_ingredients = []\n",
    "all_instructions =  []\n",
    "\n",
    "#len(df_indoRecipes)\n",
    "for i in range(len(df_indoRecipes)):\n",
    "    #split each recipe into different ingredients\n",
    "    try:\n",
    "        instrs = df_indoRecipes.loc[i, \"Ingredients\"][1:-1]\n",
    "        #print(\"instrs\\n\",instrs)\n",
    "    except:\n",
    "        continue;      \n",
    "    for instr in (instrs.split('.')):\n",
    "        instr = remove_stopwords(instr)\n",
    "        instr = strip_numeric(instr)\n",
    "        #instr = re.sub(r'\\(.*oz.\\)|(®)|(.*ed)|(.*ly)|tast|sprig|inch|purpose|flmy|taste|boneless|skinless|chunks|fresh|large|cook drain|green|frozen|ground|tablespoon|teaspoon|cup','',ing).strip()\n",
    "        instr = strip_short(instr,2)\n",
    "        instr = strip_multiple_whitespaces(instr)\n",
    "        instr = strip_punctuation(instr)\n",
    "        instr = strip_non_alphanum(instr)\n",
    "        #convert plurals to singular e.g. tomatoes --> tomato\n",
    "        # instr = (\" \".join(TextBlob(instr).words.singularize()))\n",
    "        if len(instr)>0:\n",
    "            all_instructions.append(instr)\n",
    "\n",
    "print(\"len\",len(all_instructions))\n",
    "\n",
    "#formatting the column in a way the gensim takes it\n",
    "all_instructions_splitted = [sentx.split() for sentx in all_instructions]\n",
    "df_indoRecipes.to_pickle(\"processed/df_indoRecipesKambing.pkl\")"
   ]
  },
  {
   "cell_type": "code",
   "execution_count": 12,
   "id": "8b190724-f029-45f9-82f5-ea3096008a16",
   "metadata": {},
   "outputs": [
    {
     "data": {
      "text/plain": [
       "0       1. cuci bersih daging kambing, potong\" kotak, ...\n",
       "1       tumis bumbu halus hingga harum. masukan bumbu ...\n",
       "3       haluskan bawang merah 5 siung dan 5 bawang put...\n",
       "4       potong daging kambing sesuai selera, beri pera...\n",
       "5       bakar kaki kambing utk menghilangkan bulu2 hal...\n",
       "                              ...                        \n",
       "1247    rendam daging kambing dengan air lemon dan kec...\n",
       "1248    rebus daging kambing dengan tambahan batang se...\n",
       "1249    bersihkan daging kambing potong dadu, biar dag...\n",
       "1250    rebus daging kambing (jangan dicuci) beserta e...\n",
       "1251    supaya daging kambing bau nya berkurang, sebel...\n",
       "Name: clean_instructions, Length: 1043, dtype: object"
      ]
     },
     "execution_count": 12,
     "metadata": {},
     "output_type": "execute_result"
    }
   ],
   "source": [
    "#record the number of ingredients for each recipe, \n",
    "#add cleaned instructions for training recipe embeddings\n",
    "#add cleaned ingredients back to original dataframe\n",
    "df_indoRecipes['clean_ingredients'] = pd.Series(all_receipes_ingredients)\n",
    "df_indoRecipes = df_indoRecipes.dropna()\n",
    "df_indoRecipes['ingredient_count'] =  df_indoRecipes.apply(lambda row: len(row['clean_ingredients']), axis = 1)\n",
    "df_indoRecipes['clean_instructions'] = df_indoRecipes['Steps'].apply(lambda x: x.lower())\n",
    "df_indoRecipes['clean_instructions']"
   ]
  },
  {
   "cell_type": "code",
   "execution_count": 13,
   "id": "7e1029fb-27be-4560-be08-cb1d258cab84",
   "metadata": {},
   "outputs": [],
   "source": [
    "df_indoRecipes.to_pickle(\"processed/df_indoRecipesKambing.pkl\")"
   ]
  },
  {
   "cell_type": "code",
   "execution_count": 14,
   "id": "5614184d-9d2c-4bfe-bdd5-ab49a161633c",
   "metadata": {},
   "outputs": [
    {
     "data": {
      "text/plain": [
       "[['parut', 'nanas'],\n",
       " ['kemudian',\n",
       "  'peras',\n",
       "  'dan',\n",
       "  'saring',\n",
       "  'airnya',\n",
       "  'letakkan',\n",
       "  'di',\n",
       "  'piring',\n",
       "  'ceper',\n",
       "  'sisihkan',\n",
       "  'lumuri',\n",
       "  'daging',\n",
       "  'yg',\n",
       "  'sudah',\n",
       "  'dipotong',\n",
       "  'agak',\n",
       "  'besar',\n",
       "  'sekitar',\n",
       "  'x',\n",
       "  'dengan',\n",
       "  'bumbu',\n",
       "  'halus',\n",
       "  'dan',\n",
       "  'sdm',\n",
       "  'kecap'],\n",
       " ['diamkan',\n",
       "  'sebentar',\n",
       "  'sekitar',\n",
       "  'jam',\n",
       "  'dlm',\n",
       "  'refrigator',\n",
       "  'agar',\n",
       "  'bumbu',\n",
       "  'meresap',\n",
       "  'rangkai',\n",
       "  'daging',\n",
       "  'dgn',\n",
       "  'menusuk',\n",
       "  'daging',\n",
       "  'dgn',\n",
       "  'tusukannya',\n",
       "  'letakkan',\n",
       "  'telapak',\n",
       "  'tangan',\n",
       "  'pada',\n",
       "  'air',\n",
       "  'nanas'],\n",
       " ['tipis'],\n",
       " ['kemudian', 'tempelkan', 'telapak', 'tangan', 'pd', 'sate'],\n",
       " ['lakukan', 'merata', 'pd', 'semua', 'sate'],\n",
       " ['bolak',\n",
       "  'balik',\n",
       "  'cukup',\n",
       "  'lakukan',\n",
       "  'sekali',\n",
       "  'agar',\n",
       "  'daging',\n",
       "  'tdk',\n",
       "  'hilang',\n",
       "  'cita',\n",
       "  'rasanya',\n",
       "  'panaskan',\n",
       "  'arang',\n",
       "  'utk',\n",
       "  'bakaran',\n",
       "  'sate',\n",
       "  'bakar',\n",
       "  'sate',\n",
       "  'setengah',\n",
       "  'matang'],\n",
       " ['kemudian',\n",
       "  'balur',\n",
       "  'dgn',\n",
       "  'kecap',\n",
       "  'manis',\n",
       "  'yg',\n",
       "  'dicampur',\n",
       "  'mentega',\n",
       "  'dan',\n",
       "  'bakar',\n",
       "  'lagi',\n",
       "  'hingga',\n",
       "  'matang',\n",
       "  'cara',\n",
       "  'membuat',\n",
       "  'sambal',\n",
       "  'kecap',\n",
       "  'campur',\n",
       "  'semua',\n",
       "  'bahan'],\n",
       " ['tambahkan',\n",
       "  'perasan',\n",
       "  'jeruk',\n",
       "  'sambal',\n",
       "  'sajikan',\n",
       "  'sate',\n",
       "  'kambing',\n",
       "  'dgn',\n",
       "  'siraman',\n",
       "  'sambal',\n",
       "  'kecap',\n",
       "  'catatan'],\n",
       " ['karena', 'daging', 'mudah', 'empuk'],\n",
       " ['hati',\n",
       "  'saat',\n",
       "  'membakarnya',\n",
       "  'agar',\n",
       "  'daging',\n",
       "  'tdk',\n",
       "  'lepas',\n",
       "  'dr',\n",
       "  'tusukannya',\n",
       "  'saat',\n",
       "  'membakar']]"
      ]
     },
     "execution_count": 14,
     "metadata": {},
     "output_type": "execute_result"
    }
   ],
   "source": [
    "#function to process the column 'recipe' to the format of list-of-lists\n",
    "import re\n",
    "from gensim.parsing.preprocessing import remove_stopwords, strip_punctuation, strip_numeric, strip_non_alphanum, strip_multiple_whitespaces, strip_short\n",
    "\n",
    "def process_recipe(recipe):\n",
    "    recipeProcessed = []\n",
    "    for ing in (recipe.split(',')):\n",
    "        ing = remove_stopwords(ing)\n",
    "        ing = strip_numeric(ing)\n",
    "        ing = re.sub(r'\\(.*oz.\\)|(®)|(.*ed)|(.*ly)|tast|sprig|inch|purpose|flmy|taste|boneless|skinless|chunks|fresh|large|cook drain|green|frozen|ground|tablespoon|teaspoon|recipe|cup','',ing).strip()\n",
    "        ing = strip_short(ing,2)\n",
    "        ing = strip_multiple_whitespaces(ing)\n",
    "        ing = strip_punctuation(ing)\n",
    "        ing = strip_non_alphanum(ing)\n",
    "        if ing:\n",
    "            #print(\"ing\",ing)\n",
    "            recipeProcessed.append(ing)\n",
    "    #print(\"recipeProcessed\",len(recipeProcessed),recipeProcessed)\n",
    "    return [oneInstr.split() for oneInstr in recipeProcessed]\n",
    "\n",
    "process_recipe(df_indoRecipes['clean_instructions'][11])"
   ]
  },
  {
   "cell_type": "code",
   "execution_count": 15,
   "id": "8b1efcbd-3869-46a4-a1df-96a016348bae",
   "metadata": {},
   "outputs": [
    {
     "name": "stdout",
     "output_type": "stream",
     "text": [
      "[['ikit', 'sajikan', 'dengan', 'nasi', 'dan', 'pelebgkap']]\n"
     ]
    }
   ],
   "source": [
    "#adding clean instructions\n",
    "df_indoRecipes['clean_instructions'] = df_indoRecipes['clean_instructions'].apply(lambda x:process_recipe(x))\n",
    "print(df_indoRecipes['clean_instructions'][1])"
   ]
  },
  {
   "cell_type": "code",
   "execution_count": 16,
   "id": "a172adb2-685c-45d2-b17d-458bdaf8ac75",
   "metadata": {},
   "outputs": [
    {
     "name": "stdout",
     "output_type": "stream",
     "text": [
      "[['cuci', 'bersih', 'daging', 'kambing', 'potong', 'kotak', 'bungkus', 'didalam', 'lapisan', 'daun', 'pepaya', 'menit', 'setelah', 'menit', 'keluarkan', 'daging', 'dr', 'daun', 'pepaya', 'campurkan', 'dengan', 'bumbu', 'yang', 'sudah', 'dihaluskan', 'diamkan', 'menit', 'susun', 'daging', 'pada', 'tusuk', 'sate', 'kurlen', 'potong', 'tusuk', 'bakar', 'bisa', 'pakai', 'arang', 'teflon', 'bolak', 'balik', 'sate', 'hingga', 'benar', 'matang', 'sajikan', 'dengan', 'sambal', 'kecap'], ['ikit', 'sajikan', 'dengan', 'nasi', 'dan', 'pelebgkap'], ['ikit', 'minyak', 'goreng', 'masukkan', 'irisan', 'cabe', 'besar', 'merah', 'hijau', 'serta', 'bawang', 'putih', 'dan', 'merah', 'sampai', 'setengah', 'matang', 'lalu', 'masukkan', 'cabe', 'miri', 'bawang', 'merah', 'dan', 'bwang', 'putih', 'yg', 'telah', 'di', 'haluskan', 'ikit', 'air', 'pada', 'tumisan', 'tadi', 'lalu', 'masukkan', 'sayuran', 'beserta', 'tulang', 'sumsum', 'kambing', 'yg', 'sudah', 'di', 'rebus', 'tadi', 'terakhir', 'masukkan', 'santan', 'garam', 'bungkus', 'masako', 'gula', 'putih', 'tunggu', 'sampai', 'mendidih', 'aduh', 'terus', 'agar', 'santannya', 'tidak', 'pecah', 'matikan', 'kompor', 'sayur', 'tulang', 'kambing', 'siap', 'di', 'hidangkan']]\n"
     ]
    }
   ],
   "source": [
    "# Menggabungkan instruksi yang terpecah menjadi satu list per resep\n",
    "all_Sentences = []\n",
    "for instructions in df_indoRecipes['clean_instructions']:\n",
    "    # Gabungkan semua bagian instruksi dari setiap resep\n",
    "    combined_instructions = [word for sentence in instructions for word in sentence]\n",
    "    all_Sentences.append(combined_instructions)\n",
    "\n",
    "# Periksa contoh hasilnya\n",
    "print(all_Sentences[:3])  # Menampilkan 3 resep pertama yang sudah digabungkan\n"
   ]
  },
  {
   "cell_type": "code",
   "execution_count": 17,
   "id": "f2c60ad2-d351-412f-98f9-9aae82cbae59",
   "metadata": {},
   "outputs": [
    {
     "name": "stdout",
     "output_type": "stream",
     "text": [
      "<class 'list'>\n",
      "<class 'list'>\n",
      "['ikit', 'minyak', 'goreng', 'masukkan', 'irisan', 'cabe', 'besar', 'merah', 'hijau', 'serta', 'bawang', 'putih', 'dan', 'merah', 'sampai', 'setengah', 'matang', 'lalu', 'masukkan', 'cabe', 'miri', 'bawang', 'merah', 'dan', 'bwang', 'putih', 'yg', 'telah', 'di', 'haluskan', 'ikit', 'air', 'pada', 'tumisan', 'tadi', 'lalu', 'masukkan', 'sayuran', 'beserta', 'tulang', 'sumsum', 'kambing', 'yg', 'sudah', 'di', 'rebus', 'tadi', 'terakhir', 'masukkan', 'santan', 'garam', 'bungkus', 'masako', 'gula', 'putih', 'tunggu', 'sampai', 'mendidih', 'aduh', 'terus', 'agar', 'santannya', 'tidak', 'pecah', 'matikan', 'kompor', 'sayur', 'tulang', 'kambing', 'siap', 'di', 'hidangkan']\n"
     ]
    }
   ],
   "source": [
    "all_Sentences = []\n",
    "for instructions in df_indoRecipes['clean_instructions']:\n",
    "    # Gabungkan semua bagian instruksi dari setiap resep\n",
    "    combined_instructions = [word for sentence in instructions for word in sentence]\n",
    "    all_Sentences.append(combined_instructions)\n",
    "\n",
    "# Cek apakah all_Sentences adalah list of lists\n",
    "print(type(all_Sentences))  # Seharusnya <class 'list'>\n",
    "print(type(all_Sentences[1]))  # Seharusnya <class 'list'>\n",
    "print(all_Sentences[2])"
   ]
  },
  {
   "cell_type": "code",
   "execution_count": 18,
   "id": "c98972ce-d3d9-479e-86fb-6d9539b226b4",
   "metadata": {},
   "outputs": [
    {
     "name": "stdout",
     "output_type": "stream",
     "text": [
      "4.3.3\n"
     ]
    }
   ],
   "source": [
    "import gensim\n",
    "print(gensim.__version__)"
   ]
  },
  {
   "cell_type": "code",
   "execution_count": 19,
   "id": "f2957dbc-d16f-4f1c-bf11-df9475c6f2db",
   "metadata": {},
   "outputs": [
    {
     "name": "stdout",
     "output_type": "stream",
     "text": [
      "Jumlah kalimat dalam all_Sentences: 1043\n",
      "Mulai training...\n",
      "Menyimpan model...\n",
      "Model tersimpan.\n"
     ]
    }
   ],
   "source": [
    "from gensim.models import FastText\n",
    "\n",
    "# Inisialisasi model FastText\n",
    "model_indofood_fasttext = FastText(vector_size=100, window=5, min_count=5, workers=4, sg=1)\n",
    "\n",
    "# Bangun vocab dari data\n",
    "print(f\"Jumlah kalimat dalam all_Sentences: {len(all_Sentences)}\")\n",
    "model_indofood_fasttext.build_vocab(corpus_iterable=all_Sentences)\n",
    "\n",
    "# Latih model\n",
    "print(\"Mulai training...\")\n",
    "model_indofood_fasttext.train(corpus_iterable=all_Sentences, total_examples=len(all_Sentences), epochs=5)\n",
    "\n",
    "# Simpan model\n",
    "print(\"Menyimpan model...\")\n",
    "model_indofood_fasttext.save(\"models/model_indofood_fasttext.model\")\n",
    "print(\"Model tersimpan.\")\n"
   ]
  },
  {
   "cell_type": "code",
   "execution_count": 20,
   "id": "b8547175-f5b2-4a4f-839b-c3819bb9ef10",
   "metadata": {},
   "outputs": [
    {
     "name": "stdout",
     "output_type": "stream",
     "text": [
      "70826 words in Recipe based model Corpus!\n"
     ]
    },
    {
     "data": {
      "text/plain": [
       "[('hati', 0.9404703974723816),\n",
       " ('kambing', 0.9394716620445251),\n",
       " ('bentuk', 0.9388616681098938),\n",
       " ('isian', 0.9188475012779236),\n",
       " ('saring', 0.9154915809631348),\n",
       " ('tangan', 0.9134699106216431),\n",
       " ('balungan', 0.9125558733940125),\n",
       " ('kematangan', 0.9100281596183777),\n",
       " ('sementara', 0.9076460003852844),\n",
       " ('kebutuhan', 0.9007567763328552)]"
      ]
     },
     "execution_count": 20,
     "metadata": {},
     "output_type": "execute_result"
    }
   ],
   "source": [
    "#model_indianfood_fasttext.save(\"models/model_indianfood_fasttext.model\")\n",
    "total_words1 = model_indofood_fasttext.corpus_total_words\n",
    "print(total_words1,\"words in Recipe based model Corpus!\")\n",
    "\n",
    "model_indofood_fasttext.wv.most_similar(\"sate kambing\")"
   ]
  },
  {
   "cell_type": "code",
   "execution_count": 21,
   "id": "906cb72e-5af5-47db-b07e-0ea5e33dd8e7",
   "metadata": {},
   "outputs": [
    {
     "data": {
      "text/plain": [
       "[('bentuk', 0.9305068254470825),\n",
       " ('jeroan', 0.91438227891922),\n",
       " ('kambingnya', 0.9123989343643188),\n",
       " ('belimbing', 0.9092428684234619),\n",
       " ('jerohan', 0.9084964394569397),\n",
       " ('tulangan', 0.903849720954895),\n",
       " ('daging', 0.8995052576065063),\n",
       " ('iga', 0.8975823521614075),\n",
       " ('lalu', 0.8963656425476074),\n",
       " ('hati', 0.8928709626197815)]"
      ]
     },
     "execution_count": 21,
     "metadata": {},
     "output_type": "execute_result"
    }
   ],
   "source": [
    "model_indofood_fasttext.wv.most_similar(\"kambing\")"
   ]
  },
  {
   "cell_type": "code",
   "execution_count": 22,
   "id": "8127c1fa-c590-450c-ab9a-deeb3cc5fec8",
   "metadata": {},
   "outputs": [
    {
     "data": {
      "text/plain": [
       "[('bentuk', 0.9305068254470825),\n",
       " ('jeroan', 0.91438227891922),\n",
       " ('kambingnya', 0.9123989343643188),\n",
       " ('belimbing', 0.9092428684234619),\n",
       " ('jerohan', 0.9084964394569397),\n",
       " ('tulangan', 0.903849720954895),\n",
       " ('daging', 0.8995052576065063),\n",
       " ('iga', 0.8975823521614075),\n",
       " ('lalu', 0.8963656425476074),\n",
       " ('hati', 0.8928709626197815)]"
      ]
     },
     "execution_count": 22,
     "metadata": {},
     "output_type": "execute_result"
    }
   ],
   "source": [
    "model_indofood_fasttext.wv.most_similar(\"kambing\")"
   ]
  },
  {
   "cell_type": "code",
   "execution_count": 23,
   "id": "5881dd3b-4a7a-4657-b510-3eb518af900b",
   "metadata": {},
   "outputs": [],
   "source": [
    "#defined functions to get to embeddings for recipes\n",
    "def getSentenceEmbedding(sentence):\n",
    "    countFound = 0\n",
    "    embeddingList = []\n",
    "    for wordx in sentence:\n",
    "        try:\n",
    "            vector1 = model_indofood_fasttext.wv[wordx]\n",
    "            #print(\"word\",wordx, vector1[:3])\n",
    "            embeddingList.append(vector1)\n",
    "            countFound+=1\n",
    "        except:\n",
    "            continue;\n",
    "    sumEmbeddings = sum(embeddingList)\n",
    "    return np.true_divide(sumEmbeddings, countFound)  \n",
    "\n",
    "def getRecipeEmbedding(instruction):\n",
    "    embeddingList = []\n",
    "    for sentence in instruction:\n",
    "        embeddingList.append(getSentenceEmbedding(sentence))\n",
    "    sumEmbeddings = sum(embeddingList)\n",
    "    return np.true_divide(sumEmbeddings, len(instruction))  "
   ]
  },
  {
   "cell_type": "code",
   "execution_count": 24,
   "id": "a547bf35-a7b6-435a-ae18-731be557b628",
   "metadata": {},
   "outputs": [
    {
     "name": "stderr",
     "output_type": "stream",
     "text": [
      "C:\\Users\\annis\\AppData\\Local\\Temp\\ipykernel_5424\\939707801.py:14: RuntimeWarning: invalid value encountered in divide\n",
      "  return np.true_divide(sumEmbeddings, countFound)\n"
     ]
    }
   ],
   "source": [
    "df_indoRecipes['recipe_embedding_fasttext'] =  df_indoRecipes.apply(lambda row: getRecipeEmbedding(row['clean_instructions']), axis = 1)"
   ]
  },
  {
   "cell_type": "code",
   "execution_count": 25,
   "id": "e241b35a-16b9-4a81-8c1e-37dcaf7d07e1",
   "metadata": {},
   "outputs": [
    {
     "data": {
      "text/html": [
       "<div>\n",
       "<style scoped>\n",
       "    .dataframe tbody tr th:only-of-type {\n",
       "        vertical-align: middle;\n",
       "    }\n",
       "\n",
       "    .dataframe tbody tr th {\n",
       "        vertical-align: top;\n",
       "    }\n",
       "\n",
       "    .dataframe thead th {\n",
       "        text-align: right;\n",
       "    }\n",
       "</style>\n",
       "<table border=\"1\" class=\"dataframe\">\n",
       "  <thead>\n",
       "    <tr style=\"text-align: right;\">\n",
       "      <th></th>\n",
       "      <th>Title</th>\n",
       "      <th>Ingredients</th>\n",
       "      <th>Steps</th>\n",
       "      <th>Loves</th>\n",
       "      <th>Loves_bin</th>\n",
       "      <th>clean_ingredients</th>\n",
       "      <th>ingredient_count</th>\n",
       "      <th>clean_instructions</th>\n",
       "      <th>recipe_embedding_fasttext</th>\n",
       "    </tr>\n",
       "  </thead>\n",
       "  <tbody>\n",
       "    <tr>\n",
       "      <th>0</th>\n",
       "      <td>.Sate Kambing</td>\n",
       "      <td>bahan-bahan :--500 gr daging kambing--daun pep...</td>\n",
       "      <td>1. cuci bersih daging kambing, potong\" kotak, ...</td>\n",
       "      <td>6</td>\n",
       "      <td>0-10</td>\n",
       "      <td>[ahan bahan   gr daging kambing daun pepaya bu...</td>\n",
       "      <td>1</td>\n",
       "      <td>[[cuci, bersih, daging, kambing], [potong, kot...</td>\n",
       "      <td>[-0.12734006, -0.070040785, -0.059962656, -0.0...</td>\n",
       "    </tr>\n",
       "    <tr>\n",
       "      <th>1</th>\n",
       "      <td>Rabeg Kambing</td>\n",
       "      <td>1 kg daging kambing bagian paha beserta tulang...</td>\n",
       "      <td>tumis bumbu halus hingga harum. masukan bumbu ...</td>\n",
       "      <td>6</td>\n",
       "      <td>0-10</td>\n",
       "      <td>[daging kambing bagian paha beserta tulang bum...</td>\n",
       "      <td>1</td>\n",
       "      <td>[[ikit, sajikan, dengan, nasi, dan, pelebgkap]]</td>\n",
       "      <td>[0.000858472, -0.14013381, 0.069085434, -0.024...</td>\n",
       "    </tr>\n",
       "    <tr>\n",
       "      <th>3</th>\n",
       "      <td>Sayur tulang kambing</td>\n",
       "      <td>1.5 kg tulang sumsum kambing(direbus dahulu)ag...</td>\n",
       "      <td>haluskan bawang merah 5 siung dan 5 bawang put...</td>\n",
       "      <td>1</td>\n",
       "      <td>0-10</td>\n",
       "      <td>[garam daging kambing  buah jeruk nipis secuku...</td>\n",
       "      <td>1</td>\n",
       "      <td>[[ikit, minyak, goreng], [masukkan, irisan, ca...</td>\n",
       "      <td>[-0.11429536, -0.20159191, -0.023493685, -0.01...</td>\n",
       "    </tr>\n",
       "    <tr>\n",
       "      <th>4</th>\n",
       "      <td>Sate Kambing</td>\n",
       "      <td>300 garam daging kambing--1/2 buah jeruk nipis...</td>\n",
       "      <td>potong daging kambing sesuai selera, beri pera...</td>\n",
       "      <td>7</td>\n",
       "      <td>0-10</td>\n",
       "      <td>[kaki kambing  buah kentang, potpng dadu besar...</td>\n",
       "      <td>3</td>\n",
       "      <td>[[potong, daging, kambing, sesuai, selera], [b...</td>\n",
       "      <td>[-0.10482961, -0.096365236, 0.017764423, -0.05...</td>\n",
       "    </tr>\n",
       "    <tr>\n",
       "      <th>5</th>\n",
       "      <td>Sop Kaki Kambing</td>\n",
       "      <td>4 kaki kambing--2-3 buah kentang, potpng dadu ...</td>\n",
       "      <td>bakar kaki kambing utk menghilangkan bulu2 hal...</td>\n",
       "      <td>9</td>\n",
       "      <td>0-10</td>\n",
       "      <td>[gram iga kambing daging kambing  gram kol bum...</td>\n",
       "      <td>1</td>\n",
       "      <td>[[bakar, kaki, kambing, utk, menghilangkan, bu...</td>\n",
       "      <td>[-0.07022409, -0.17025694, -0.026354767, 0.001...</td>\n",
       "    </tr>\n",
       "  </tbody>\n",
       "</table>\n",
       "</div>"
      ],
      "text/plain": [
       "                  Title                                        Ingredients  \\\n",
       "0         .Sate Kambing  bahan-bahan :--500 gr daging kambing--daun pep...   \n",
       "1         Rabeg Kambing  1 kg daging kambing bagian paha beserta tulang...   \n",
       "3  Sayur tulang kambing  1.5 kg tulang sumsum kambing(direbus dahulu)ag...   \n",
       "4          Sate Kambing  300 garam daging kambing--1/2 buah jeruk nipis...   \n",
       "5      Sop Kaki Kambing  4 kaki kambing--2-3 buah kentang, potpng dadu ...   \n",
       "\n",
       "                                               Steps  Loves Loves_bin  \\\n",
       "0  1. cuci bersih daging kambing, potong\" kotak, ...      6      0-10   \n",
       "1  tumis bumbu halus hingga harum. masukan bumbu ...      6      0-10   \n",
       "3  haluskan bawang merah 5 siung dan 5 bawang put...      1      0-10   \n",
       "4  potong daging kambing sesuai selera, beri pera...      7      0-10   \n",
       "5  bakar kaki kambing utk menghilangkan bulu2 hal...      9      0-10   \n",
       "\n",
       "                                   clean_ingredients  ingredient_count  \\\n",
       "0  [ahan bahan   gr daging kambing daun pepaya bu...                 1   \n",
       "1  [daging kambing bagian paha beserta tulang bum...                 1   \n",
       "3  [garam daging kambing  buah jeruk nipis secuku...                 1   \n",
       "4  [kaki kambing  buah kentang, potpng dadu besar...                 3   \n",
       "5  [gram iga kambing daging kambing  gram kol bum...                 1   \n",
       "\n",
       "                                  clean_instructions  \\\n",
       "0  [[cuci, bersih, daging, kambing], [potong, kot...   \n",
       "1    [[ikit, sajikan, dengan, nasi, dan, pelebgkap]]   \n",
       "3  [[ikit, minyak, goreng], [masukkan, irisan, ca...   \n",
       "4  [[potong, daging, kambing, sesuai, selera], [b...   \n",
       "5  [[bakar, kaki, kambing, utk, menghilangkan, bu...   \n",
       "\n",
       "                           recipe_embedding_fasttext  \n",
       "0  [-0.12734006, -0.070040785, -0.059962656, -0.0...  \n",
       "1  [0.000858472, -0.14013381, 0.069085434, -0.024...  \n",
       "3  [-0.11429536, -0.20159191, -0.023493685, -0.01...  \n",
       "4  [-0.10482961, -0.096365236, 0.017764423, -0.05...  \n",
       "5  [-0.07022409, -0.17025694, -0.026354767, 0.001...  "
      ]
     },
     "execution_count": 25,
     "metadata": {},
     "output_type": "execute_result"
    }
   ],
   "source": [
    "#checking out the new column\n",
    "df_indoRecipes.to_pickle('processed/df_indoRecipesKambing.pkl')\n",
    "df_indoRecipes.head()"
   ]
  },
  {
   "cell_type": "code",
   "execution_count": 26,
   "id": "44a9f506-c549-43df-bdd6-178b6355f377",
   "metadata": {},
   "outputs": [],
   "source": [
    "#finding similar food-items using trained embeddings only\n",
    "\n",
    "from numpy import dot\n",
    "from numpy.linalg import norm\n",
    "\n",
    "def find_Similar_dish(xx,embeddingToUse):\n",
    "    #recipe_embedding_fasttext\n",
    "\n",
    "    a = df_indoRecipes.loc[xx, embeddingToUse]\n",
    "    orn = df_indoRecipes.loc[xx, \"Title\"]\n",
    "    #print(orn,\"\\nGetting most similar dishes based on\",embeddingToUse)\n",
    "    dishtances = {}\n",
    "    for i in range(len(df_indoRecipes)):\n",
    "        if i==xx:\n",
    "            continue;\n",
    "        try:\n",
    "            dn = df_indoRecipes.loc[i, \"Title\"]\n",
    "            b = df_indoRecipes.loc[i, embeddingToUse]\n",
    "            cos_sim = dot(a, b)/(norm(a)*norm(b))\n",
    "            if cos_sim not in dishtances.values():\n",
    "                dishtances[i] = cos_sim\n",
    "        except:\n",
    "            continue;\n",
    "            \n",
    "    dishtances_2 = {k: v for k, v in sorted(dishtances.items(), key=lambda item: item[1], reverse = True)}\n",
    "    mostSimilarDishes = []\n",
    "    countSim = 0\n",
    "    for el in dishtances_2.keys():\n",
    "        mostSimilarDishes.append(el)\n",
    "        countSim+=1\n",
    "        if countSim==10:\n",
    "            break;\n",
    "    return mostSimilarDishes\n",
    "\n",
    "def list_Similar_dishes(xx, embeddingToUse):\n",
    "    dn = df_indoRecipes.loc[xx, \"Title\"]\n",
    "    additionalColumns = ['Loves','Loves_bin']\n",
    "    similarList1 = find_Similar_dish(xx,embeddingToUse)\n",
    "    simResults1 = []\n",
    "\n",
    "    allSuggestedDishNames = []\n",
    "    print(\"got all similar dishes!\")\n",
    "    for simIndex in similarList1:\n",
    "        tempRes = []\n",
    "        dName = df_indoRecipes.loc[simIndex, \"Title\"]\n",
    "        dishName = \" \".join([w for w in dName.split() if w.lower()!='recipe'])\n",
    "        tempRes.append(dishName)\n",
    "        dishNameShort = \" \".join(dishName.split()[-2:])\n",
    "        allSuggestedDishNames.append(dishNameShort)\n",
    "        for col in additionalColumns:\n",
    "            tempRes.append(df_indoRecipes.loc[simIndex, col])\n",
    "        simResults1.append(tempRes)\n",
    "    \n",
    "    additionalColumns.insert(0,\"Dish\")\n",
    "    print(dn)\n",
    "    return(pd.DataFrame(simResults1, columns = additionalColumns),allSuggestedDishNames)"
   ]
  },
  {
   "cell_type": "code",
   "execution_count": 27,
   "id": "6ff04de8-1988-4ae0-b45b-9f353a23698f",
   "metadata": {},
   "outputs": [
    {
     "name": "stdout",
     "output_type": "stream",
     "text": [
      "got all similar dishes!\n",
      "Sate Kambing Simple Empuk #KitaBerbagi\n"
     ]
    },
    {
     "data": {
      "text/html": [
       "<div>\n",
       "<style scoped>\n",
       "    .dataframe tbody tr th:only-of-type {\n",
       "        vertical-align: middle;\n",
       "    }\n",
       "\n",
       "    .dataframe tbody tr th {\n",
       "        vertical-align: top;\n",
       "    }\n",
       "\n",
       "    .dataframe thead th {\n",
       "        text-align: right;\n",
       "    }\n",
       "</style>\n",
       "<table border=\"1\" class=\"dataframe\">\n",
       "  <thead>\n",
       "    <tr style=\"text-align: right;\">\n",
       "      <th></th>\n",
       "      <th>Dish</th>\n",
       "      <th>Loves</th>\n",
       "      <th>Loves_bin</th>\n",
       "    </tr>\n",
       "  </thead>\n",
       "  <tbody>\n",
       "    <tr>\n",
       "      <th>0</th>\n",
       "      <td>Sate Kambing bumbu kecap</td>\n",
       "      <td>33</td>\n",
       "      <td>31-40</td>\n",
       "    </tr>\n",
       "    <tr>\n",
       "      <th>1</th>\n",
       "      <td>Lontong sate kambing</td>\n",
       "      <td>7</td>\n",
       "      <td>0-10</td>\n",
       "    </tr>\n",
       "    <tr>\n",
       "      <th>2</th>\n",
       "      <td>Sate Kambing #KitaBerbagi</td>\n",
       "      <td>6</td>\n",
       "      <td>0-10</td>\n",
       "    </tr>\n",
       "    <tr>\n",
       "      <th>3</th>\n",
       "      <td>Sate kambing manis</td>\n",
       "      <td>30</td>\n",
       "      <td>21-30</td>\n",
       "    </tr>\n",
       "    <tr>\n",
       "      <th>4</th>\n",
       "      <td>Sate kambing Eempukkk endeeessssss</td>\n",
       "      <td>8</td>\n",
       "      <td>0-10</td>\n",
       "    </tr>\n",
       "    <tr>\n",
       "      <th>5</th>\n",
       "      <td>Sate Kambing Empuk Sambel Kecap #KitaBerbagi</td>\n",
       "      <td>32</td>\n",
       "      <td>31-40</td>\n",
       "    </tr>\n",
       "    <tr>\n",
       "      <th>6</th>\n",
       "      <td>Sate kambing</td>\n",
       "      <td>5</td>\n",
       "      <td>0-10</td>\n",
       "    </tr>\n",
       "    <tr>\n",
       "      <th>7</th>\n",
       "      <td>Sate Kambing Maranggi</td>\n",
       "      <td>8</td>\n",
       "      <td>0-10</td>\n",
       "    </tr>\n",
       "    <tr>\n",
       "      <th>8</th>\n",
       "      <td>Kambing Bakar Mentega Sambal Kecap</td>\n",
       "      <td>22</td>\n",
       "      <td>21-30</td>\n",
       "    </tr>\n",
       "    <tr>\n",
       "      <th>9</th>\n",
       "      <td>Sate kambing siram sambal bawang kecap</td>\n",
       "      <td>1</td>\n",
       "      <td>0-10</td>\n",
       "    </tr>\n",
       "  </tbody>\n",
       "</table>\n",
       "</div>"
      ],
      "text/plain": [
       "                                           Dish  Loves Loves_bin\n",
       "0                      Sate Kambing bumbu kecap     33     31-40\n",
       "1                          Lontong sate kambing      7      0-10\n",
       "2                     Sate Kambing #KitaBerbagi      6      0-10\n",
       "3                            Sate kambing manis     30     21-30\n",
       "4            Sate kambing Eempukkk endeeessssss      8      0-10\n",
       "5  Sate Kambing Empuk Sambel Kecap #KitaBerbagi     32     31-40\n",
       "6                                  Sate kambing      5      0-10\n",
       "7                         Sate Kambing Maranggi      8      0-10\n",
       "8            Kambing Bakar Mentega Sambal Kecap     22     21-30\n",
       "9        Sate kambing siram sambal bawang kecap      1      0-10"
      ]
     },
     "execution_count": 27,
     "metadata": {},
     "output_type": "execute_result"
    }
   ],
   "source": [
    "dishNumber = 311\n",
    "res = list_Similar_dishes(dishNumber, \"recipe_embedding_fasttext\")\n",
    "res[0]"
   ]
  },
  {
   "cell_type": "code",
   "execution_count": 28,
   "id": "080f817a-6ec1-4ba9-99cb-31d1ee93102d",
   "metadata": {},
   "outputs": [
    {
     "name": "stdout",
     "output_type": "stream",
     "text": [
      "got all similar dishes!\n",
      "Kari Kambing Khas Aceh\n"
     ]
    },
    {
     "data": {
      "text/html": [
       "<div>\n",
       "<style scoped>\n",
       "    .dataframe tbody tr th:only-of-type {\n",
       "        vertical-align: middle;\n",
       "    }\n",
       "\n",
       "    .dataframe tbody tr th {\n",
       "        vertical-align: top;\n",
       "    }\n",
       "\n",
       "    .dataframe thead th {\n",
       "        text-align: right;\n",
       "    }\n",
       "</style>\n",
       "<table border=\"1\" class=\"dataframe\">\n",
       "  <thead>\n",
       "    <tr style=\"text-align: right;\">\n",
       "      <th></th>\n",
       "      <th>Dish</th>\n",
       "      <th>Loves</th>\n",
       "      <th>Loves_bin</th>\n",
       "    </tr>\n",
       "  </thead>\n",
       "  <tbody>\n",
       "    <tr>\n",
       "      <th>0</th>\n",
       "      <td>Gulai Daging Kambing</td>\n",
       "      <td>19</td>\n",
       "      <td>11-20</td>\n",
       "    </tr>\n",
       "    <tr>\n",
       "      <th>1</th>\n",
       "      <td>Krengsengan Kambing Ala Jawa Timuran</td>\n",
       "      <td>53</td>\n",
       "      <td>51-60</td>\n",
       "    </tr>\n",
       "    <tr>\n",
       "      <th>2</th>\n",
       "      <td>Tongseng Kambing Sekejap</td>\n",
       "      <td>4</td>\n",
       "      <td>0-10</td>\n",
       "    </tr>\n",
       "    <tr>\n",
       "      <th>3</th>\n",
       "      <td>Tongseng kambing</td>\n",
       "      <td>2</td>\n",
       "      <td>0-10</td>\n",
       "    </tr>\n",
       "    <tr>\n",
       "      <th>4</th>\n",
       "      <td>Tengkleng Kambing</td>\n",
       "      <td>20</td>\n",
       "      <td>11-20</td>\n",
       "    </tr>\n",
       "    <tr>\n",
       "      <th>5</th>\n",
       "      <td>Kare Kambing</td>\n",
       "      <td>13</td>\n",
       "      <td>11-20</td>\n",
       "    </tr>\n",
       "    <tr>\n",
       "      <th>6</th>\n",
       "      <td>Krengsengan Tulangan Kambing</td>\n",
       "      <td>43</td>\n",
       "      <td>41-50</td>\n",
       "    </tr>\n",
       "    <tr>\n",
       "      <th>7</th>\n",
       "      <td>Kalio kambing ala MR #kitaberbagi</td>\n",
       "      <td>12</td>\n",
       "      <td>11-20</td>\n",
       "    </tr>\n",
       "    <tr>\n",
       "      <th>8</th>\n",
       "      <td>Gulai kambing #KitaBerbagi</td>\n",
       "      <td>11</td>\n",
       "      <td>11-20</td>\n",
       "    </tr>\n",
       "    <tr>\n",
       "      <th>9</th>\n",
       "      <td>Tongseng Kambing</td>\n",
       "      <td>12</td>\n",
       "      <td>11-20</td>\n",
       "    </tr>\n",
       "  </tbody>\n",
       "</table>\n",
       "</div>"
      ],
      "text/plain": [
       "                                   Dish  Loves Loves_bin\n",
       "0                  Gulai Daging Kambing     19     11-20\n",
       "1  Krengsengan Kambing Ala Jawa Timuran     53     51-60\n",
       "2              Tongseng Kambing Sekejap      4      0-10\n",
       "3                      Tongseng kambing      2      0-10\n",
       "4                     Tengkleng Kambing     20     11-20\n",
       "5                          Kare Kambing     13     11-20\n",
       "6          Krengsengan Tulangan Kambing     43     41-50\n",
       "7     Kalio kambing ala MR #kitaberbagi     12     11-20\n",
       "8            Gulai kambing #KitaBerbagi     11     11-20\n",
       "9                      Tongseng Kambing     12     11-20"
      ]
     },
     "execution_count": 28,
     "metadata": {},
     "output_type": "execute_result"
    }
   ],
   "source": [
    "dishNumber = 567\n",
    "res = list_Similar_dishes(dishNumber, \"recipe_embedding_fasttext\")\n",
    "res[0]"
   ]
  },
  {
   "cell_type": "code",
   "execution_count": 29,
   "id": "42cb9734-8a8c-4ac6-9bc5-afa3a2111957",
   "metadata": {},
   "outputs": [
    {
     "name": "stdout",
     "output_type": "stream",
     "text": [
      "Mean Reciprocal Rank (MRR): 0.4583333333333333\n"
     ]
    }
   ],
   "source": [
    "def mean_reciprocal_rank(results):\n",
    "    \"\"\"\n",
    "    Menghitung Mean Reciprocal Rank (MRR) dari daftar hasil pencarian.\n",
    "    \n",
    "    Parameter:\n",
    "    - results: List of lists. Setiap sublist berisi hasil pencarian yang\n",
    "               berisi True jika hasil tersebut relevan, False jika tidak.\n",
    "    \n",
    "    Returns:\n",
    "    - MRR score (float): Nilai MRR dari semua query.\n",
    "    \"\"\"\n",
    "    reciprocal_ranks = []\n",
    "\n",
    "    for result in results:\n",
    "        found = False\n",
    "        for idx, is_relevant in enumerate(result):\n",
    "            if is_relevant:  # Hasil relevan pertama ditemukan\n",
    "                reciprocal_ranks.append(1 / (idx + 1))  # Rank 1-based\n",
    "                found = True\n",
    "                break\n",
    "        if not found:\n",
    "            reciprocal_ranks.append(0)  # Jika tidak ada hasil relevan\n",
    "\n",
    "    # Menghitung Mean Reciprocal Rank\n",
    "    mrr_score = sum(reciprocal_ranks) / len(results)\n",
    "    return mrr_score\n",
    "\n",
    "# Contoh penggunaan\n",
    "# Hasil pencarian untuk beberapa query\n",
    "search_results = [\n",
    "    [True, False, False],       # Query 1, relevan di posisi 1\n",
    "    [False, False, True],       # Query 2, relevan di posisi 3\n",
    "    [False, True, False],       # Query 3, relevan di posisi 2\n",
    "    [False, False, False],      # Query 4, tidak ada hasil relevan\n",
    "]\n",
    "\n",
    "mrr = mean_reciprocal_rank(search_results)\n",
    "print(\"Mean Reciprocal Rank (MRR):\", mrr)"
   ]
  },
  {
   "cell_type": "code",
   "execution_count": 30,
   "id": "b5175a53-13d8-4502-825a-1ea23502a092",
   "metadata": {},
   "outputs": [
    {
     "name": "stdout",
     "output_type": "stream",
     "text": [
      "Top-2 Accuracy: 0.5\n"
     ]
    }
   ],
   "source": [
    "def top_k_accuracy(results, k):\n",
    "    \"\"\"\n",
    "    Menghitung Top-K Accuracy dari hasil pencarian.\n",
    "    \n",
    "    Parameter:\n",
    "    - results: List of lists. Setiap sublist berisi hasil pencarian yang \n",
    "               berisi True jika hasil tersebut relevan, False jika tidak.\n",
    "    - k: Integer. Menentukan nilai K untuk Top-K Accuracy.\n",
    "    \n",
    "    Returns:\n",
    "    - top_k_acc (float): Nilai Top-K Accuracy dari semua query.\n",
    "    \"\"\"\n",
    "    correct = 0\n",
    "\n",
    "    for result in results:\n",
    "        # Cek apakah ada hasil relevan di K hasil teratas\n",
    "        if any(result[:k]):  # True jika setidaknya satu relevan dalam top-K\n",
    "            correct += 1\n",
    "\n",
    "    # Hitung Top-K Accuracy\n",
    "    top_k_acc = correct / len(results)\n",
    "    return top_k_acc\n",
    "\n",
    "# Contoh penggunaan\n",
    "# Hasil pencarian untuk beberapa query\n",
    "search_results = [\n",
    "    [True, False, False],       # Query 1, relevan di posisi 1\n",
    "    [False, False, True],       # Query 2, relevan di posisi 3\n",
    "    [False, True, False],       # Query 3, relevan di posisi 2\n",
    "    [False, False, False],      # Query 4, tidak ada hasil relevan\n",
    "]\n",
    "\n",
    "# Menghitung Top-K Accuracy untuk K = 2\n",
    "k = 2\n",
    "top_k_acc = top_k_accuracy(search_results, k)\n",
    "print(f\"Top-{k} Accuracy:\", top_k_acc)\n"
   ]
  },
  {
   "cell_type": "code",
   "execution_count": 31,
   "id": "fcb2d5cf-cd93-499b-8599-2c74832f655f",
   "metadata": {},
   "outputs": [
    {
     "name": "stdout",
     "output_type": "stream",
     "text": [
      "NDCG untuk query 1 di posisi 3: 0.9778\n",
      "NDCG untuk query 2 di posisi 3: 0.0848\n"
     ]
    }
   ],
   "source": [
    "import numpy as np\n",
    "\n",
    "def dcg_at_k(relevance_scores, k):\n",
    "    \"\"\"\n",
    "    Menghitung DCG pada posisi k.\n",
    "    \n",
    "    Parameter:\n",
    "    - relevance_scores: Daftar relevansi untuk hasil pencarian.\n",
    "    - k: Posisi yang digunakan untuk menghitung DCG (jumlah hasil yang dipertimbangkan).\n",
    "    \n",
    "    Returns:\n",
    "    - dcg: Nilai DCG pada posisi k.\n",
    "    \"\"\"\n",
    "    relevance_scores = relevance_scores[:k]  # Ambil hanya k hasil teratas\n",
    "    return np.sum([rel / np.log2(i + 2) for i, rel in enumerate(relevance_scores)])\n",
    "\n",
    "def idcg_at_k(relevance_scores, k):\n",
    "    \"\"\"\n",
    "    Menghitung IDCG pada posisi k, yaitu DCG ideal yang dihitung dengan menyusun\n",
    "    relevansi dalam urutan menurun.\n",
    "    \n",
    "    Parameter:\n",
    "    - relevance_scores: Daftar relevansi untuk hasil pencarian.\n",
    "    - k: Posisi yang digunakan untuk menghitung IDCG.\n",
    "    \n",
    "    Returns:\n",
    "    - idcg: Nilai IDCG pada posisi k.\n",
    "    \"\"\"\n",
    "    relevance_scores = sorted(relevance_scores, reverse=True)  # Urutkan relevansi menurun\n",
    "    return dcg_at_k(relevance_scores, k)\n",
    "\n",
    "def ndcg_at_k(relevance_scores, k):\n",
    "    \"\"\"\n",
    "    Menghitung NDCG pada posisi k.\n",
    "    \n",
    "    Parameter:\n",
    "    - relevance_scores: Daftar relevansi untuk hasil pencarian.\n",
    "    - k: Posisi yang digunakan untuk menghitung NDCG.\n",
    "    \n",
    "    Returns:\n",
    "    - ndcg: Nilai NDCG pada posisi k.\n",
    "    \"\"\"\n",
    "    dcg = dcg_at_k(relevance_scores, k)\n",
    "    idcg = idcg_at_k(relevance_scores, k)\n",
    "    return dcg / idcg if idcg > 0 else 0\n",
    "\n",
    "# Contoh penggunaan\n",
    "# Relevansi hasil pencarian untuk query tertentu\n",
    "# Relevansi berkisar dari 0 (tidak relevan) hingga 3 (sangat relevan)\n",
    "relevance_scores_query_1 = [3, 2, 3, 0, 1, 2]\n",
    "relevance_scores_query_2 = [0, 0, 1, 2, 3, 3]\n",
    "\n",
    "# Menghitung NDCG pada posisi k=3 untuk dua query\n",
    "k = 3\n",
    "ndcg_query_1 = ndcg_at_k(relevance_scores_query_1, k)\n",
    "ndcg_query_2 = ndcg_at_k(relevance_scores_query_2, k)\n",
    "\n",
    "print(f\"NDCG untuk query 1 di posisi {k}: {ndcg_query_1:.4f}\")\n",
    "print(f\"NDCG untuk query 2 di posisi {k}: {ndcg_query_2:.4f}\")"
   ]
  },
  {
   "cell_type": "code",
   "execution_count": null,
   "id": "ca7bf548-ab12-4d08-aab4-6db5ff57f57d",
   "metadata": {},
   "outputs": [],
   "source": []
  }
 ],
 "metadata": {
  "kernelspec": {
   "display_name": "Python 3 (ipykernel)",
   "language": "python",
   "name": "python3"
  },
  "language_info": {
   "codemirror_mode": {
    "name": "ipython",
    "version": 3
   },
   "file_extension": ".py",
   "mimetype": "text/x-python",
   "name": "python",
   "nbconvert_exporter": "python",
   "pygments_lexer": "ipython3",
   "version": "3.12.4"
  }
 },
 "nbformat": 4,
 "nbformat_minor": 5
}
